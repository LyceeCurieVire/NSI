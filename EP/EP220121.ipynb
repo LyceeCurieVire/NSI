{
 "cells": [
  {
   "cell_type": "markdown",
   "metadata": {},
   "source": [
    "# Epreuve pratique du vendredi 22 janvier 2021\n",
    "Cette épreuve est composée de deux exercices, notés chacun sur 4 points."
   ]
  },
  {
   "cell_type": "markdown",
   "metadata": {},
   "source": [
    "Prénom NOM : ..................................................................................................."
   ]
  },
  {
   "cell_type": "markdown",
   "metadata": {},
   "source": [
    "**Exercice 1**\n",
    "Restitution d'un algorithme connu."
   ]
  },
  {
   "cell_type": "markdown",
   "metadata": {},
   "source": [
    "**Q1** Ecrire une fonction qui renvoie l' **indice** de l'élément maximal d'un tableau."
   ]
  },
  {
   "cell_type": "code",
   "execution_count": null,
   "metadata": {},
   "outputs": [],
   "source": [
    "def indiceMax(tableau):\n",
    "    \"\"\"\n",
    "    renvoie un entier égal à l'indice du plus grand élément du tableau passé en paramètre,\n",
    "    si le tableau est vide la fonction renvoie -1\n",
    "    >>> indiceMax([3,4,8,5,7,6])\n",
    "    2\n",
    "    >>> indiceMax([])\n",
    "    -1\n",
    "    \"\"\"\n",
    "    if \n",
    "        return -1\n",
    "    else:\n",
    "        \n",
    "        \n",
    "        return"
   ]
  },
  {
   "cell_type": "markdown",
   "metadata": {},
   "source": [
    "**Q2** Qu'est ce qui assure la terminaison de la fonction ? Décrire un invariant de boucle qui assure sa correction. Déterminer sa complexité."
   ]
  },
  {
   "cell_type": "code",
   "execution_count": null,
   "metadata": {},
   "outputs": [],
   "source": []
  },
  {
   "cell_type": "markdown",
   "metadata": {},
   "source": [
    "**Q3** Quel est l'algorithme de tri, quadratique, qui utilise la recherche de l'indice du plus petit élément ? Détailler en français le principe de cet algorithme."
   ]
  },
  {
   "cell_type": "code",
   "execution_count": null,
   "metadata": {},
   "outputs": [],
   "source": []
  },
  {
   "cell_type": "markdown",
   "metadata": {},
   "source": [
    "**Q4** Compléter le tri ci-dessous. Pourquoi ne retourne-t-il rien ?"
   ]
  },
  {
   "cell_type": "code",
   "execution_count": null,
   "metadata": {},
   "outputs": [],
   "source": [
    "def tri(tableau):\n",
    "    for k in range(len(tableau)-1):\n",
    "        #chercher le plus petit élément de tableau [k:]\n",
    "        #l'échanger avec tableau[k]"
   ]
  },
  {
   "cell_type": "code",
   "execution_count": null,
   "metadata": {},
   "outputs": [],
   "source": []
  },
  {
   "cell_type": "markdown",
   "metadata": {},
   "source": [
    "**Exercice 2** Compléter, documenter, tester un programme fourni."
   ]
  },
  {
   "cell_type": "code",
   "execution_count": 3,
   "metadata": {},
   "outputs": [],
   "source": [
    "def somme2(somme,tableau):\n",
    "    \"\"\"\n",
    "    le tableau doit être trié\n",
    "    \"\"\"\n",
    "    i=0\n",
    "    j=len(tableau)-1\n",
    "    while (i<j) and tableau[i]+tableau[j]!=somme:\n",
    "        if tableau[i]+tableau[j]<somme:\n",
    "            i=i+1\n",
    "        else:\n",
    "            j=j-1\n",
    "    if i<j:\n",
    "        return True\n",
    "    else:\n",
    "        return False"
   ]
  },
  {
   "cell_type": "code",
   "execution_count": 5,
   "metadata": {},
   "outputs": [],
   "source": [
    "assert somme2(30,[5,11,16,18,22,28])==False\n",
    "assert somme2(29,[5,11,16,18,22,28])==True"
   ]
  },
  {
   "cell_type": "markdown",
   "metadata": {},
   "source": [
    "**Q1** Compléter la docstring de la fonction `somme2`."
   ]
  },
  {
   "cell_type": "markdown",
   "metadata": {},
   "source": [
    "**Q2** Prouver la terminaison de la fonction."
   ]
  },
  {
   "cell_type": "code",
   "execution_count": null,
   "metadata": {},
   "outputs": [],
   "source": []
  },
  {
   "cell_type": "markdown",
   "metadata": {},
   "source": [
    "**Q3** Compléter le tableau ci-dessous qui donne les valeurs de variables `i` et `j` lors du déroulement de la fonction avec les paramètres `29,[5,11,16,18,22,28]` (oui en html absolument)."
   ]
  },
  {
   "cell_type": "markdown",
   "metadata": {},
   "source": [
    "<style type=\"text/css\">\n",
    "td {\n",
    "  text-align: center;\n",
    "  \n",
    "}\n",
    "table, th, td {\n",
    "  border: 1px solid black;\n",
    "}\n",
    "</style>\n",
    "<table>\n",
    "    <tr>\n",
    "        <th> Etape</th><th>i&lt;j</th><th>tableau[i]+tableau[j]!=somme</th><th>tableau[i]+tableau[j]&lt;somme</th><th>i</th><th>j</th>\n",
    "    </tr>\n",
    "    <tr><td>Initialisation</td><td></td><td></td><td></td><td>0</td><td>5</td></tr>\n",
    "    <tr><td>Premier tour de boucle</td><td style =\" text-align: center;\">True</td><td style= \" text-align: center;\">True</td><td style =\"text-align: center;\">False</td><td></td><td></td></tr>\n",
    "    <tr><td>Second tour de boucle</td><td></td><td></td><td></td><td></td><td></td></tr>\n",
    "    <tr><td></td><td></td><td></td><td></td><td></td><td></td></tr>\n",
    "    <tr><td></td><td></td><td></td><td></td><td></td><td></td></tr>\n",
    "</table>    "
   ]
  },
  {
   "cell_type": "markdown",
   "metadata": {},
   "source": [
    "**Q4** Parmi les valeurs de listeTest, quelles sont celles qui sont la somme de deux éléments du fichier valeurs ? Donner les deux éléments quand c'est le cas."
   ]
  },
  {
   "cell_type": "code",
   "execution_count": 11,
   "metadata": {},
   "outputs": [],
   "source": [
    "with open('valeurs','r') as fichier:\n",
    "    vals=[int(ligne) for ligne in fichier]\n",
    "listeTest=[213,222,258,277,352]"
   ]
  },
  {
   "cell_type": "code",
   "execution_count": null,
   "metadata": {},
   "outputs": [],
   "source": []
  },
  {
   "cell_type": "code",
   "execution_count": null,
   "metadata": {},
   "outputs": [],
   "source": []
  },
  {
   "cell_type": "code",
   "execution_count": null,
   "metadata": {},
   "outputs": [],
   "source": []
  },
  {
   "cell_type": "code",
   "execution_count": null,
   "metadata": {},
   "outputs": [],
   "source": []
  },
  {
   "cell_type": "markdown",
   "metadata": {},
   "source": [
    "Pour info, le fichier `valeurs` a été généré ainsi."
   ]
  },
  {
   "cell_type": "code",
   "execution_count": 8,
   "metadata": {},
   "outputs": [],
   "source": [
    "from random import randint\n",
    "liste=[randint(100,500) for k in range(100)]\n",
    "liste.sort()\n",
    "with open('valeurs','w') as fichier:\n",
    "    for e in liste:\n",
    "        fichier.write(str(e)+'\\n')"
   ]
  },
  {
   "cell_type": "code",
   "execution_count": null,
   "metadata": {},
   "outputs": [],
   "source": []
  },
  {
   "cell_type": "code",
   "execution_count": null,
   "metadata": {},
   "outputs": [],
   "source": []
  },
  {
   "cell_type": "markdown",
   "metadata": {},
   "source": [
    "**Bonus** Ecrire une fonction `somme3` qui cherche si un nombre est la somme de trois nombres d'un tabeau trié ; la fonctions `somme3` peut utiliser `somme2`, et doit avoir une complexité quadratique."
   ]
  },
  {
   "cell_type": "code",
   "execution_count": null,
   "metadata": {},
   "outputs": [],
   "source": []
  },
  {
   "cell_type": "code",
   "execution_count": null,
   "metadata": {},
   "outputs": [],
   "source": []
  }
 ],
 "metadata": {
  "kernelspec": {
   "display_name": "Python 3",
   "language": "python",
   "name": "python3"
  },
  "language_info": {
   "codemirror_mode": {
    "name": "ipython",
    "version": 3
   },
   "file_extension": ".py",
   "mimetype": "text/x-python",
   "name": "python",
   "nbconvert_exporter": "python",
   "pygments_lexer": "ipython3",
   "version": "3.8.5"
  }
 },
 "nbformat": 4,
 "nbformat_minor": 4
}
