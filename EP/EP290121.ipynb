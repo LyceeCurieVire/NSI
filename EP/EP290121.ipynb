{
 "cells": [
  {
   "cell_type": "markdown",
   "metadata": {},
   "source": [
    "# Epreuve pratique du vendredi 29 janvier 2021\n",
    "Cette épreuve est composée de deux exercices, notés chacun sur 4 points."
   ]
  },
  {
   "cell_type": "markdown",
   "metadata": {},
   "source": [
    "Prénom NOM : ..................................................................................................."
   ]
  },
  {
   "cell_type": "markdown",
   "metadata": {},
   "source": [
    "**Exercice 1**\n",
    "Restitution d'un algorithme connu."
   ]
  },
  {
   "cell_type": "markdown",
   "metadata": {},
   "source": [
    "Dans cet exercice on va s'intéresser à un parcours de table, où une table est définie comme une liste de dictionnaires ayant les mêmes clés.\n",
    "\n",
    "Dans un premier temps on charge dans la variable `table` une table à partir d'un fichier au format csv. "
   ]
  },
  {
   "cell_type": "code",
   "execution_count": null,
   "metadata": {},
   "outputs": [],
   "source": [
    "import csv\n",
    "with open('boxo.csv','r') as boxo:\n",
    "    table=[]\n",
    "    lecteur=csv.DictReader(boxo,delimiter=';')\n",
    "    for film in lecteur:\n",
    "        table.append(film)"
   ]
  },
  {
   "cell_type": "code",
   "execution_count": null,
   "metadata": {},
   "outputs": [],
   "source": [
    "table[:5] #on affiche les 5 premières lignes"
   ]
  },
  {
   "cell_type": "markdown",
   "metadata": {},
   "source": [
    "**Q1** Ecrire une fonction qui prend une table et une clé et qui calcule la moyenne des valeurs associées à cette clé."
   ]
  },
  {
   "cell_type": "code",
   "execution_count": null,
   "metadata": {},
   "outputs": [],
   "source": [
    "def moyenne(clef,table):\n",
    "    \"\"\"\n",
    "    Cette fonction calcule la moyenne des valeurs associées à la clef dans la table.\n",
    "    >>> moyenne('x',[{'x':-1,'y':4},{'x':5,'y':2},{'x':8,'y':1},{'x':2,'y':1}])\n",
    "    3.5\n",
    "    >>> moyenne('y',[{'x':-1,'y':4},{'x':5,'y':2},{'x':8,'y':1},{'x':2,'y':1}])\n",
    "    2.0\n",
    "    \"\"\"\n",
    "    return"
   ]
  },
  {
   "cell_type": "code",
   "execution_count": null,
   "metadata": {},
   "outputs": [],
   "source": []
  },
  {
   "cell_type": "markdown",
   "metadata": {},
   "source": [
    "**Q2** Quel est le nombre moyen d'entrées pour les films de la table chargée à partir du fichier ?"
   ]
  },
  {
   "cell_type": "code",
   "execution_count": null,
   "metadata": {},
   "outputs": [],
   "source": []
  },
  {
   "cell_type": "markdown",
   "metadata": {},
   "source": [
    "**Q3** Décrire en Français (ou en Anglais) l'utilité du fragment de code dans la cellule ci-dessous, \n",
    "\n",
    "puis traduire ce fragment de code sous la forme d'une requête SQL."
   ]
  },
  {
   "cell_type": "code",
   "execution_count": null,
   "metadata": {},
   "outputs": [],
   "source": [
    "requete=[]\n",
    "for d in table:\n",
    "    if 'France' in d['Pays']:\n",
    "        requete.append({'rang':d['rang'],'titre':d['titre'],'année':d['annee']})"
   ]
  },
  {
   "cell_type": "code",
   "execution_count": null,
   "metadata": {},
   "outputs": [],
   "source": []
  },
  {
   "cell_type": "code",
   "execution_count": null,
   "metadata": {},
   "outputs": [],
   "source": []
  },
  {
   "cell_type": "markdown",
   "metadata": {},
   "source": [
    "**Q4** Traduire la requête SQL sous la forme d'un fragment de code Python.\n",
    "\n",
    "`SELECT pays, titre FROM table WHERE entrees > 12000000`"
   ]
  },
  {
   "cell_type": "code",
   "execution_count": null,
   "metadata": {},
   "outputs": [],
   "source": []
  },
  {
   "cell_type": "code",
   "execution_count": null,
   "metadata": {},
   "outputs": [],
   "source": []
  },
  {
   "cell_type": "markdown",
   "metadata": {},
   "source": [
    "**Exercice 2** Compléter, documenter, tester un programme fourni."
   ]
  },
  {
   "cell_type": "code",
   "execution_count": null,
   "metadata": {},
   "outputs": [],
   "source": [
    "def recherche(motif,chaine):\n",
    "    n=len(chaine)\n",
    "    p=len(motif)\n",
    "    for indice in range(n-p):\n",
    "        correspondance=0\n",
    "        while correspondance<p and chaine[indice+correspondance]==motif[correspondance]:\n",
    "            correspondance+=1\n",
    "        if correspondance==p:\n",
    "            return indice\n",
    "    return -1"
   ]
  },
  {
   "cell_type": "markdown",
   "metadata": {},
   "source": [
    "**Q5** Documenter la fonction ci-dessus avec une docstring décrivant l'utilité de la fonction et donnant les deux cas d'usage ci-dessous."
   ]
  },
  {
   "cell_type": "code",
   "execution_count": null,
   "metadata": {},
   "outputs": [],
   "source": [
    "recherche('cada','abracadabra')"
   ]
  },
  {
   "cell_type": "code",
   "execution_count": null,
   "metadata": {},
   "outputs": [],
   "source": [
    "recherche('acab','abracadabra')"
   ]
  },
  {
   "cell_type": "markdown",
   "metadata": {},
   "source": [
    "**Q6** Combien de fois, au maximum, la comparaison de deux caractères `chaine[indice+correspondance]==motif[correspondance]` sera-t-elle effectuée, en fonction de `n` et `p` ?"
   ]
  },
  {
   "cell_type": "code",
   "execution_count": null,
   "metadata": {},
   "outputs": [],
   "source": []
  },
  {
   "cell_type": "markdown",
   "metadata": {},
   "source": [
    "**Q7** Combien de décimales de $\\pi$ contient le fichier `pi.txt` ?"
   ]
  },
  {
   "cell_type": "code",
   "execution_count": null,
   "metadata": {},
   "outputs": [],
   "source": [
    "fichier=open('pi.txt','r')\n",
    "lignes=[]\n",
    "for ligne in fichier:\n",
    "    lignes.append(ligne.strip())\n",
    "decimales=''.join(lignes)\n",
    "decimales[:100]"
   ]
  },
  {
   "cell_type": "code",
   "execution_count": null,
   "metadata": {},
   "outputs": [],
   "source": []
  },
  {
   "cell_type": "markdown",
   "metadata": {},
   "source": [
    "**Q8** Trouver la position de la chaîne '14500' dans les décimales de $\\pi$ fournies."
   ]
  },
  {
   "cell_type": "code",
   "execution_count": null,
   "metadata": {},
   "outputs": [],
   "source": [
    "'14500' in decimales"
   ]
  },
  {
   "cell_type": "code",
   "execution_count": null,
   "metadata": {},
   "outputs": [],
   "source": []
  }
 ],
 "metadata": {
  "kernelspec": {
   "display_name": "Python 3",
   "language": "python",
   "name": "python3"
  },
  "language_info": {
   "codemirror_mode": {
    "name": "ipython",
    "version": 3
   },
   "file_extension": ".py",
   "mimetype": "text/x-python",
   "name": "python",
   "nbconvert_exporter": "python",
   "pygments_lexer": "ipython3",
   "version": "3.8.5"
  }
 },
 "nbformat": 4,
 "nbformat_minor": 4
}
