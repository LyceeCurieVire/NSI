{
 "cells": [
  {
   "cell_type": "markdown",
   "metadata": {},
   "source": [
    "# Une introduction à Python\n",
    "\n",
    "Lycée Curie NSI"
   ]
  },
  {
   "cell_type": "markdown",
   "metadata": {},
   "source": [
    "## IDLE\n",
    "\n",
    "On va commencer par utiliser Idle, qu'on peut trouver sur www.python.org\n",
    "(chez vous, prendre Python 3.7.4)."
   ]
  },
  {
   "cell_type": "markdown",
   "metadata": {},
   "source": [
    "## La console\n",
    "\n",
    "Lorsqu'on lance Idle, on arrive devant un prompt >>>\n",
    "\n",
    "On va commencer par utiliser Python en _mode console_ , on verra ensuite son utilisation en mode éditeur.\n",
    "\n",
    "Ci-dessous on propose quelques commandes à entrer dans la console."
   ]
  },
  {
   "cell_type": "code",
   "execution_count": 1,
   "metadata": {},
   "outputs": [
    {
     "data": {
      "text/plain": [
       "4"
      ]
     },
     "execution_count": 1,
     "metadata": {},
     "output_type": "execute_result"
    }
   ],
   "source": [
    "2+2"
   ]
  },
  {
   "cell_type": "code",
   "execution_count": 2,
   "metadata": {},
   "outputs": [
    {
     "name": "stdout",
     "output_type": "stream",
     "text": [
      "Bonjour tout le monde !\n"
     ]
    }
   ],
   "source": [
    "print('Bonjour tout le monde !')"
   ]
  },
  {
   "cell_type": "code",
   "execution_count": 3,
   "metadata": {},
   "outputs": [
    {
     "data": {
      "text/plain": [
       "[0, 1, 4, 9, 16, 25, 36, 49, 64, 81]"
      ]
     },
     "execution_count": 3,
     "metadata": {},
     "output_type": "execute_result"
    }
   ],
   "source": [
    "[k**2 for k in range(10)]"
   ]
  },
  {
   "cell_type": "markdown",
   "metadata": {},
   "source": [
    "Il est possible de saisir plusieurs instructions en une seule ligne, à condition de les séparer par un point-virgule ; sous Idle tous les résultats sont affichés, mais pas avec un notebook Jupyter."
   ]
  },
  {
   "cell_type": "code",
   "execution_count": 4,
   "metadata": {},
   "outputs": [
    {
     "data": {
      "text/plain": [
       "12"
      ]
     },
     "execution_count": 4,
     "metadata": {},
     "output_type": "execute_result"
    }
   ],
   "source": [
    "2+1 ; 3*4"
   ]
  },
  {
   "cell_type": "markdown",
   "metadata": {},
   "source": [
    "## La console comme calculatrice"
   ]
  },
  {
   "cell_type": "code",
   "execution_count": 5,
   "metadata": {},
   "outputs": [
    {
     "data": {
      "text/plain": [
       "-1.5"
      ]
     },
     "execution_count": 5,
     "metadata": {},
     "output_type": "execute_result"
    }
   ],
   "source": [
    "3 + 9*2 - (45/2)"
   ]
  },
  {
   "cell_type": "code",
   "execution_count": 6,
   "metadata": {},
   "outputs": [
    {
     "data": {
      "text/plain": [
       "1.6666666666666667"
      ]
     },
     "execution_count": 6,
     "metadata": {},
     "output_type": "execute_result"
    }
   ],
   "source": [
    "5/3"
   ]
  },
  {
   "cell_type": "code",
   "execution_count": 7,
   "metadata": {},
   "outputs": [
    {
     "data": {
      "text/plain": [
       "(6, 4)"
      ]
     },
     "execution_count": 7,
     "metadata": {},
     "output_type": "execute_result"
    }
   ],
   "source": [
    "34//5 , 34%5 # quotient et reste de la division euclidienne de 34 par 5"
   ]
  },
  {
   "cell_type": "code",
   "execution_count": 8,
   "metadata": {},
   "outputs": [
    {
     "data": {
      "text/plain": [
       "1024"
      ]
     },
     "execution_count": 8,
     "metadata": {},
     "output_type": "execute_result"
    }
   ],
   "source": [
    "2**10 # pour l’exponentiation (et non 2^10)"
   ]
  },
  {
   "cell_type": "code",
   "execution_count": 9,
   "metadata": {},
   "outputs": [
    {
     "data": {
      "text/plain": [
       "16"
      ]
     },
     "execution_count": 9,
     "metadata": {},
     "output_type": "execute_result"
    }
   ],
   "source": [
    "1 + 3 * 5 # la multiplication est prioritaire par rapport à l’addition"
   ]
  },
  {
   "cell_type": "code",
   "execution_count": 10,
   "metadata": {},
   "outputs": [
    {
     "data": {
      "text/plain": [
       "75"
      ]
     },
     "execution_count": 10,
     "metadata": {},
     "output_type": "execute_result"
    }
   ],
   "source": [
    "3 * 5 ** 2 # la puissance est prioritaire par rapport à la multiplication"
   ]
  },
  {
   "cell_type": "markdown",
   "metadata": {},
   "source": [
    "On peut ranger le résultat d'un calcul dans une variable, qu'on pourra ensuite réutiliser.\n",
    "Ce type d'instruction s'appelle une affectation."
   ]
  },
  {
   "cell_type": "code",
   "execution_count": 11,
   "metadata": {},
   "outputs": [],
   "source": [
    "x=5"
   ]
  },
  {
   "cell_type": "code",
   "execution_count": 12,
   "metadata": {},
   "outputs": [],
   "source": [
    "y=3*x**2+2*x+3"
   ]
  },
  {
   "cell_type": "code",
   "execution_count": 13,
   "metadata": {},
   "outputs": [
    {
     "data": {
      "text/plain": [
       "(5, 88)"
      ]
     },
     "execution_count": 13,
     "metadata": {},
     "output_type": "execute_result"
    }
   ],
   "source": [
    "x,y"
   ]
  },
  {
   "cell_type": "markdown",
   "metadata": {},
   "source": [
    "## Importer des fonctions, des constantes\n",
    "Par défaut Python ne connait que peu de fonctions ; si on souhaite utiliser les fonctions mathématiques, on peut aller les chercher dans la bibliothèque adpatée (le module, la library) ; ici il s'agit d'aller chercher les fonctions dans le module *math*"
   ]
  },
  {
   "cell_type": "code",
   "execution_count": 14,
   "metadata": {},
   "outputs": [],
   "source": [
    "import math"
   ]
  },
  {
   "cell_type": "code",
   "execution_count": 15,
   "metadata": {},
   "outputs": [
    {
     "data": {
      "text/plain": [
       "3.0"
      ]
     },
     "execution_count": 15,
     "metadata": {},
     "output_type": "execute_result"
    }
   ],
   "source": [
    "math.sqrt(9)"
   ]
  },
  {
   "cell_type": "code",
   "execution_count": 16,
   "metadata": {},
   "outputs": [
    {
     "data": {
      "text/plain": [
       "10.0"
      ]
     },
     "execution_count": 16,
     "metadata": {},
     "output_type": "execute_result"
    }
   ],
   "source": [
    "math.log(1024,2)"
   ]
  },
  {
   "cell_type": "code",
   "execution_count": 17,
   "metadata": {},
   "outputs": [
    {
     "data": {
      "text/plain": [
       "1024"
      ]
     },
     "execution_count": 17,
     "metadata": {},
     "output_type": "execute_result"
    }
   ],
   "source": [
    "2**10"
   ]
  },
  {
   "cell_type": "markdown",
   "metadata": {},
   "source": [
    "Deux remarques :\n",
    "\n",
    "* la première réponse devrait être le nombre entier 3, mais la fonction racine carré fonctionne avec des valeurs approchées, de même pour la fonction logarithme notée log\n",
    "* la puissance se note ** ainsi 2**10 signifie 2 puissance 10 ; on dit aussi que le logarithme de 1024 en base 2 est 10"
   ]
  },
  {
   "cell_type": "code",
   "execution_count": 18,
   "metadata": {},
   "outputs": [
    {
     "data": {
      "text/plain": [
       "(1000.0, 0.001, 5e-06)"
      ]
     },
     "execution_count": 18,
     "metadata": {},
     "output_type": "execute_result"
    }
   ],
   "source": [
    "1e3, 1e-3, 5e-6"
   ]
  },
  {
   "cell_type": "markdown",
   "metadata": {},
   "source": [
    "Des valeurs séparées par des virgules forment un \"tuple\" (en français on dirait plutôt un n-uplet, généralisation de couple, triplet, quadruplet etc), Python les entoure de parenthèses (la notation usuelle). Ici les éléments du tuple sont des nombres écrits en notation scientifique."
   ]
  },
  {
   "cell_type": "code",
   "execution_count": 19,
   "metadata": {},
   "outputs": [
    {
     "data": {
      "text/plain": [
       "3.141592653589793"
      ]
     },
     "execution_count": 19,
     "metadata": {},
     "output_type": "execute_result"
    }
   ],
   "source": [
    "from math import pi\n",
    "pi"
   ]
  },
  {
   "cell_type": "code",
   "execution_count": 20,
   "metadata": {},
   "outputs": [
    {
     "name": "stdout",
     "output_type": "stream",
     "text": [
      "Désormais pi vaut 2\n"
     ]
    }
   ],
   "source": [
    "pi=2\n",
    "print(f\"Désormais pi vaut {pi}\")"
   ]
  },
  {
   "cell_type": "code",
   "execution_count": 21,
   "metadata": {},
   "outputs": [
    {
     "name": "stdout",
     "output_type": "stream",
     "text": [
      "Pi a repris une valeur plus raisonnable : 3.141592653589793\n"
     ]
    }
   ],
   "source": [
    "pi=math.pi\n",
    "print(f\"Pi a repris une valeur plus raisonnable : {pi}\")"
   ]
  },
  {
   "cell_type": "markdown",
   "metadata": {},
   "source": [
    "On peut modifier la valeur d'une constante !\n",
    "\n",
    "La fonction *print* affiche ici une _f-string_ de la forme f\"...\" ; dans ce type de chaîne, les éléments entre accolades sont évalués par Python."
   ]
  },
  {
   "cell_type": "code",
   "execution_count": 22,
   "metadata": {},
   "outputs": [
    {
     "data": {
      "text/plain": [
       "<module 'math' (built-in)>"
      ]
     },
     "execution_count": 22,
     "metadata": {},
     "output_type": "execute_result"
    }
   ],
   "source": [
    "math"
   ]
  },
  {
   "cell_type": "code",
   "execution_count": 23,
   "metadata": {},
   "outputs": [],
   "source": [
    "import math"
   ]
  },
  {
   "cell_type": "code",
   "execution_count": 24,
   "metadata": {},
   "outputs": [
    {
     "data": {
      "text/plain": [
       "<module 'math' (built-in)>"
      ]
     },
     "execution_count": 24,
     "metadata": {},
     "output_type": "execute_result"
    }
   ],
   "source": [
    "math"
   ]
  },
  {
   "cell_type": "code",
   "execution_count": null,
   "metadata": {},
   "outputs": [],
   "source": [
    "help(math)  #éventuellement quitter en appuyant sur la touche q"
   ]
  },
  {
   "cell_type": "code",
   "execution_count": null,
   "metadata": {},
   "outputs": [],
   "source": [
    "dir(math)"
   ]
  },
  {
   "cell_type": "code",
   "execution_count": 25,
   "metadata": {},
   "outputs": [
    {
     "name": "stdout",
     "output_type": "stream",
     "text": [
      "Help on built-in function hypot in module math:\n",
      "\n",
      "hypot(x, y, /)\n",
      "    Return the Euclidean distance, sqrt(x*x + y*y).\n",
      "\n"
     ]
    }
   ],
   "source": [
    "help(math.hypot)"
   ]
  },
  {
   "cell_type": "code",
   "execution_count": 26,
   "metadata": {},
   "outputs": [
    {
     "data": {
      "text/plain": [
       "2.718281828459045"
      ]
     },
     "execution_count": 26,
     "metadata": {},
     "output_type": "execute_result"
    }
   ],
   "source": [
    "math.exp(1)"
   ]
  },
  {
   "cell_type": "code",
   "execution_count": 27,
   "metadata": {},
   "outputs": [
    {
     "ename": "NameError",
     "evalue": "name 'exp' is not defined",
     "output_type": "error",
     "traceback": [
      "\u001b[1;31m---------------------------------------------------------------------------\u001b[0m",
      "\u001b[1;31mNameError\u001b[0m                                 Traceback (most recent call last)",
      "\u001b[1;32m<ipython-input-27-a9c50c82dfa5>\u001b[0m in \u001b[0;36m<module>\u001b[1;34m\u001b[0m\n\u001b[1;32m----> 1\u001b[1;33m \u001b[0mexp\u001b[0m\u001b[1;33m(\u001b[0m\u001b[1;36m1\u001b[0m\u001b[1;33m)\u001b[0m\u001b[1;33m\u001b[0m\u001b[1;33m\u001b[0m\u001b[0m\n\u001b[0m",
      "\u001b[1;31mNameError\u001b[0m: name 'exp' is not defined"
     ]
    }
   ],
   "source": [
    "exp(1)"
   ]
  },
  {
   "cell_type": "markdown",
   "metadata": {},
   "source": [
    "Avec *import math* on a importé toutes les fonctions du module math ; par contre on doit les utiliser en préfixant leur nom par math, dans la ligne précédente Python n'a pas trouvé la fonction exp."
   ]
  },
  {
   "cell_type": "markdown",
   "metadata": {},
   "source": [
    "On peut aussi importer seulement une ou plusieurs fonctions d'un module, avec la construction ci-dessous, ce qui permet de les utiliser sans les préfixer par le nom du module. Par contre il faut faire attention à ce que des fonctions issues de différents modules ne portent pas le même nom."
   ]
  },
  {
   "cell_type": "code",
   "execution_count": 28,
   "metadata": {},
   "outputs": [],
   "source": [
    "from math import exp  #une fonction importante en sciences"
   ]
  },
  {
   "cell_type": "code",
   "execution_count": 29,
   "metadata": {},
   "outputs": [
    {
     "data": {
      "text/plain": [
       "2.718281828459045"
      ]
     },
     "execution_count": 29,
     "metadata": {},
     "output_type": "execute_result"
    }
   ],
   "source": [
    "exp(1)"
   ]
  },
  {
   "cell_type": "markdown",
   "metadata": {},
   "source": [
    "On peut aussi importer des librairies ou des fonctions, des variables en leur donnant un alias."
   ]
  },
  {
   "cell_type": "code",
   "execution_count": 30,
   "metadata": {},
   "outputs": [],
   "source": [
    "from math import atan as arctan  # tout ce qui suit un dièse est un commentaire\n",
    "                                 # arctan est plus joli que atan"
   ]
  },
  {
   "cell_type": "code",
   "execution_count": 31,
   "metadata": {},
   "outputs": [
    {
     "data": {
      "text/plain": [
       "3.141592653589793"
      ]
     },
     "execution_count": 31,
     "metadata": {},
     "output_type": "execute_result"
    }
   ],
   "source": [
    "arctan(1)*4"
   ]
  },
  {
   "cell_type": "markdown",
   "metadata": {},
   "source": [
    "Python, comme la plupart des langages informatiques, mesure les angles en radians ; un tour complet de 360° mesure 2pi radians, ainsi arctan(1) vaut pi/4 radians soit 45°"
   ]
  },
  {
   "cell_type": "code",
   "execution_count": 32,
   "metadata": {},
   "outputs": [],
   "source": [
    "import matplotlib.pyplot as plt  # voila qui servira très souvent\n",
    "# on pourra alors utiliser les fonctions plt.plot(), plt.show(), plt.bar(), plt.scatter()\n",
    "# évidemment il n'est pas utile de taper tout ces commentaires si vous travaillez dans Idle !"
   ]
  },
  {
   "cell_type": "markdown",
   "metadata": {},
   "source": [
    "Le principal problème auquel on est confronté : on veut utiliser une librairie qui n'est pas installée par défaut dans la distribution qu'on utilise.\n",
    "Les solutions :\n",
    "\n",
    "* installer la librairie à la main *pip install matplotlib* en ligne de commande, ou bien télécharger les fichiers et les installer (désagréable)\n",
    "* utiliser une distribution qui inclut beaucoup de librairies : Anaconda https://www.anaconda.com/ \n",
    "Le téléchargement peut-être long, il y a plus de 600 Mo."
   ]
  },
  {
   "cell_type": "markdown",
   "metadata": {},
   "source": [
    "# Les types de base"
   ]
  },
  {
   "cell_type": "markdown",
   "metadata": {},
   "source": [
    "## Les entiers\n",
    "Un côté sympathique de Python est qu'il n'est pas limité pour le calcul avec des nombres entiers ! "
   ]
  },
  {
   "cell_type": "code",
   "execution_count": 33,
   "metadata": {},
   "outputs": [
    {
     "data": {
      "text/plain": [
       "7"
      ]
     },
     "execution_count": 33,
     "metadata": {},
     "output_type": "execute_result"
    }
   ],
   "source": [
    "2+5"
   ]
  },
  {
   "cell_type": "code",
   "execution_count": 34,
   "metadata": {},
   "outputs": [
    {
     "data": {
      "text/plain": [
       "421200"
      ]
     },
     "execution_count": 34,
     "metadata": {},
     "output_type": "execute_result"
    }
   ],
   "source": [
    "325*1296"
   ]
  },
  {
   "cell_type": "code",
   "execution_count": 35,
   "metadata": {},
   "outputs": [
    {
     "data": {
      "text/plain": [
       "3.5714285714285716"
      ]
     },
     "execution_count": 35,
     "metadata": {},
     "output_type": "execute_result"
    }
   ],
   "source": [
    "25/7"
   ]
  },
  {
   "cell_type": "code",
   "execution_count": 36,
   "metadata": {},
   "outputs": [
    {
     "data": {
      "text/plain": [
       "3"
      ]
     },
     "execution_count": 36,
     "metadata": {},
     "output_type": "execute_result"
    }
   ],
   "source": [
    "25//7"
   ]
  },
  {
   "cell_type": "code",
   "execution_count": 37,
   "metadata": {},
   "outputs": [
    {
     "data": {
      "text/plain": [
       "4"
      ]
     },
     "execution_count": 37,
     "metadata": {},
     "output_type": "execute_result"
    }
   ],
   "source": [
    "25%7"
   ]
  },
  {
   "cell_type": "code",
   "execution_count": 38,
   "metadata": {},
   "outputs": [
    {
     "data": {
      "text/plain": [
       "1125899906842624"
      ]
     },
     "execution_count": 38,
     "metadata": {},
     "output_type": "execute_result"
    }
   ],
   "source": [
    "2**50"
   ]
  },
  {
   "cell_type": "code",
   "execution_count": 39,
   "metadata": {},
   "outputs": [
    {
     "data": {
      "text/plain": [
       "10000000000000000000000000000000000000000000000000000000000000000000000000000000000000000000000000000"
      ]
     },
     "execution_count": 39,
     "metadata": {},
     "output_type": "execute_result"
    }
   ],
   "source": [
    "10**100"
   ]
  },
  {
   "cell_type": "markdown",
   "metadata": {},
   "source": [
    "La division décimale se note avec /, pour la division euclidienne on utilise // pour obtenir le quotient et % pour obtenir le reste ; cela permet de tester la divisibilité."
   ]
  },
  {
   "cell_type": "code",
   "execution_count": 40,
   "metadata": {},
   "outputs": [],
   "source": [
    "a,b,c=13,20,366"
   ]
  },
  {
   "cell_type": "code",
   "execution_count": 41,
   "metadata": {},
   "outputs": [
    {
     "data": {
      "text/plain": [
       "(False, True, True)"
      ]
     },
     "execution_count": 41,
     "metadata": {},
     "output_type": "execute_result"
    }
   ],
   "source": [
    "a%2==0, b%2==0, c%2==0  #les nombres a,b et c sont-ils pairs ?"
   ]
  },
  {
   "cell_type": "code",
   "execution_count": 42,
   "metadata": {},
   "outputs": [
    {
     "data": {
      "text/plain": [
       "(False, False, True)"
      ]
     },
     "execution_count": 42,
     "metadata": {},
     "output_type": "execute_result"
    }
   ],
   "source": [
    "a%3==0, b%3==0, c%3==0  #les nombres a,b et c sont-ils divisibles par 3 ?"
   ]
  },
  {
   "cell_type": "markdown",
   "metadata": {},
   "source": [
    "## Les flottants\n",
    "Les \"flottants\" sont des décimaux écrits en notation scientifique. Attention, Python fait du calcul approché, ce qui donne quelques surprises parfois !"
   ]
  },
  {
   "cell_type": "code",
   "execution_count": 43,
   "metadata": {},
   "outputs": [
    {
     "data": {
      "text/plain": [
       "0.30000000000000004"
      ]
     },
     "execution_count": 43,
     "metadata": {},
     "output_type": "execute_result"
    }
   ],
   "source": [
    "0.1+0.2"
   ]
  },
  {
   "cell_type": "code",
   "execution_count": 44,
   "metadata": {},
   "outputs": [
    {
     "data": {
      "text/plain": [
       "5.289999999999999"
      ]
     },
     "execution_count": 44,
     "metadata": {},
     "output_type": "execute_result"
    }
   ],
   "source": [
    "2.3 **2"
   ]
  },
  {
   "cell_type": "code",
   "execution_count": 45,
   "metadata": {},
   "outputs": [
    {
     "data": {
      "text/plain": [
       "3.0"
      ]
     },
     "execution_count": 45,
     "metadata": {},
     "output_type": "execute_result"
    }
   ],
   "source": [
    "math.sqrt(9) #on suppose qu'on a importé le module math, sqrt = square root"
   ]
  },
  {
   "cell_type": "markdown",
   "metadata": {},
   "source": [
    "## Les booléens\n",
    "Le nom vient de George Boole ; un booléen est une valeur de vérité, soit **vrai**, soit **faux**.\n",
    "On va d'abord utiliser des comparaisons."
   ]
  },
  {
   "cell_type": "code",
   "execution_count": 46,
   "metadata": {},
   "outputs": [
    {
     "data": {
      "text/plain": [
       "(False, True, False)"
      ]
     },
     "execution_count": 46,
     "metadata": {},
     "output_type": "execute_result"
    }
   ],
   "source": [
    "2>5 , 3+4==7 , 0.1+0.2==0.3 #On peut mettre chaque calcul sur une ligne séparée,\n",
    "                            #je ne les regroupe que pour économiser du papier"
   ]
  },
  {
   "cell_type": "code",
   "execution_count": 47,
   "metadata": {},
   "outputs": [],
   "source": [
    "x=10  #on a ici une affectation"
   ]
  },
  {
   "cell_type": "code",
   "execution_count": 48,
   "metadata": {},
   "outputs": [
    {
     "data": {
      "text/plain": [
       "True"
      ]
     },
     "execution_count": 48,
     "metadata": {},
     "output_type": "execute_result"
    }
   ],
   "source": [
    "5<=x<=10"
   ]
  },
  {
   "cell_type": "code",
   "execution_count": 49,
   "metadata": {},
   "outputs": [
    {
     "data": {
      "text/plain": [
       "True"
      ]
     },
     "execution_count": 49,
     "metadata": {},
     "output_type": "execute_result"
    }
   ],
   "source": [
    "x==10    #on a ici une comparaison"
   ]
  },
  {
   "cell_type": "code",
   "execution_count": 50,
   "metadata": {},
   "outputs": [
    {
     "data": {
      "text/plain": [
       "False"
      ]
     },
     "execution_count": 50,
     "metadata": {},
     "output_type": "execute_result"
    }
   ],
   "source": [
    "5<x<10"
   ]
  },
  {
   "cell_type": "code",
   "execution_count": 51,
   "metadata": {},
   "outputs": [
    {
     "data": {
      "text/plain": [
       "False"
      ]
     },
     "execution_count": 51,
     "metadata": {},
     "output_type": "execute_result"
    }
   ],
   "source": [
    "x!=10    #le symbole \"différent de\" essaye de ressembler à un = barré"
   ]
  },
  {
   "cell_type": "code",
   "execution_count": 52,
   "metadata": {},
   "outputs": [
    {
     "ename": "SyntaxError",
     "evalue": "can't assign to operator (<ipython-input-52-f284f5619838>, line 1)",
     "output_type": "error",
     "traceback": [
      "\u001b[1;36m  File \u001b[1;32m\"<ipython-input-52-f284f5619838>\"\u001b[1;36m, line \u001b[1;32m1\u001b[0m\n\u001b[1;33m    3+5=8\u001b[0m\n\u001b[1;37m         ^\u001b[0m\n\u001b[1;31mSyntaxError\u001b[0m\u001b[1;31m:\u001b[0m can't assign to operator\n"
     ]
    }
   ],
   "source": [
    "3+5=8"
   ]
  },
  {
   "cell_type": "markdown",
   "metadata": {},
   "source": [
    "Une erreur fréquente est de confondre l'opérateur d'affectation = avec l'opérateur de comparaison == \n",
    "\n",
    "Remarquons la construction 5<=x<=10 qui teste si le nombre x est compris dans l'intervalle [5;10]"
   ]
  },
  {
   "cell_type": "code",
   "execution_count": 53,
   "metadata": {},
   "outputs": [
    {
     "data": {
      "text/plain": [
       "True"
      ]
     },
     "execution_count": 53,
     "metadata": {},
     "output_type": "execute_result"
    }
   ],
   "source": [
    "'abscisse'<'ordonnée'  # on utilise l'ordre alphabétique"
   ]
  },
  {
   "cell_type": "markdown",
   "metadata": {},
   "source": [
    "### Tester l'appartenance"
   ]
  },
  {
   "cell_type": "code",
   "execution_count": 54,
   "metadata": {},
   "outputs": [
    {
     "data": {
      "text/plain": [
       "True"
      ]
     },
     "execution_count": 54,
     "metadata": {},
     "output_type": "execute_result"
    }
   ],
   "source": [
    "3 in [1,2,3,4]"
   ]
  },
  {
   "cell_type": "code",
   "execution_count": 55,
   "metadata": {},
   "outputs": [
    {
     "data": {
      "text/plain": [
       "False"
      ]
     },
     "execution_count": 55,
     "metadata": {},
     "output_type": "execute_result"
    }
   ],
   "source": [
    "5 in [1,2,3,4]"
   ]
  },
  {
   "cell_type": "code",
   "execution_count": 56,
   "metadata": {},
   "outputs": [
    {
     "data": {
      "text/plain": [
       "True"
      ]
     },
     "execution_count": 56,
     "metadata": {},
     "output_type": "execute_result"
    }
   ],
   "source": [
    "'z' in 'azerty'"
   ]
  },
  {
   "cell_type": "code",
   "execution_count": null,
   "metadata": {},
   "outputs": [],
   "source": []
  },
  {
   "cell_type": "markdown",
   "metadata": {},
   "source": [
    "#### Les opérateurs booléens : *and*, *or*, *not*"
   ]
  },
  {
   "cell_type": "code",
   "execution_count": 57,
   "metadata": {},
   "outputs": [
    {
     "data": {
      "text/plain": [
       "True"
      ]
     },
     "execution_count": 57,
     "metadata": {},
     "output_type": "execute_result"
    }
   ],
   "source": [
    "True and True"
   ]
  },
  {
   "cell_type": "code",
   "execution_count": 58,
   "metadata": {},
   "outputs": [
    {
     "data": {
      "text/plain": [
       "False"
      ]
     },
     "execution_count": 58,
     "metadata": {},
     "output_type": "execute_result"
    }
   ],
   "source": [
    "False and True"
   ]
  },
  {
   "cell_type": "code",
   "execution_count": 59,
   "metadata": {},
   "outputs": [
    {
     "data": {
      "text/plain": [
       "True"
      ]
     },
     "execution_count": 59,
     "metadata": {},
     "output_type": "execute_result"
    }
   ],
   "source": [
    "not False"
   ]
  },
  {
   "cell_type": "code",
   "execution_count": 60,
   "metadata": {},
   "outputs": [
    {
     "data": {
      "text/plain": [
       "True"
      ]
     },
     "execution_count": 60,
     "metadata": {},
     "output_type": "execute_result"
    }
   ],
   "source": [
    "x=10\n",
    "x<5 or x>8"
   ]
  },
  {
   "cell_type": "markdown",
   "metadata": {},
   "source": [
    "## Les chaînes de caractères"
   ]
  },
  {
   "cell_type": "code",
   "execution_count": 61,
   "metadata": {},
   "outputs": [
    {
     "name": "stdout",
     "output_type": "stream",
     "text": [
      "Entrez votre nom Dave\n",
      "Bonjour Dave\n"
     ]
    }
   ],
   "source": [
    "slt='Bonjour'\n",
    "nom=input(\"Entrez votre nom \")\n",
    "print(slt+' '+nom)"
   ]
  },
  {
   "cell_type": "markdown",
   "metadata": {},
   "source": [
    "Les chaînes de caractères sont concaténées (mises bout à bout) avec l'opérateur +\n",
    "L'opérateur * permet de répéter une chaîne\n",
    "Les chaînes peuvent être délimitées par ' ' ou bien par \" \""
   ]
  },
  {
   "cell_type": "code",
   "execution_count": 62,
   "metadata": {},
   "outputs": [
    {
     "data": {
      "text/plain": [
       "'blablablablablablablablablabla'"
      ]
     },
     "execution_count": 62,
     "metadata": {},
     "output_type": "execute_result"
    }
   ],
   "source": [
    "'bla'*10"
   ]
  },
  {
   "cell_type": "markdown",
   "metadata": {},
   "source": [
    "## L'utilisation des variables\n",
    "\n",
    "En Python les variables ne sont pas typées, par contre les objets désignés par ces variables sont typés."
   ]
  },
  {
   "cell_type": "code",
   "execution_count": 63,
   "metadata": {},
   "outputs": [],
   "source": [
    "a=3\n",
    "b='Chaîne de caractères'\n",
    "c=12.8e-3\n",
    "d=1,2,3"
   ]
  },
  {
   "cell_type": "code",
   "execution_count": 64,
   "metadata": {},
   "outputs": [
    {
     "data": {
      "text/plain": [
       "(int, str, float, tuple)"
      ]
     },
     "execution_count": 64,
     "metadata": {},
     "output_type": "execute_result"
    }
   ],
   "source": [
    "type(a),type(b),type(c),type(d)"
   ]
  },
  {
   "cell_type": "code",
   "execution_count": 65,
   "metadata": {},
   "outputs": [],
   "source": [
    "d,c,b,a=a,b,c,d"
   ]
  },
  {
   "cell_type": "code",
   "execution_count": 66,
   "metadata": {},
   "outputs": [
    {
     "data": {
      "text/plain": [
       "(tuple, float, str, int)"
      ]
     },
     "execution_count": 66,
     "metadata": {},
     "output_type": "execute_result"
    }
   ],
   "source": [
    "type(a),type(b),type(c),type(d)"
   ]
  },
  {
   "cell_type": "markdown",
   "metadata": {},
   "source": [
    "## Les listes"
   ]
  },
  {
   "cell_type": "code",
   "execution_count": 67,
   "metadata": {},
   "outputs": [],
   "source": [
    "liste=[1,2,3,4]"
   ]
  },
  {
   "cell_type": "code",
   "execution_count": 68,
   "metadata": {},
   "outputs": [
    {
     "data": {
      "text/plain": [
       "4"
      ]
     },
     "execution_count": 68,
     "metadata": {},
     "output_type": "execute_result"
    }
   ],
   "source": [
    "len(liste)"
   ]
  },
  {
   "cell_type": "code",
   "execution_count": 69,
   "metadata": {},
   "outputs": [],
   "source": [
    "liste.append(12) #on ajoute un élément à la fin de la liste"
   ]
  },
  {
   "cell_type": "code",
   "execution_count": 70,
   "metadata": {},
   "outputs": [
    {
     "data": {
      "text/plain": [
       "[1, 2, 3, 4, 12]"
      ]
     },
     "execution_count": 70,
     "metadata": {},
     "output_type": "execute_result"
    }
   ],
   "source": [
    "liste"
   ]
  },
  {
   "cell_type": "code",
   "execution_count": 71,
   "metadata": {},
   "outputs": [],
   "source": [
    "liste=liste+[13,14,15]  #on peut concaténer des listes"
   ]
  },
  {
   "cell_type": "code",
   "execution_count": 72,
   "metadata": {},
   "outputs": [
    {
     "data": {
      "text/plain": [
       "[1, 2, 3, 4, 12, 13, 14, 15]"
      ]
     },
     "execution_count": 72,
     "metadata": {},
     "output_type": "execute_result"
    }
   ],
   "source": [
    "liste"
   ]
  },
  {
   "cell_type": "code",
   "execution_count": 73,
   "metadata": {},
   "outputs": [
    {
     "data": {
      "text/plain": [
       "1"
      ]
     },
     "execution_count": 73,
     "metadata": {},
     "output_type": "execute_result"
    }
   ],
   "source": [
    "liste[0]  #on accède à un élément d'une liste avec des crochets ;\n",
    "# la numérotation commence à zéro"
   ]
  },
  {
   "cell_type": "code",
   "execution_count": 74,
   "metadata": {},
   "outputs": [
    {
     "data": {
      "text/plain": [
       "15"
      ]
     },
     "execution_count": 74,
     "metadata": {},
     "output_type": "execute_result"
    }
   ],
   "source": [
    "liste[-1] # les indices négatifs permettent de partir de la fin"
   ]
  },
  {
   "cell_type": "code",
   "execution_count": 75,
   "metadata": {},
   "outputs": [
    {
     "data": {
      "text/plain": [
       "[1, 2, 3, 4, 5, 13, 14, 15]"
      ]
     },
     "execution_count": 75,
     "metadata": {},
     "output_type": "execute_result"
    }
   ],
   "source": [
    "liste[4]=5\n",
    "liste"
   ]
  },
  {
   "cell_type": "code",
   "execution_count": 76,
   "metadata": {},
   "outputs": [
    {
     "data": {
      "text/plain": [
       "[5, 13, 14]"
      ]
     },
     "execution_count": 76,
     "metadata": {},
     "output_type": "execute_result"
    }
   ],
   "source": [
    "liste[4:7]  #on sélectionne une partie de la liste, du rang 4 inclus au rang 7 EXCLUS"
   ]
  },
  {
   "cell_type": "code",
   "execution_count": 77,
   "metadata": {},
   "outputs": [
    {
     "data": {
      "text/plain": [
       "'d'"
      ]
     },
     "execution_count": 77,
     "metadata": {},
     "output_type": "execute_result"
    }
   ],
   "source": [
    "tup='a','b','c','d','e'\n",
    "tup[3]  # on peut accéder à un élément d'un tuple"
   ]
  },
  {
   "cell_type": "code",
   "execution_count": 78,
   "metadata": {},
   "outputs": [
    {
     "ename": "TypeError",
     "evalue": "'tuple' object does not support item assignment",
     "output_type": "error",
     "traceback": [
      "\u001b[1;31m---------------------------------------------------------------------------\u001b[0m",
      "\u001b[1;31mTypeError\u001b[0m                                 Traceback (most recent call last)",
      "\u001b[1;32m<ipython-input-78-8ce13f6bc221>\u001b[0m in \u001b[0;36m<module>\u001b[1;34m\u001b[0m\n\u001b[1;32m----> 1\u001b[1;33m \u001b[0mtup\u001b[0m\u001b[1;33m[\u001b[0m\u001b[1;36m3\u001b[0m\u001b[1;33m]\u001b[0m\u001b[1;33m=\u001b[0m\u001b[1;34m'w'\u001b[0m \u001b[1;31m# mais on ne peut pas le modifier\u001b[0m\u001b[1;33m\u001b[0m\u001b[1;33m\u001b[0m\u001b[0m\n\u001b[0m",
      "\u001b[1;31mTypeError\u001b[0m: 'tuple' object does not support item assignment"
     ]
    }
   ],
   "source": [
    "tup[3]='w' # mais on ne peut pas le modifier"
   ]
  },
  {
   "cell_type": "code",
   "execution_count": 79,
   "metadata": {},
   "outputs": [
    {
     "data": {
      "text/plain": [
       "'efghijkl'"
      ]
     },
     "execution_count": 79,
     "metadata": {},
     "output_type": "execute_result"
    }
   ],
   "source": [
    "chaine='abcdefghijklmnopqrstuvwxyz'\n",
    "chaine[4:12]"
   ]
  },
  {
   "cell_type": "markdown",
   "metadata": {},
   "source": [
    "Comme pour les listes, on peut extraire une sous-chaîne d'une chaîne.\n",
    "\n",
    "Quelques fonctions utiles, pour finir."
   ]
  },
  {
   "cell_type": "code",
   "execution_count": 80,
   "metadata": {},
   "outputs": [
    {
     "data": {
      "text/plain": [
       "['abc', '123', 'Bob', '4.5']"
      ]
     },
     "execution_count": 80,
     "metadata": {},
     "output_type": "execute_result"
    }
   ],
   "source": [
    "s='abc,123,Bob,4.5'\n",
    "s.split(',')  #découper au niveau des virgules"
   ]
  },
  {
   "cell_type": "code",
   "execution_count": 81,
   "metadata": {},
   "outputs": [
    {
     "data": {
      "text/plain": [
       "[0, 1, 4, 9, 16, 25, 36, 49, 64, 81, 100, 121]"
      ]
     },
     "execution_count": 81,
     "metadata": {},
     "output_type": "execute_result"
    }
   ],
   "source": [
    "[k**2 for k in range(12)]"
   ]
  },
  {
   "cell_type": "raw",
   "metadata": {},
   "source": [
    "On vient de construire une liste par compréhension ; ici range(10) est un \"énumérateur\", on peut considérer que ce range(10) correspond à la liste [0,1,2,3,4,5,6,7,8,9] "
   ]
  },
  {
   "cell_type": "code",
   "execution_count": 82,
   "metadata": {},
   "outputs": [
    {
     "data": {
      "text/plain": [
       "['BARNABÉ', 'CUNÉGONDE', 'GERTRUDE']"
      ]
     },
     "execution_count": 82,
     "metadata": {},
     "output_type": "execute_result"
    }
   ],
   "source": [
    "[ nom.upper() for nom in ['barnabé','cunégonde','gertrude']]"
   ]
  },
  {
   "cell_type": "code",
   "execution_count": 83,
   "metadata": {},
   "outputs": [],
   "source": [
    "l=[str(k) for k in liste]"
   ]
  },
  {
   "cell_type": "code",
   "execution_count": 84,
   "metadata": {},
   "outputs": [
    {
     "data": {
      "text/plain": [
       "'1:2:3:4:5:13:14:15'"
      ]
     },
     "execution_count": 84,
     "metadata": {},
     "output_type": "execute_result"
    }
   ],
   "source": [
    "':'.join(l)"
   ]
  },
  {
   "cell_type": "markdown",
   "metadata": {},
   "source": [
    "## Les structures des algorithmes\n",
    "On donne quelques exemples illustrant les six constructions de base de l'algorithmique :\n",
    "\n",
    "* la séquence, on écrit plusieurs instructions les unes après les autres\n",
    "* l'affectation, on range le résultat d'un calcul dans une variable\n",
    "* la boucle finie, on répète les mêmes instructions un nombre de fois connu\n",
    "* la boucle indéfinie, on répète les mêmes instructions (mais on ne sait pas à l'avance combien de fois ces instructions seront répétées)\n",
    "* l'alternative, les instructions exécutées dépendent d'une condition\n",
    "* la fonction, on regroupe des calculs dans une fonction qui prend des paramètres et renvoie une valeur\n",
    "\n",
    "Remarque importante : en Python le début d'un bloc se reconnaît pas un :\n",
    "et l'indentation matérialise le bloc."
   ]
  },
  {
   "cell_type": "code",
   "execution_count": 85,
   "metadata": {},
   "outputs": [
    {
     "name": "stdout",
     "output_type": "stream",
     "text": [
      "Comment vous appelez vous ?HAL\n",
      "Vous êtez de quelle année ?2001\n",
      "Joyeux 6552ième non-anniversaire, HAL !\n"
     ]
    }
   ],
   "source": [
    "# une séquence\n",
    "nom=input('Comment vous appelez vous ?')\n",
    "ddn=int(input('Vous êtez de quelle année ?'))\n",
    "age=2019-ddn\n",
    "print(f\"Joyeux {364*age}ième non-anniversaire, {nom} !\")"
   ]
  },
  {
   "cell_type": "code",
   "execution_count": 86,
   "metadata": {},
   "outputs": [],
   "source": [
    "#une affectation\n",
    "x=12\n",
    "#une autre\n",
    "y=2*x**2-10*x+20\n",
    "# une troisième\n",
    "somme=0"
   ]
  },
  {
   "cell_type": "code",
   "execution_count": 87,
   "metadata": {},
   "outputs": [
    {
     "name": "stdout",
     "output_type": "stream",
     "text": [
      "57\n"
     ]
    }
   ],
   "source": [
    "# une boucle finie\n",
    "for k in liste:\n",
    "    somme=somme+k\n",
    "#   ^ noter que l'affectation qui va être répétée est décalée par rapport au for\n",
    "print(somme)"
   ]
  },
  {
   "cell_type": "markdown",
   "metadata": {},
   "source": [
    "Les cellules de ce notebook peuvent contnir du code html, en particulier des liens, mais aussi des images, des cadres...\n",
    "\n",
    "Par exemple voici un lien vers l'excellent site <a href=\"http://pythontutor.com/visualize.html#code=liste%3D%5B1,%202,%203,%204,%205,%2013,%2014,%2015%5D%0A%0Asomme%3D0%0A%0Afor%20k%20in%20liste%3A%0A%20%20%20%20somme%3Dsomme%2Bk&cumulative=false&curInstr=0&heapPrimitives=nevernest&mode=display&origin=opt-frontend.js&py=3&rawInputLstJSON=%5B%5D&textReferences=false\">PythonTutor</a>, dans lequel on peut exécuter pas-à-pas l'algorithme proposé ci-dessus (cliquer sur le bouton forward pour voir le programme s'exécuter pas-à-pas). "
   ]
  },
  {
   "cell_type": "code",
   "execution_count": 88,
   "metadata": {},
   "outputs": [
    {
     "name": "stdout",
     "output_type": "stream",
     "text": [
      "Avec n=1, la somme 1+2+3+...+n vaut 1\n",
      "Avec n=2, la somme 1+2+3+...+n vaut 3\n",
      "Avec n=3, la somme 1+2+3+...+n vaut 6\n",
      "Avec n=4, la somme 1+2+3+...+n vaut 10\n",
      "Avec n=5, la somme 1+2+3+...+n vaut 15\n",
      "Avec n=6, la somme 1+2+3+...+n vaut 21\n",
      "Avec n=7, la somme 1+2+3+...+n vaut 28\n",
      "Avec n=8, la somme 1+2+3+...+n vaut 36\n",
      "Avec n=9, la somme 1+2+3+...+n vaut 45\n",
      "Avec n=10, la somme 1+2+3+...+n vaut 55\n",
      "Avec n=11, la somme 1+2+3+...+n vaut 66\n",
      "Avec n=12, la somme 1+2+3+...+n vaut 78\n",
      "Avec n=13, la somme 1+2+3+...+n vaut 91\n",
      "Avec n=14, la somme 1+2+3+...+n vaut 105\n"
     ]
    }
   ],
   "source": [
    "s=0\n",
    "n=0\n",
    "while s<100:\n",
    "    n=n+1\n",
    "    s=s+n\n",
    "    print(f\"Avec n={n}, la somme 1+2+3+...+n vaut {s}\")\n",
    "    \n",
    "# ici trois instructions sont répétées"
   ]
  },
  {
   "cell_type": "code",
   "execution_count": 89,
   "metadata": {},
   "outputs": [
    {
     "name": "stdout",
     "output_type": "stream",
     "text": [
      "il a fallu plus de 10 termes pour dépasser 100\n"
     ]
    }
   ],
   "source": [
    "# une alternative if else\n",
    "if n>10:\n",
    "    print(\"il a fallu plus de 10 termes pour dépasser 100\")\n",
    "else:\n",
    "    print(\"il a fallu moins de dix termes pour dépasser 100\")"
   ]
  },
  {
   "cell_type": "code",
   "execution_count": 90,
   "metadata": {},
   "outputs": [
    {
     "name": "stdout",
     "output_type": "stream",
     "text": [
      "a est dans l'intervalle [2,8]\n"
     ]
    }
   ],
   "source": [
    "a = 5\n",
    "if a >= 2:\n",
    "   if a <= 8:\n",
    "      print(\"a est dans l'intervalle [2,8]\")\n",
    "   else:\n",
    "      print(\"a n'est pas dans l'intervalle [2,8]\")\n",
    "else:\n",
    "   print(\"a n'est pas dans l'intervalle [2,8]\")"
   ]
  },
  {
   "cell_type": "code",
   "execution_count": 91,
   "metadata": {},
   "outputs": [
    {
     "name": "stdout",
     "output_type": "stream",
     "text": [
      "a est dans l'intervalle [2,8]\n"
     ]
    }
   ],
   "source": [
    "a = 5\n",
    "if a >= 2 and a <= 8:\n",
    "   print(\"a est dans l'intervalle [2,8]\")\n",
    "else:\n",
    "   print(\"a n'est pas dans l'intervalle [2,8]\")"
   ]
  },
  {
   "cell_type": "code",
   "execution_count": 92,
   "metadata": {},
   "outputs": [
    {
     "name": "stdout",
     "output_type": "stream",
     "text": [
      "a est dans l'intervalle [2,8]\n"
     ]
    }
   ],
   "source": [
    "a = 5\n",
    "if a < 2 or a > 8:\n",
    "   print(\"a n'est pas dans l'intervalle [2,8]\")\n",
    "else:\n",
    "   print(\"a est dans l'intervalle [2,8]\")"
   ]
  },
  {
   "cell_type": "code",
   "execution_count": 93,
   "metadata": {},
   "outputs": [],
   "source": [
    "# On définit ici une fonction f qui prend un paramètre x et qui renvoie son image\n",
    "# par une fonction affine\n",
    "\n",
    "def f(x):\n",
    "    return 2*x+3"
   ]
  },
  {
   "cell_type": "code",
   "execution_count": 94,
   "metadata": {},
   "outputs": [
    {
     "data": {
      "text/plain": [
       "23"
      ]
     },
     "execution_count": 94,
     "metadata": {},
     "output_type": "execute_result"
    }
   ],
   "source": [
    "f(10)"
   ]
  },
  {
   "cell_type": "code",
   "execution_count": 95,
   "metadata": {},
   "outputs": [
    {
     "data": {
      "text/plain": [
       "8.0"
      ]
     },
     "execution_count": 95,
     "metadata": {},
     "output_type": "execute_result"
    }
   ],
   "source": [
    "f(2.5)"
   ]
  },
  {
   "cell_type": "markdown",
   "metadata": {},
   "source": [
    "Le type de la valeur renvoyée dépend manifestement du type du paramètre."
   ]
  },
  {
   "cell_type": "code",
   "execution_count": 96,
   "metadata": {},
   "outputs": [
    {
     "data": {
      "text/plain": [
       "25"
      ]
     },
     "execution_count": 96,
     "metadata": {},
     "output_type": "execute_result"
    }
   ],
   "source": [
    "#une fonction plus compliquée, avec deux paramètres\n",
    "\n",
    "def pgcd(a,b):\n",
    "    while b!=0:\n",
    "        a,b=b,a%b\n",
    "    return a\n",
    "\n",
    "pgcd(200,75)"
   ]
  },
  {
   "cell_type": "markdown",
   "metadata": {},
   "source": [
    "<a href=\"http://pythontutor.com/visualize.html#code=def%20pgcd%28a,b%29%3A%0A%20%20%20%20while%20b!%3D0%3A%0A%20%20%20%20%20%20%20%20a,b%3Db,a%25b%0A%20%20%20%20return%20a%0A%0Aprint%28pgcd%28200,75%29%29&cumulative=false&curInstr=0&heapPrimitives=nevernest&mode=display&origin=opt-frontend.js&py=2&rawInputLstJSON=%5B%5D&textReferences=false\">Pas-à-pas avec PythonTutor</a>"
   ]
  },
  {
   "cell_type": "markdown",
   "metadata": {},
   "source": [
    "L'essentiel du travail en Python est d'appeler des fonctions déjà écrites, parfois d'écrire les nôtres."
   ]
  },
  {
   "cell_type": "markdown",
   "metadata": {},
   "source": [
    "## Construire des courbes"
   ]
  },
  {
   "cell_type": "code",
   "execution_count": 97,
   "metadata": {},
   "outputs": [],
   "source": [
    "import matplotlib.pyplot as plt\n",
    "%matplotlib inline"
   ]
  },
  {
   "cell_type": "markdown",
   "metadata": {},
   "source": [
    "La ligne qui précède suppose qu'on a installé matplotlib, ou bien qu'on utilise Anaconda, ou alors EduPython, ou bien un notebook jupyter."
   ]
  },
  {
   "cell_type": "code",
   "execution_count": 98,
   "metadata": {},
   "outputs": [],
   "source": [
    "x=[k/10 for k in range(31)]"
   ]
  },
  {
   "cell_type": "code",
   "execution_count": 99,
   "metadata": {},
   "outputs": [],
   "source": [
    "y=[t**2 for t in x]"
   ]
  },
  {
   "cell_type": "code",
   "execution_count": null,
   "metadata": {},
   "outputs": [],
   "source": [
    "#attention, x et y sont des LISTES !\n",
    "x,y"
   ]
  },
  {
   "cell_type": "code",
   "execution_count": null,
   "metadata": {},
   "outputs": [],
   "source": [
    "plt.plot(x,y)"
   ]
  },
  {
   "cell_type": "code",
   "execution_count": null,
   "metadata": {},
   "outputs": [],
   "source": [
    "plt.show()"
   ]
  },
  {
   "cell_type": "markdown",
   "metadata": {},
   "source": [
    "La fonction plot prend deux listes : une d'abscisses une d'ordonnées, place les points et les relie. Le repère est ajusté automatiquement. Il est possible de mettre titre, légende, noms des axes."
   ]
  },
  {
   "cell_type": "code",
   "execution_count": 100,
   "metadata": {},
   "outputs": [
    {
     "data": {
      "text/plain": [
       "[<matplotlib.lines.Line2D at 0x6edaeb8>]"
      ]
     },
     "execution_count": 100,
     "metadata": {},
     "output_type": "execute_result"
    },
    {
     "data": {
      "image/png": "[encoded data removed]",
      "text/plain": [
       "<Figure size 432x288 with 1 Axes>"
      ]
     },
     "metadata": {
      "needs_background": "light"
     },
     "output_type": "display_data"
    }
   ],
   "source": [
    "plt.xlabel(\"axe des abscisses\")\n",
    "plt.ylabel(\"axe des ordonnées\")\n",
    "plt.title(\"Une parabole d'équation $y=x^2$\") #entre les $ $ c'est du LaTeX\n",
    "plt.plot(x,y)"
   ]
  },
  {
   "cell_type": "markdown",
   "metadata": {},
   "source": [
    "## Travailler dans un éditeur\n",
    "Au delà de quelques lignes, il est plus agréable de travailler dans un éditeur : on tape toutes les instructions, on peut sauvegarder le fichier, ensuite on exécute ces instructions. "
   ]
  },
  {
   "cell_type": "code",
   "execution_count": 101,
   "metadata": {},
   "outputs": [
    {
     "data": {
      "image/png": "[encoded data removed]",
      "text/plain": [
       "<Figure size 432x288 with 1 Axes>"
      ]
     },
     "metadata": {
      "needs_background": "light"
     },
     "output_type": "display_data"
    }
   ],
   "source": [
    "import numpy as np  #une bibliothèque de calcul scientifique\n",
    "import matplotlib.pyplot as plt\n",
    "from random import random\n",
    "\n",
    "def binsim(n,p):\n",
    "    \"\"\"cette fonction simule une loi binomiale\"\"\"\n",
    "    x=0\n",
    "    for k in range(n):\n",
    "        if random()<p:\n",
    "            x=x+1\n",
    "    return x\n",
    "\n",
    "l=[]  #cette liste vide ne va pas le rester longtemps\n",
    "\n",
    "for k in range(200):\n",
    "    l.append(binsim(100,0.5)/100)\n",
    "\n",
    "plt.scatter(range(200),l)\n",
    "plt.title(\"Fluctuation d'une fréquence\")\n",
    "plt.xlabel(\"Numéro de l'échantillon\")\n",
    "plt.show()"
   ]
  },
  {
   "cell_type": "code",
   "execution_count": 102,
   "metadata": {},
   "outputs": [
    {
     "data": {
      "image/png": "[encoded data removed]",
      "text/plain": [
       "<Figure size 432x288 with 1 Axes>"
      ]
     },
     "metadata": {
      "needs_background": "light"
     },
     "output_type": "display_data"
    }
   ],
   "source": [
    "N,n,p=10000,30,0.5\n",
    "x=range(n+1)\n",
    "eff=[0]*(n+1)\n",
    "for i in range(N):\n",
    "    u=binsim(n,p)\n",
    "    eff[u]=eff[u]+1\n",
    "\n",
    "plt.bar(x,eff)\n",
    "plt.title(\"De la loi binomiale à la loi normale\")\n",
    "plt.xlabel(\"Nombre de succès\")\n",
    "\n",
    "plt.show()"
   ]
  },
  {
   "cell_type": "code",
   "execution_count": 103,
   "metadata": {},
   "outputs": [
    {
     "data": {
      "image/png": "[encoded data removed]",
      "text/plain": [
       "<Figure size 432x288 with 1 Axes>"
      ]
     },
     "metadata": {
      "needs_background": "light"
     },
     "output_type": "display_data"
    }
   ],
   "source": [
    "import numpy as np\n",
    "import matplotlib.pyplot as plt\n",
    "x = np.linspace(0,4*np.pi,100)\n",
    "y = np.sin(x)\n",
    "z = np.cos(x)\n",
    "\n",
    "plt.plot(x, y, marker = 'o')\n",
    "plt.plot(x, z, marker = 'v')\n",
    "\n",
    "plt.xticks( [0,np.pi, 2*np.pi, 3*np.pi,4*np.pi],\n",
    "            [r'$0$', r'$\\pi$', r'$2\\pi$', r'$3\\pi$', r'$4\\pi$'])\n",
    "plt.title('Graphes de $\\sin$ et $\\cos$')\n",
    "plt.axis([-1,14, -1.2, 1.2])\n",
    "plt.axhline()\n",
    "plt.axvline()\n",
    "plt.legend(['Sinus', 'Cosinus'])\n",
    "plt.show()"
   ]
  },
  {
   "cell_type": "code",
   "execution_count": 104,
   "metadata": {},
   "outputs": [
    {
     "data": {
      "text/plain": [
       "<matplotlib.contour.QuadContourSet at 0x734d400>"
      ]
     },
     "execution_count": 104,
     "metadata": {},
     "output_type": "execute_result"
    },
    {
     "data": {
      "image/png": "[encoded data removed]",
      "text/plain": [
       "<Figure size 432x288 with 1 Axes>"
      ]
     },
     "metadata": {
      "needs_background": "light"
     },
     "output_type": "display_data"
    }
   ],
   "source": [
    "def f(x,y):\n",
    "    return (x**2+y**2)**2-x**2+y**2\n",
    "\n",
    "x = np.linspace(-1.2,1.2,50)\n",
    "y = np.linspace(-0.6,0.6,50)\n",
    "\n",
    "X,Y = np.meshgrid(x,y)\n",
    "plt.contour(X,Y,f(X,Y),levels = [-0.2, -0.1, 0, 0.1, 0.2])\n"
   ]
  },
  {
   "cell_type": "code",
   "execution_count": 105,
   "metadata": {},
   "outputs": [
    {
     "data": {
      "text/plain": [
       "[<matplotlib.lines.Line2D at 0x856d3c8>]"
      ]
     },
     "execution_count": 105,
     "metadata": {},
     "output_type": "execute_result"
    },
    {
     "data": {
      "image/png": "[encoded data removed]",
      "text/plain": [
       "<Figure size 432x288 with 6 Axes>"
      ]
     },
     "metadata": {
      "needs_background": "light"
     },
     "output_type": "display_data"
    }
   ],
   "source": [
    "x = np.linspace(0,2,50)\n",
    "y = np.cos(x)\n",
    "X = np.random.rand(50)\n",
    "Y = np.random.rand(50)\n",
    "area = np.pi*(15*np.random.rand(50))**2\n",
    "plt.subplot(2,3,1)\n",
    "plt.scatter(X, Y, s=area, alpha=0.5)\n",
    "plt.subplot(2,3,2)\n",
    "plt.plot(x,y, linewidth = 5, color = '0.8')\n",
    "plt.subplot(2,3,3)\n",
    "plt.scatter(X,Y, s=area, alpha=0.5, color='r')\n",
    "plt.subplot(2,3,4)\n",
    "plt.plot(x,y)\n",
    "plt.subplot(2,3,5)\n",
    "plt.scatter(X, Y, s=area, alpha=0.5, color='g')\n",
    "plt.subplot(2,3,6)\n",
    "\n",
    "plt.plot(x,y, linestyle = '-', marker = '+')"
   ]
  },
  {
   "cell_type": "markdown",
   "metadata": {},
   "source": [
    "## Pour aller plus loin\n",
    "On peut jeter un oeil au contenu du répertoire BN."
   ]
  },
  {
   "cell_type": "code",
   "execution_count": null,
   "metadata": {},
   "outputs": [],
   "source": []
  },
  {
   "cell_type": "markdown",
   "metadata": {},
   "source": [
    "## Quelques références utiles\n",
    "\n",
    "www.pythontutor.com Permet de voir ce qui se passe quand on exécute du code Python ; très utile pour comprendre les bases, mais ne permet pas encore d'afficher des graphiques.\n",
    "\n",
    "https://www.courspython.com/introduction-python.html  un cours sur Python\n",
    "\n",
    "https://www.fun-mooc.fr/courses/course-v1:UCA+107001+session02/about  un MOOC très bien fait et approfondi sur Python\n",
    "\n",
    "http://www.python-simple.com/python-matplotlib/matplotlib-intro.php un site expliquant l'utilisation de matplotlib\n",
    "\n",
    "https://inforef.be/swi/download/apprendre_python3_5.pdf Le livre de Gérard Swinnen pour apprendre Python, en téléchargement pdf libre\n",
    "\n",
    "https://wiki.inria.fr/wikis/sciencinfolycee/images/7/73/Informatique_et_Sciences_du_Num%C3%A9rique_-_Sp%C3%A9cialit%C3%A9_ISN_en_Terminale_S.pdf Un manuel d'ISN en téléchargement libre et gratuit (version Java)\n",
    "\n",
    "https://www.researchgate.net/publication/295120407_Informatique_et_sciences_du_numerique_Edition_speciale_Python Le même mais en version Python\n",
    "\n",
    "https://wiki.inria.fr/wikis/sciencinfolycee/images/e/eb/Informatique_pour_tous_en_classes_pr%C3%A9paratoires_aux_grandes_%C3%A9coles_Wack_Conchon_Courant_deFalco_Dowek_Filliatre_Gonnord_%C3%A9ditionsEyrolles.pdf Ce livre est un livre d'Informatique Pour Tous (IPT) pour les élèves de MPSI\n",
    "\n",
    "http://jakevdp.github.io/blog/2013/07/10/XKCD-plots-in-matplotlib/  Pour le fun !\n"
   ]
  },
  {
   "cell_type": "code",
   "execution_count": null,
   "metadata": {},
   "outputs": [],
   "source": [
    "import this"
   ]
  }
 ],
 "metadata": {
  "kernelspec": {
   "display_name": "Python 3",
   "language": "python",
   "name": "python3"
  },
  "language_info": {
   "codemirror_mode": {
    "name": "ipython",
    "version": 3
   },
   "file_extension": ".py",
   "mimetype": "text/x-python",
   "name": "python",
   "nbconvert_exporter": "python",
   "pygments_lexer": "ipython3",
   "version": "3.7.3"
  }
 },
 "nbformat": 4,
 "nbformat_minor": 2
}
