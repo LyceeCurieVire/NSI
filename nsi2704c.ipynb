{
 "cells": [
  {
   "cell_type": "markdown",
   "metadata": {},
   "source": [
    "Corrigé du QCM donné pour le 27 avril\n",
    "=====================================\n"
   ]
  },
  {
   "cell_type": "markdown",
   "metadata": {},
   "source": [
    "Thème A : types de base\n",
    "======================="
   ]
  },
  {
   "cell_type": "markdown",
   "metadata": {},
   "source": [
    "<hr/>\n",
    "\n",
    "**Question A.1**\n",
    "\n",
    "En ajoutant trois chiffres 0 à droite de l\\'écriture binaire d\\'un\n",
    "entier $N$ strictement positif, on obtient l\\'écriture binaire de :\n",
    "\n",
    "***Réponses***\n",
    "\n",
    "A $6 \\times N$\n",
    "\n",
    "B $8 \\times N$\n",
    "\n",
    "C $1000 \\times N$\n",
    "\n",
    "D aucune des réponses précédentes"
   ]
  },
  {
   "cell_type": "markdown",
   "metadata": {},
   "source": [
    "**Réponse B**, car cela revient à multiplier $N$ par `Ob1000`"
   ]
  },
  {
   "cell_type": "markdown",
   "metadata": {},
   "source": [
    "<hr/>\n",
    "\n",
    "**Question A.2**\n",
    "\n",
    "À quoi sert le codage en complément à 2 ?\n",
    "\n",
    "Réponses\n",
    "\n",
    "A à inverser un nombre binaire\n",
    "\n",
    "B à coder des nombres entiers négatifs en binaire\n",
    "\n",
    "C à convertir un nombre en hexadécimal\n",
    "\n",
    "D à multiplier par 2 un nombre en binaire"
   ]
  },
  {
   "cell_type": "markdown",
   "metadata": {},
   "source": [
    "**Réponse B** C'est du cours !"
   ]
  },
  {
   "cell_type": "markdown",
   "metadata": {},
   "source": [
    "<hr/>\n",
    "\n",
    "**Question A.3**\n",
    "\n",
    "L\\'écriture décimale du nombre 1001 1101 écrit sur 8 bits en complément\n",
    "à 2 est :\n",
    "\n",
    "Réponses\n",
    "\n",
    "A -4\n",
    "\n",
    "B -29\n",
    "\n",
    "C -99\n",
    "\n",
    "D 157"
   ]
  },
  {
   "cell_type": "code",
   "execution_count": null,
   "metadata": {},
   "outputs": [],
   "source": [
    "0b01100010+1"
   ]
  },
  {
   "cell_type": "markdown",
   "metadata": {},
   "source": [
    "**Réponse C**"
   ]
  },
  {
   "cell_type": "markdown",
   "metadata": {},
   "source": [
    "<hr/>\n",
    "\n",
    "**Question A.4**\n",
    "\n",
    "Quel est le nombre entier positif dont la représentation binaire est\n",
    "0010 0011 ?\n",
    "\n",
    "Réponses\n",
    "\n",
    "A 19\n",
    "\n",
    "B 33\n",
    "\n",
    "C 35\n",
    "\n",
    "D 64"
   ]
  },
  {
   "cell_type": "code",
   "execution_count": null,
   "metadata": {},
   "outputs": [],
   "source": [
    "0b00100011"
   ]
  },
  {
   "cell_type": "markdown",
   "metadata": {},
   "source": [
    "**Réponse C** $1+2+32=35$"
   ]
  },
  {
   "cell_type": "markdown",
   "metadata": {},
   "source": [
    "<hr/>\n",
    "\n",
    "**Question A.5**\n",
    "\n",
    "Quelle est l\\'écriture décimale du nombre qui s\\'écrit 11,0101 en\n",
    "binaire ?\n",
    "\n",
    "Réponses\n",
    "\n",
    "A 3\n",
    "\n",
    "B 3,0101\n",
    "\n",
    "C 3,05\n",
    "\n",
    "D 3,3125"
   ]
  },
  {
   "cell_type": "code",
   "execution_count": null,
   "metadata": {},
   "outputs": [],
   "source": [
    "0b110101/2**4"
   ]
  },
  {
   "cell_type": "markdown",
   "metadata": {},
   "source": [
    "**Réponse D** $2+1+\\dfrac14+\\dfrac1{16}=\\dfrac{53}{16}$"
   ]
  },
  {
   "cell_type": "markdown",
   "metadata": {},
   "source": [
    "<hr/>\n",
    "\n",
    "**Question A.6**\n",
    "\n",
    "Quel est le résultat de l\\'addition binaire 0010 0110 + 1000 1110 ?\n",
    "\n",
    "***Réponses***\n",
    "\n",
    "A 1010 1110\n",
    "\n",
    "B 0000 0110\n",
    "\n",
    "C 1011 0100\n",
    "\n",
    "D 0101 0001"
   ]
  },
  {
   "cell_type": "code",
   "execution_count": null,
   "metadata": {},
   "outputs": [],
   "source": [
    "0b00100110,0b10001110"
   ]
  },
  {
   "cell_type": "code",
   "execution_count": null,
   "metadata": {},
   "outputs": [],
   "source": [
    "bin(38+142)"
   ]
  },
  {
   "cell_type": "markdown",
   "metadata": {},
   "source": [
    "**Réponse C**"
   ]
  },
  {
   "cell_type": "markdown",
   "metadata": {},
   "source": [
    "Thème B : types construits\n",
    "=========================="
   ]
  },
  {
   "cell_type": "markdown",
   "metadata": {},
   "source": [
    "<hr/>\n",
    "\n",
    "**Question B.1**\n",
    "\n",
    "On définit `L =[[1,2,3,4,5],[6,7,8,9,10],[11,12,13,14,15]]`.\n",
    "Quelle est la valeur de `L[0][2]` ?\n",
    "\n",
    "Réponses\n",
    "\n",
    "A 2\n",
    "\n",
    "B 3\n",
    "\n",
    "C 11\n",
    "\n",
    "D 12"
   ]
  },
  {
   "cell_type": "code",
   "execution_count": null,
   "metadata": {},
   "outputs": [],
   "source": [
    "L =[[1,2,3,4,5],[6,7,8,9,10],[11,12,13,14,15]]\n",
    "L[0][2]"
   ]
  },
  {
   "cell_type": "markdown",
   "metadata": {},
   "source": [
    "**Réponse B** `L[0]` vaut `[1,2,3,4,5]` et `L[0][2]` est son troisième élément"
   ]
  },
  {
   "cell_type": "markdown",
   "metadata": {},
   "source": [
    "<hr/>\n",
    "\n",
    "**Question B.2**\n",
    "\n",
    "Quel est le résultat de l'évaluation de l'expression Python suivante ?\n",
    "\n",
    "`[ n * n for n in range(10) ]`\n",
    "\n",
    "***Réponses***\n",
    "\n",
    "A `[0, 1, 4, 9, 16, 25, 36, 49, 64, 81]`\n",
    "\n",
    "B `[0, 1, 4, 9, 16, 25, 36, 49, 64, 81, 100]`\n",
    "\n",
    "C `[0, 2, 4, 8, 16, 32, 64, 128, 256, 512]`\n",
    "\n",
    "D `[0, 2, 4, 8, 16, 32, 64, 128, 256, 512, 1024]`"
   ]
  },
  {
   "cell_type": "code",
   "execution_count": null,
   "metadata": {},
   "outputs": [],
   "source": [
    "[n*n for n in range(10)]"
   ]
  },
  {
   "cell_type": "markdown",
   "metadata": {},
   "source": [
    "**Réponse A** `range(10)` énumère les entiers de 0 inclus à 9 inclus (10 est exclus)"
   ]
  },
  {
   "cell_type": "markdown",
   "metadata": {},
   "source": [
    "<hr/>\n",
    "\n",
    "**Question B.3**\n",
    "\n",
    "On définit `tableau = [[1, 2, 3], [4, 5, 6], [7, 8, 9]]`. Quelle\n",
    "est la valeur de `tableau[2][1]` ?\n",
    "\n",
    "***Réponses***\n",
    "\n",
    "A 2\n",
    "\n",
    "B 4\n",
    "\n",
    "C 6\n",
    "\n",
    "D 8"
   ]
  },
  {
   "cell_type": "code",
   "execution_count": null,
   "metadata": {},
   "outputs": [],
   "source": [
    "tableau = [[1, 2, 3], [4, 5, 6], [7, 8, 9]]\n",
    "tableau[2][1]"
   ]
  },
  {
   "cell_type": "markdown",
   "metadata": {},
   "source": [
    "**Réponse D** `tableau[2]` s'évalue en `[7,8,9]` et `tableau[2][1]` est son deuxième élément"
   ]
  },
  {
   "cell_type": "markdown",
   "metadata": {},
   "source": [
    "<hr/>\n",
    "\n",
    "**Question B.4**\n",
    "\n",
    "Quelle est l'expression qui a pour valeur la liste `[1,4,9,16,25,36]` ?\n",
    "\n",
    "Réponses\n",
    "\n",
    "A `{ n*n for n in range(1,7) }`\n",
    "\n",
    "B `{ n*n for n in range(6) }`\n",
    "\n",
    "C `[ n*n for n in range(1,7) ]`\n",
    "\n",
    "D `[ n*n for n in range(6) ]`"
   ]
  },
  {
   "cell_type": "code",
   "execution_count": null,
   "metadata": {},
   "outputs": [],
   "source": [
    "{ n*n for n in range(1,7) }"
   ]
  },
  {
   "cell_type": "code",
   "execution_count": null,
   "metadata": {},
   "outputs": [],
   "source": [
    "{ n*n for n in range(6) }"
   ]
  },
  {
   "cell_type": "code",
   "execution_count": null,
   "metadata": {},
   "outputs": [],
   "source": [
    "[ n*n for n in range(1,7) ]"
   ]
  },
  {
   "cell_type": "code",
   "execution_count": null,
   "metadata": {},
   "outputs": [],
   "source": [
    "[ n*n for n in range(6) ]"
   ]
  },
  {
   "cell_type": "markdown",
   "metadata": {},
   "source": [
    "**Réponse C**"
   ]
  },
  {
   "cell_type": "markdown",
   "metadata": {},
   "source": [
    "<hr/>\n",
    "\n",
    "**Question B.5**\n",
    "\n",
    "On définit une grille G remplie de 0, sous la forme d'une liste de\n",
    "listes, où toutes les sous-listes ont le même nombre d'éléments.\n",
    "\n",
    "```python\n",
    "G = [ [0, 0, 0, ..., 0],\n",
    "[0, 0, 0, ..., 0],\n",
    "[0, 0, 0, ..., 0],\n",
    "......\n",
    "[0, 0, 0, ..., 0] ]\n",
    "```\n",
    "\n",
    "On appelle *hauteur* de la grille le nombre de sous-listes contenues\n",
    "dans G et *largeur* de la grille le nombre d'éléments dans chacune de\n",
    "ces sous-listes. Comment peut-on les obtenir ?\n",
    "\n",
    "***Réponses***\n",
    "\n",
    "A `hauteur = len(G[0])`\n",
    "\n",
    "`largeur = len(G)`\n",
    "\n",
    "B `hauteur = len(G)`\n",
    "\n",
    "`largeur = len(G[0])`\n",
    "\n",
    "C `hauteur = len(G[0])`\n",
    "\n",
    "`largeur = len(G[1])`\n",
    "\n",
    "D `hauteur = len(G[1])`\n",
    "\n",
    "`largeur = len(G[0])`\n"
   ]
  },
  {
   "cell_type": "markdown",
   "metadata": {},
   "source": [
    "**Réponse B**"
   ]
  },
  {
   "cell_type": "markdown",
   "metadata": {},
   "source": [
    "<hr/>\n",
    "\n",
    "**Question B.6**\n",
    "\n",
    "On définit :\n",
    "\n",
    "```python\n",
    "L = [[\"lundi\",10,0.87],[\"mardi\",11,0.82],[\"mercredi\",12,0.91]]\n",
    "```\n",
    "\n",
    "Quel est le type de la variable `a` définie par `a = L[1][2]` ?\n",
    "\n",
    "Réponses\n",
    "\n",
    "A nombre entier\n",
    "\n",
    "B liste\n",
    "\n",
    "C nombre flottant\n",
    "\n",
    "D chaîne de caractères"
   ]
  },
  {
   "cell_type": "code",
   "execution_count": null,
   "metadata": {},
   "outputs": [],
   "source": [
    "L = [ [\"lundi\",10,0.87], [\"mardi\",11,0.82],[\"mercredi\",12,0.91] ]\n",
    "a=L[1][2]\n",
    "a,type(a)"
   ]
  },
  {
   "cell_type": "markdown",
   "metadata": {},
   "source": [
    "**Réponse A**"
   ]
  },
  {
   "cell_type": "markdown",
   "metadata": {},
   "source": [
    "Thème C : traitement de données en tables\n",
    "========================================="
   ]
  },
  {
   "cell_type": "markdown",
   "metadata": {},
   "source": [
    "<hr/>\n",
    "\n",
    "**Question C.1**\n",
    "\n",
    "Laquelle de ces listes de chaînes de caractères est triée en ordre\n",
    "croissant ?\n",
    "\n",
    "***Réponses***\n",
    "\n",
    "A `[\"112\", \"19\", \"27\", \"45\", \"8\"]`\n",
    "\n",
    "B `[\"8\", \"19\", \"27\", \"45\", \"112\"]`\n",
    "\n",
    "C `[\"8\", \"112\", \"19\", \"27\", \"45\"]`\n",
    "\n",
    "D `[\"19\", \"112\", \"27\", \"45\", \"8\"]`"
   ]
  },
  {
   "cell_type": "code",
   "execution_count": null,
   "metadata": {},
   "outputs": [],
   "source": [
    "sorted([\"112\", \"19\", \"27\", \"45\", \"8\"])"
   ]
  },
  {
   "cell_type": "markdown",
   "metadata": {},
   "source": [
    "**Réponse A**"
   ]
  },
  {
   "cell_type": "markdown",
   "metadata": {},
   "source": [
    "<hr/>\n",
    "\n",
    "**Question C.2**\n",
    "\n",
    "On exécute le code suivant :\n",
    "\n",
    "```python\n",
    "def maxi(t):\n",
    "    m = t[0]\n",
    "    for x in t:\n",
    "        if x[1] >= m[1]:\n",
    "            m = x\n",
    "    return m\n",
    "\n",
    "L =[ ('Alice', 17), ('Barnabé', 17), ('Casimir', 17), ('Doriane', 17),\n",
    "     ('Emilien', 14), ('Fabienne', 16)]\n",
    "```\n",
    "\n",
    "Quelle est alors la valeur de `maxi(L)` ?\n",
    "\n",
    "***Réponses***\n",
    "\n",
    "A ('Alice',17)\n",
    "\n",
    "B ('Doriane',17)\n",
    "\n",
    "C ('Fabienne',17)\n",
    "\n",
    "D ('Emilien',14)"
   ]
  },
  {
   "cell_type": "code",
   "execution_count": null,
   "metadata": {},
   "outputs": [],
   "source": [
    "def maxi(t):\n",
    "    m = t[0]\n",
    "    for x in t:\n",
    "        if x[1] >= m[1]:\n",
    "            m = x\n",
    "    return m\n",
    "\n",
    "L =[ ('Alice', 17), ('Barnabé', 17), ('Casimir', 17), ('Doriane', 17),\n",
    "     ('Emilien', 14), ('Fabienne', 16)]"
   ]
  },
  {
   "cell_type": "code",
   "execution_count": null,
   "metadata": {},
   "outputs": [],
   "source": [
    "maxi(L)"
   ]
  },
  {
   "cell_type": "markdown",
   "metadata": {},
   "source": [
    "**Réponse B** <a href=\"http://www.pythontutor.com/visualize.html#code=def%20maxi%28t%29%3A%0A%20%20%20%20m%20%3D%20t%5B0%5D%0A%20%20%20%20for%20x%20in%20t%3A%0A%20%20%20%20%20%20%20%20if%20x%5B1%5D%20%3E%3D%20m%5B1%5D%3A%0A%20%20%20%20%20%20%20%20%20%20%20%20m%20%3D%20x%0A%20%20%20%20return%20m%0A%0AL%20%3D%5B%20%28'Alice',%2017%29,%20%28'Barnab%C3%A9',%2017%29,%20%28'Casimir',%2017%29,%20%28'Doriane',%2017%29,%0A%20%20%20%20%20%28'Emilien',%2014%29,%20%28'Fabienne',%2016%29%5D%0A%20%20%20%20%20%0Aprint%28maxi%28L%29%29&cumulative=false&curInstr=0&heapPrimitives=nevernest&mode=display&origin=opt-frontend.js&py=3&rawInputLstJSON=%5B%5D&textReferences=false\">déroulé pas-à-pas</a>"
   ]
  },
  {
   "cell_type": "markdown",
   "metadata": {},
   "source": [
    "<hr/>\n",
    "\n",
    "**Question C.3**\n",
    "\n",
    "Soit la table de données suivante :\n",
    "\n",
    "nom prenom date\\_naissance\n",
    "\n",
    "Dupont Pierre 17/05/1987\n",
    "\n",
    "Dupond Catherine 18/07/1981\n",
    "\n",
    "Haddock Archibald 23/04/1998\n",
    "\n",
    "Quels sont les descripteurs de ce tableau ?\n",
    "\n",
    "Réponses\n",
    "\n",
    "A nom, prenom et date\\_naissance\n",
    "\n",
    "B Dupont, Pierre et 17/05/1987\n",
    "\n",
    "C Dupont, Dupond et Haddock\n",
    "\n",
    "D il n'y en a pas"
   ]
  },
  {
   "cell_type": "markdown",
   "metadata": {},
   "source": [
    "**Réponse A** les descripteurs sont les noms des colonnes"
   ]
  },
  {
   "cell_type": "markdown",
   "metadata": {},
   "source": [
    "<hr/>\n",
    "\n",
    "**Question C.4**\n",
    "\n",
    "On exécute le code suivant :\n",
    "\n",
    "```python\n",
    "collection = [('Renault', '4L', 1974, 30),('Peugeot', '504', \n",
    "    1970,82),('Citroën', 'Traction', 1950, 77)]\n",
    "```\n",
    "\n",
    "Que vaut `collection[1][2]` ?\n",
    "\n",
    "***Réponses***\n",
    "\n",
    "A `1970`\n",
    "\n",
    "B `'4L'`\n",
    "\n",
    "C `('Peugeot', '504', 1970, 82)`\n",
    "\n",
    "D `('Renault', '4L', 1974, 30)`"
   ]
  },
  {
   "cell_type": "code",
   "execution_count": null,
   "metadata": {},
   "outputs": [],
   "source": [
    "collection = [('Renault', '4L', 1974, 30),('Peugeot', '504', 1970,82),\n",
    "('Citroën', 'Traction', 1950, 77)]\n",
    "collection[1][2]"
   ]
  },
  {
   "cell_type": "markdown",
   "metadata": {},
   "source": [
    "**Réponse A**"
   ]
  },
  {
   "cell_type": "markdown",
   "metadata": {},
   "source": [
    "<hr/>\n",
    "\n",
    "**Question C.5**\n",
    "\n",
    "Laquelle de ces listes de chaînes de caractères est triée en ordre\n",
    "croissant ?\n",
    "\n",
    "***Réponses***\n",
    "\n",
    "A `['8', '12', '142', '21']`\n",
    "\n",
    "B `['8', '12', '21', '142']`\n",
    "\n",
    "C `['12', '142', '21', '8']`\n",
    "\n",
    "D `['12', '21', '8', '142']`"
   ]
  },
  {
   "cell_type": "code",
   "execution_count": null,
   "metadata": {},
   "outputs": [],
   "source": [
    "sorted(['12', '142', '21', '8'])"
   ]
  },
  {
   "cell_type": "markdown",
   "metadata": {},
   "source": [
    "**Réponse C**"
   ]
  },
  {
   "cell_type": "markdown",
   "metadata": {},
   "source": [
    "<hr/>\n",
    "\n",
    "**Question C.6**\n",
    "\n",
    "Dans la plupart des fichiers CSV, que contient la première ligne ?\n",
    "\n",
    "***Réponses***\n",
    "\n",
    "A des notes concernant la table de données\n",
    "\n",
    "B les sources des données\n",
    "\n",
    "C les descripteurs des champs de la table de données\n",
    "\n",
    "D l\\'auteur de la table de données"
   ]
  },
  {
   "cell_type": "markdown",
   "metadata": {},
   "source": [
    "**Réponse C**"
   ]
  },
  {
   "cell_type": "markdown",
   "metadata": {},
   "source": [
    "Thème D : interactions entre l\\'homme et la machine sur le Web\n",
    "=============================================================="
   ]
  },
  {
   "cell_type": "markdown",
   "metadata": {},
   "source": [
    "<hr/>\n",
    "\n",
    "**Question D.1**\n",
    "\n",
    "Lors de la consultation d'une page HTML contenant un bouton auquel est\n",
    "associée la fonction suivante, que se passe-t-il quand on clique sur ce\n",
    "bouton ?\n",
    "\n",
    "```javascript\n",
    "function action(event) {\n",
    "this.style.color = \"blue\"\n",
    "}\n",
    "```\n",
    "\n",
    "***Réponses***\n",
    "\n",
    "A le texte de la page passe en bleu\n",
    "\n",
    "B le texte du bouton passe en bleu\n",
    "\n",
    "C le texte du bouton est changé et affiche maintenant le mot \\\"bleu\\\"\n",
    "\n",
    "D le pointeur de la souris devient bleu quand il arrive sur le bouton"
   ]
  },
  {
   "cell_type": "markdown",
   "metadata": {},
   "source": [
    "**Réponse C**"
   ]
  },
  {
   "cell_type": "markdown",
   "metadata": {},
   "source": [
    "<hr/>\n",
    "\n",
    "**Question D.2**\n",
    "\n",
    "Le site internet d'un quotidien d'information permet aux visiteurs de\n",
    "laisser des commentaires textuels.\n",
    "\n",
    "Ces commentaires doivent être visibles par les autres visiteurs.\n",
    "\n",
    "Laquelle des affirmations suivantes est correcte ?\n",
    "\n",
    "***Réponses***\n",
    "\n",
    "A Il suffit que la page HTML contienne des champs de la forme `<textarea>`\n",
    "\n",
    "B Il suffit que la page HTML contienne des champs de la forme `<textarea>` et d'utiliser JavaScript pour enregistrer les commentaires\n",
    "\n",
    "C Il faut un programme en PHP ou un script Python sur le serveur pour\n",
    "traiter les données\n",
    "\n",
    "D Non, ce n'est pas possible avec la technologie actuelle"
   ]
  },
  {
   "cell_type": "markdown",
   "metadata": {},
   "source": [
    "**Réponse C** javascript travaille dans le navigateur, si on veut que les commentaires soient disponibles pour tous les utilisateurs ils doivent être enregistrés au niveau du serveur "
   ]
  },
  {
   "cell_type": "markdown",
   "metadata": {},
   "source": [
    "<hr/>\n",
    "\n",
    "**Question D.3**\n",
    "\n",
    "Quel est le nom de l'événement généré lorsque l'utilisateur clique sur\n",
    "un bouton de type button dans une page HTML ?\n",
    "\n",
    "***Réponses***\n",
    "\n",
    "A action\n",
    "\n",
    "B mouse\n",
    "\n",
    "C submit\n",
    "\n",
    "D click"
   ]
  },
  {
   "cell_type": "markdown",
   "metadata": {},
   "source": [
    "**Réponse D**"
   ]
  },
  {
   "cell_type": "markdown",
   "metadata": {},
   "source": [
    "<hr/>\n",
    "\n",
    "**Question D.4**\n",
    "\n",
    "Dans une page HTML, lequel de ces codes permet la présence d'un bouton\n",
    "qui appelle la fonction javascript `afficher_reponse()` lorsque\n",
    "l'utilisateur clique dessus ?\n",
    "\n",
    "***Réponses***\n",
    "\n",
    "A `<a href=\"afficher_reponse()\">Cliquez ici</a>`\n",
    "\n",
    "B `<button if_clicked=\"afficher_reponse()\">Cliquez ici</button>`\n",
    "\n",
    "C `<button value=\"Cliquez ici\"><a>afficher_reponse()</a></button>`\n",
    "\n",
    "D `<button onclick=\"afficher_reponse()\">Cliquez ici</button>`"
   ]
  },
  {
   "cell_type": "markdown",
   "metadata": {},
   "source": [
    "**Réponse D** "
   ]
  },
  {
   "cell_type": "markdown",
   "metadata": {},
   "source": [
    "<hr/>\n",
    "\n",
    "**Question D.5**\n",
    "\n",
    "Lorsque la méthode POST est associée à un formulaire au sein d'une page\n",
    "HTML, comment les réponses du formulaire sont-elles envoyées au serveur\n",
    "?\n",
    "\n",
    "***Réponses***\n",
    "\n",
    "A Elles sont visibles dans l'URL\n",
    "\n",
    "B Elles sont cachées de l'URL\n",
    "\n",
    "C Elles sont transmises via un service postal spécifique\n",
    "\n",
    "D Elles sont découpées en plusieurs petites URL limitées à 4 mots"
   ]
  },
  {
   "cell_type": "markdown",
   "metadata": {},
   "source": [
    "**Réponse B** (par contre avec GET les couples `variable=valeur` sont dans l'URL)"
   ]
  },
  {
   "cell_type": "markdown",
   "metadata": {},
   "source": [
    "<hr/>\n",
    "\n",
    "**Question D.6**\n",
    "\n",
    "Parmi les quatre propositions suivantes, laquelle est la seule à\n",
    "correspondre à un entête correct de formulaire d'une page HTML ?\n",
    "\n",
    "Réponses\n",
    "\n",
    "A `<form method=\"formulaire.php\" action=\"submit\">`\n",
    "\n",
    "B `<form method=\"post\" action=onclick()>`\n",
    "\n",
    "C `<form method=\"get\" action=\"arret.php\">`\n",
    "\n",
    "D `<form method=\"post\" action=arret.php>`"
   ]
  },
  {
   "cell_type": "markdown",
   "metadata": {},
   "source": [
    "**Réponse C**"
   ]
  },
  {
   "cell_type": "markdown",
   "metadata": {},
   "source": [
    "Thème E : architectures matérielles et systèmes d\\'exploitation\n",
    "==============================================================="
   ]
  },
  {
   "cell_type": "markdown",
   "metadata": {},
   "source": [
    "<hr/>\n",
    "\n",
    "**Question E.1**\n",
    "\n",
    "Quelle est la racine du système de fichier de Linux ?\n",
    "\n",
    "Réponses\n",
    "\n",
    "A /\n",
    "\n",
    "B root\n",
    "\n",
    "C sudo\n",
    "\n",
    "D home"
   ]
  },
  {
   "cell_type": "markdown",
   "metadata": {},
   "source": [
    "**Réponse A**"
   ]
  },
  {
   "cell_type": "markdown",
   "metadata": {},
   "source": [
    "<hr/>\n",
    "\n",
    "**Question E.2**\n",
    "\n",
    "Parmi les systèmes d'exploitation suivants, lequel est libre ?\n",
    "\n",
    "***Réponses***\n",
    "\n",
    "A Mac OS\n",
    "\n",
    "B iOS\n",
    "\n",
    "C Microsoft Windows\n",
    "\n",
    "D GNU/Linux"
   ]
  },
  {
   "cell_type": "markdown",
   "metadata": {},
   "source": [
    "**Réponse D**"
   ]
  },
  {
   "cell_type": "markdown",
   "metadata": {},
   "source": [
    "<hr/>\n",
    "\n",
    "**Question E.3**\n",
    "\n",
    "Quelle est l'utilité de la commande ping dans un réseau informatique ?\n",
    "\n",
    "***Réponses***\n",
    "\n",
    "A établir un réseau privé virtuel\n",
    "\n",
    "B tester si la connexion peut être établie avec une machine distante\n",
    "\n",
    "C obtenir la route suivie par un paquet dans le réseau\n",
    "\n",
    "D mesurer les performances d\\'une machine distante"
   ]
  },
  {
   "cell_type": "markdown",
   "metadata": {},
   "source": [
    "**Réponse B**"
   ]
  },
  {
   "cell_type": "markdown",
   "metadata": {},
   "source": [
    "<hr/>\n",
    "\n",
    "**Question E.4**\n",
    "\n",
    "Comment s'appelle l'ensemble des règles qui régissent les échanges sur\n",
    "Internet ?\n",
    "\n",
    "Réponses\n",
    "\n",
    "A les couches\n",
    "\n",
    "B le wifi\n",
    "\n",
    "C les protocoles\n",
    "\n",
    "D les commutateurs"
   ]
  },
  {
   "cell_type": "markdown",
   "metadata": {},
   "source": [
    "**Réponse C** Par exemple les protocoles TCP, IP, ping, DNS, HTTP, SMTP, POP..."
   ]
  },
  {
   "cell_type": "markdown",
   "metadata": {},
   "source": [
    "<hr/>\n",
    "\n",
    "**Question E.5**\n",
    "\n",
    "Sous Linux, on se place dans un répertoire appelé documents. Dans quel\n",
    "répertoire se trouve-t-on après avoir exécuté la commande cd ../images ?\n",
    "\n",
    "Réponses\n",
    "\n",
    "A dans un répertoire images, qui est un sous-répertoire du répertoire\n",
    "documents\n",
    "\n",
    "B dans un répertoire images, qui est à la racine du système de fichiers\n",
    "\n",
    "C dans un répertoire images, qui est dans l\\'arborescence de fichiers à\n",
    "la même hauteur que le répertoire documents\n",
    "\n",
    "D dans un répertoire images, qui est sur le CD-ROM du lecteur de\n",
    "l\\'ordinateur"
   ]
  },
  {
   "cell_type": "markdown",
   "metadata": {},
   "source": [
    "<hr/>\n",
    "\n",
    "**Question E.6**\n",
    "\n",
    "Quel est l'effet de la commande shell suivante ?\n",
    "\n",
    "```bash\n",
    "cp NSI_ex1_Franck.txt NSI_ex1_Marie.txt\n",
    "```\n",
    "\n",
    "Réponses\n",
    "\n",
    "A Le fichier NSI_ex1_Franck.txt est copié sous le nom\n",
    "NSI_ex1_Marie.txt\n",
    "\n",
    "B Le fichier NSI_ex1_Franck.txt est renommé sous le nom\n",
    "NSI_ex1_Marie.txt\n",
    "\n",
    "C Le fichier NSI_ex1_Marie.txt est copié sous le nom\n",
    "NSI_ex1_Franck.txt\n",
    "\n",
    "D Le fichier NSI_ex1_Marie.txt est renommé sous le nom\n",
    "NSI_ex1_Franck.txt"
   ]
  },
  {
   "cell_type": "markdown",
   "metadata": {},
   "source": [
    "**Réponse A**"
   ]
  },
  {
   "cell_type": "markdown",
   "metadata": {},
   "source": [
    "Thème F : langages et programmation\n",
    "==================================="
   ]
  },
  {
   "cell_type": "markdown",
   "metadata": {},
   "source": [
    "<hr/>\n",
    "\n",
    "**Question F.1**\n",
    "\n",
    "On exécute le code suivant :\n",
    "\n",
    "```python\n",
    "def essai():\n",
    "    a = 2\n",
    "    b = 3\n",
    "    c = 4\n",
    "    return a\n",
    "    return b\n",
    "    return c\n",
    "\n",
    "t = essai()\n",
    "```\n",
    "\n",
    "Quelle est la valeur de t après l'exécution de ce code ?\n",
    "\n",
    "***Réponses***\n",
    "\n",
    "A 2\n",
    "\n",
    "B 3\n",
    "\n",
    "C 4\n",
    "\n",
    "D (2,3,4)"
   ]
  },
  {
   "cell_type": "code",
   "execution_count": null,
   "metadata": {},
   "outputs": [],
   "source": [
    "def essai():\n",
    "    a = 2\n",
    "    b = 3\n",
    "    c = 4\n",
    "    return a\n",
    "    return b\n",
    "    return c\n",
    "\n",
    "t = essai()\n",
    "print(t)"
   ]
  },
  {
   "cell_type": "markdown",
   "metadata": {},
   "source": [
    "**Réponse A** Seul le premier `return` est exécuté."
   ]
  },
  {
   "cell_type": "markdown",
   "metadata": {},
   "source": [
    "<hr/>\n",
    "\n",
    "**Question F.2**\n",
    "\n",
    "On considère la fonction suivante :\n",
    "\n",
    "```python\n",
    "def comparaison(a,b):\n",
    "    if a < b:\n",
    "        return a\n",
    "    else:\n",
    "        return b\n",
    "```\n",
    "\n",
    "Quel est le type de la valeur renvoyée par l'appel `comparaison(6,5)` ?\n",
    "\n",
    "Réponses\n",
    "\n",
    "A un booléen (vrai/faux)\n",
    "\n",
    "B un nombre entier\n",
    "\n",
    "C un nombre flottant\n",
    "\n",
    "D une chaîne de caractères"
   ]
  },
  {
   "cell_type": "code",
   "execution_count": null,
   "metadata": {},
   "outputs": [],
   "source": [
    "def comparaison(a,b):\n",
    "    if a < b:\n",
    "        return a\n",
    "    else:\n",
    "        return b\n",
    "print(comparaison(6,5), type(comparaison(6,5)))"
   ]
  },
  {
   "cell_type": "markdown",
   "metadata": {},
   "source": [
    "**Réponse B**"
   ]
  },
  {
   "cell_type": "markdown",
   "metadata": {},
   "source": [
    "<hr/>\n",
    "\n",
    "**Question F.3**\n",
    "\n",
    "Quelle est la valeur de la variable n à la fin de l'exécution du script ci-dessous ?\n",
    "\n",
    "```python\n",
    "n = 1\n",
    "for i in range(4):\n",
    "    n = n + 2\n",
    "```\n",
    "\n",
    "Réponses\n",
    "\n",
    "A 1\n",
    "\n",
    "B 8\n",
    "\n",
    "C 9\n",
    "\n",
    "D 18"
   ]
  },
  {
   "cell_type": "code",
   "execution_count": null,
   "metadata": {},
   "outputs": [],
   "source": [
    "n = 1\n",
    "for i in range(4):\n",
    "    n = n + 2\n",
    "print(n)"
   ]
  },
  {
   "cell_type": "markdown",
   "metadata": {},
   "source": [
    "**Réponse C**"
   ]
  },
  {
   "cell_type": "markdown",
   "metadata": {},
   "source": [
    "<hr/>\n",
    "\n",
    "**Question F.4**\n",
    "\n",
    "On construit une liste L de la façon suivante :\n",
    "\n",
    "```python\n",
    "L = []\n",
    "for i in range(1,11,2):\n",
    "    L.append(5*i)\n",
    "```\n",
    "\n",
    "et on obtient ainsi la liste `[5, 15, 25, 35, 45]`.\n",
    "\n",
    "On pourrait aussi procéder de la façon suivante :\n",
    "\n",
    "```python\n",
    "L = []\n",
    "# ligne 1 .......\n",
    "while i < 11:\n",
    "    L.append(5*i)\n",
    "    # ligne 2 .......\n",
    "```\n",
    "\n",
    "Que faudrait-il écrire en ligne 1 et en ligne 2 pour obtenir le même\n",
    "résultat ?\n",
    "\n",
    "***Réponses***\n",
    "\n",
    "A `i = 0` en ligne 1, et `i = i + 1` en ligne 2\n",
    "\n",
    "B `i = 0` en ligne 1, et `i = i + 2` en ligne 2\n",
    "\n",
    "C `i = 1` en ligne 1, et `i = i + 1` en ligne 2\n",
    "\n",
    "D `i = 1` en ligne 1, et `i = i + 2` en ligne 2"
   ]
  },
  {
   "cell_type": "code",
   "execution_count": null,
   "metadata": {},
   "outputs": [],
   "source": [
    "L=[]\n",
    "i=1\n",
    "while i<11:\n",
    "    L.append(5*i)\n",
    "    i=i+2\n",
    "L"
   ]
  },
  {
   "cell_type": "markdown",
   "metadata": {},
   "source": [
    "**Réponse D**"
   ]
  },
  {
   "cell_type": "markdown",
   "metadata": {},
   "source": [
    "<hr/>\n",
    "\n",
    "**Question F.5**\n",
    "\n",
    "La fonction suivante calcule la racine carrée du double d'un nombre\n",
    "flottant.\n",
    "\n",
    "```python\n",
    "from math import sqrt\n",
    "\n",
    "def racine_du_double(x):\n",
    "    return sqrt(2\\*x)\n",
    "```\n",
    "\n",
    "Quelle est la précondition sur l'argument de cette fonction ?\n",
    "\n",
    "***Réponses***\n",
    "\n",
    "A `x < 0`\n",
    "\n",
    "B `x >= 0`\n",
    "\n",
    "C `2 * x > 0`\n",
    "\n",
    "D `sqrt(x) >= 0`"
   ]
  },
  {
   "cell_type": "markdown",
   "metadata": {},
   "source": [
    "**Réponse B** la fonction racine n'est définie que si $2x\\geqslant 0$"
   ]
  },
  {
   "cell_type": "markdown",
   "metadata": {},
   "source": [
    "<hr/>\n",
    "\n",
    "**Question F.6**\n",
    "\n",
    "On définit une fonction f de la façon suivante :\n",
    "\n",
    "```python\n",
    "def f(L,m):\n",
    "    R = []\n",
    "    for i in range(len(L)):\n",
    "        if L[i] > m:\n",
    "            R.append(L[i])\n",
    "    return R\n",
    "```\n",
    "\n",
    "On définit `L = [1, 7, 3, 4, 8, 2, 0, 3, 5]`.\n",
    "\n",
    "Que vaut `f(L,4)` ?\n",
    "\n",
    "***Réponses***\n",
    "\n",
    "A `[0, 7, 0, 0, 8, 0, 0, 0, 5]`\n",
    "\n",
    "B `[0, 0, 0, 5]`\n",
    "\n",
    "C `[7, 8, 5]`\n",
    "\n",
    "D `[]`"
   ]
  },
  {
   "cell_type": "code",
   "execution_count": null,
   "metadata": {},
   "outputs": [],
   "source": [
    "def f(L,m):\n",
    "    R = []\n",
    "    for i in range(len(L)):\n",
    "        if L[i] > m:\n",
    "            R.append(L[i])\n",
    "    return R\n",
    "L = [1, 7, 3, 4, 8, 2, 0, 3, 5]\n",
    "f(L,4)"
   ]
  },
  {
   "cell_type": "markdown",
   "metadata": {},
   "source": [
    "**Réponse C** la fonction `f` filtre les valeurs de `L` strictement supérieures à `m`"
   ]
  },
  {
   "cell_type": "markdown",
   "metadata": {},
   "source": [
    "Thème G : algorithmique\n",
    "======================="
   ]
  },
  {
   "cell_type": "markdown",
   "metadata": {},
   "source": [
    "<hr/>\n",
    "\n",
    "**Question G.1**\n",
    "\n",
    "La fonction ci-dessous permet d'effectuer une recherche par dichotomie\n",
    "de l'index `m` de l'élément `x` dans un tableau `L` de valeurs distinctes et triées.\n",
    "\n",
    "```python\n",
    "def dicho(x,L):\n",
    "    g = 0\n",
    "    d = len(L)-1\n",
    "    while g <= d:\n",
    "        m = (g+d)//2\n",
    "        if L[m] == x:\n",
    "            return m\n",
    "        elif L[m] < x:\n",
    "            g = m+1\n",
    "        else:\n",
    "            d = m-1\n",
    "    return None\n",
    "```\n",
    "\n",
    "Combien de fois la cinquième ligne du code de la fonction `m=(g+d)//2`\n",
    "sera-t-elle exécutée dans l'appel `dicho(32, [4, 5, 7, 25, 32, 50, 51, 60])` ?\n",
    "\n",
    "***Réponses***\n",
    "\n",
    "A 1 fois\n",
    "\n",
    "B 2 fois\n",
    "\n",
    "C 3 fois\n",
    "\n",
    "D 4 fois"
   ]
  },
  {
   "cell_type": "code",
   "execution_count": null,
   "metadata": {},
   "outputs": [],
   "source": [
    "def dicho(x,L):\n",
    "    g = 0\n",
    "    d = len(L)-1\n",
    "    while g <= d:\n",
    "        m = (g+d)//2\n",
    "        print('one more time')\n",
    "        if L[m] == x:\n",
    "            return m\n",
    "        elif L[m] < x:\n",
    "            g = m+1\n",
    "        else:\n",
    "            d = m-1\n",
    "    return None\n",
    "dicho(32, [4, 5, 7, 25, 32, 50, 51, 60])\n"
   ]
  },
  {
   "cell_type": "markdown",
   "metadata": {},
   "source": [
    "**Réponse C**"
   ]
  },
  {
   "cell_type": "markdown",
   "metadata": {},
   "source": [
    "<hr/>\n",
    "\n",
    "**Question G.2**\n",
    "\n",
    "On définit la fonction f comme suit :\n",
    "\n",
    "```python\n",
    "def f(L):\n",
    "    a = L[0]\n",
    "    for x in L:\n",
    "        if x < a:\n",
    "            a = x\n",
    "    return a\n",
    "```\n",
    "\n",
    "Quelle est la valeur renvoyée par l'appel `f([7, 10.3, -4, 12 ,7 ,2, 0.7, -5, 14, 1.4])` ?\n",
    "\n",
    "***Réponses***\n",
    "\n",
    "A -5\n",
    "\n",
    "B 1.4\n",
    "\n",
    "C 7\n",
    "\n",
    "D 14"
   ]
  },
  {
   "cell_type": "code",
   "execution_count": null,
   "metadata": {},
   "outputs": [],
   "source": [
    "def f(L):\n",
    "    a = L[0]\n",
    "    for x in L:\n",
    "        if x < a:\n",
    "            a = x\n",
    "    return a\n",
    "f([7, 10.3, -4, 12 ,7 ,2, 0.7, -5, 14, 1.4])"
   ]
  },
  {
   "cell_type": "markdown",
   "metadata": {},
   "source": [
    "**Réponse A** La fonction `f` implémente une recherche de minimum."
   ]
  },
  {
   "cell_type": "markdown",
   "metadata": {},
   "source": [
    "<hr/>\n",
    "\n",
    "**Question G.3**\n",
    "\n",
    "À quelle catégorie appartient l'algorithme des k plus proches voisins ?\n",
    "\n",
    "***Réponses***\n",
    "\n",
    "A algorithmes de tri\n",
    "\n",
    "B algorithmes gloutons\n",
    "\n",
    "C algorithmes de recherche de chemins\n",
    "\n",
    "D algorithmes de classification et d'apprentissage"
   ]
  },
  {
   "cell_type": "markdown",
   "metadata": {},
   "source": [
    "**Réponse D**"
   ]
  },
  {
   "cell_type": "markdown",
   "metadata": {},
   "source": [
    "<hr/>\n",
    "\n",
    "**Question G.4**\n",
    "\n",
    "Soit $T$ le temps nécessaire pour trier, à l'aide de l'algorithme du\n",
    "tri par insertion, une liste de 1000 nombres entiers. Quel est l'ordre\n",
    "de grandeur du temps nécessaire, avec le même algorithme, pour trier une liste de 10 000 entiers, c'est-à-dire une liste dix fois plus grande ?\n",
    "\n",
    "Réponses\n",
    "\n",
    "A à peu près le même temps $T$\n",
    "\n",
    "B environ $10 \\times T$\n",
    "\n",
    "C environ $100 \\times T$\n",
    "\n",
    "D environ $T^{2}$"
   ]
  },
  {
   "cell_type": "markdown",
   "metadata": {},
   "source": [
    "**Réponse C** le tri par insertion est un algortihme de complexité temporelle quadratique"
   ]
  },
  {
   "cell_type": "markdown",
   "metadata": {},
   "source": [
    "<hr/>\n",
    "\n",
    "**Question G.5**\n",
    "\n",
    "On exécute le code suivant :\n",
    "\n",
    "```python\n",
    "tab = [1, 4, 3, 8, 2]\n",
    "S = 0\n",
    "\n",
    "for i in range(len(tab)):\n",
    "    S = S + tab[i]\n",
    "```\n",
    "Que vaut la variable `S` à la fin de l'exécution ?\n",
    "\n",
    "***Réponses***\n",
    "\n",
    "A 1\n",
    "\n",
    "B 8\n",
    "\n",
    "C 18\n",
    "\n",
    "D 3.6\n",
    "\n"
   ]
  },
  {
   "cell_type": "code",
   "execution_count": null,
   "metadata": {},
   "outputs": [],
   "source": [
    "tab = [1, 4, 3, 8, 2]\n",
    "S = 0\n",
    "\n",
    "for i in range(len(tab)):\n",
    "    S = S + tab[i]\n",
    "S"
   ]
  },
  {
   "cell_type": "markdown",
   "metadata": {},
   "source": [
    "**Réponse C** Cet algorithme est un algorithme d'accumulation qui calcule la somme des éléments de la liste"
   ]
  },
  {
   "cell_type": "markdown",
   "metadata": {},
   "source": [
    "<hr/>\n",
    "\n",
    "**Question G.6**\n",
    "\n",
    "Un algorithme de calcul de moyenne est implémenté de la façon suivante :\n",
    "\n",
    "```python\n",
    "def moyenne(liste) :\n",
    "    t = 0\n",
    "    for e in liste :\n",
    "        t = t + e\n",
    "        # assertion vraie à cet endroit\n",
    "    return t/len(liste)\n",
    "```\n",
    "\n",
    "Parmi les propositions suivantes, laquelle reste vraie à la fin de\n",
    "chaque itération de la boucle ?\n",
    "\n",
    "***Réponses***\n",
    "\n",
    "A e vaut le nombre de passages dans la boucle\n",
    "\n",
    "B t vaut la somme des éléments visités de la liste\n",
    "\n",
    "C t vaut la moyenne des éléments visités de la liste\n",
    "\n",
    "D après k passages dans la boucle la liste contient k termes"
   ]
  },
  {
   "cell_type": "markdown",
   "metadata": {},
   "source": [
    "**Réponse B**"
   ]
  },
  {
   "cell_type": "code",
   "execution_count": null,
   "metadata": {},
   "outputs": [],
   "source": []
  }
 ],
 "metadata": {
  "kernelspec": {
   "display_name": "Python 3",
   "language": "python",
   "name": "python3"
  },
  "language_info": {
   "codemirror_mode": {
    "name": "ipython",
    "version": 3
   },
   "file_extension": ".py",
   "mimetype": "text/x-python",
   "name": "python",
   "nbconvert_exporter": "python",
   "pygments_lexer": "ipython3",
   "version": "3.7.5"
  }
 },
 "nbformat": 4,
 "nbformat_minor": 2
}
