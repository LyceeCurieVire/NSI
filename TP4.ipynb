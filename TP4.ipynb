{
 "cells": [
  {
   "cell_type": "markdown",
   "metadata": {},
   "source": [
    "# TP : Les listes\n",
    "Les listes sont un type construit : une liste est une structure qui contient des éléments de même type ou pas, numérotés par des entiers naturels."
   ]
  },
  {
   "cell_type": "code",
   "execution_count": null,
   "metadata": {},
   "outputs": [],
   "source": [
    "liste1= [2, 5, 7, 12]  #une liste de quatre entiers\n",
    "liste2= ['a', True, [1,2,3], 2.55, [], {}]  #une liste de cinq éléments : un string,\n",
    "                                            #un booléen, une liste d'entiers, un flottant, \n",
    "                                            #la liste vide, l'ensemble vide"
   ]
  },
  {
   "cell_type": "markdown",
   "metadata": {},
   "source": [
    "La longueur d'une liste s'obtient avec la fonction `len`.\n",
    "\n",
    "Les éléments d'une liste sont accessible avec l'opérateur d'indexation `[]`,\n",
    "via la syntaxe `liste[numéro]`"
   ]
  },
  {
   "cell_type": "markdown",
   "metadata": {},
   "source": [
    "**Q1** Donner les valeurs renvoyées par l'interpréteur Python pour les commandes ci-dessous."
   ]
  },
  {
   "cell_type": "code",
   "execution_count": null,
   "metadata": {},
   "outputs": [],
   "source": [
    "liste1[0]"
   ]
  },
  {
   "cell_type": "code",
   "execution_count": null,
   "metadata": {},
   "outputs": [],
   "source": [
    "liste1[3]"
   ]
  },
  {
   "cell_type": "code",
   "execution_count": null,
   "metadata": {},
   "outputs": [],
   "source": [
    "len(liste1)"
   ]
  },
  {
   "cell_type": "code",
   "execution_count": null,
   "metadata": {},
   "outputs": [],
   "source": [
    "liste1[-1]   #les indices négatifs signifient qu'on compte à partir de la fin de la liste"
   ]
  },
  {
   "cell_type": "code",
   "execution_count": null,
   "metadata": {},
   "outputs": [],
   "source": [
    "liste2[2]"
   ]
  },
  {
   "cell_type": "code",
   "execution_count": null,
   "metadata": {},
   "outputs": [],
   "source": [
    "liste2[2][0]  #on accède à un élément d'une liste qui est elle-même élément d'une liste"
   ]
  },
  {
   "cell_type": "code",
   "execution_count": null,
   "metadata": {},
   "outputs": [],
   "source": [
    "type(liste2)"
   ]
  },
  {
   "cell_type": "code",
   "execution_count": null,
   "metadata": {},
   "outputs": [],
   "source": [
    "type(liste2[2])"
   ]
  },
  {
   "cell_type": "code",
   "execution_count": null,
   "metadata": {},
   "outputs": [],
   "source": [
    "for k in liste2:\n",
    "    print(type(k))"
   ]
  },
  {
   "cell_type": "markdown",
   "metadata": {},
   "source": [
    "## Générer une liste\n",
    "On peut définir une liste \n",
    "\n",
    "* en extension, en donnant tous ses éléments\n",
    "* élément par élément, en partant d'une liste vide et en utilisant `append`\n",
    "* en compréhension, en donnant le terme général"
   ]
  },
  {
   "cell_type": "markdown",
   "metadata": {},
   "source": [
    "**Q2** Donner la valeur de chacune des listes définies ci-dessous"
   ]
  },
  {
   "cell_type": "code",
   "execution_count": null,
   "metadata": {},
   "outputs": [],
   "source": [
    "liste3 = [ 5, 12, 45, 21, 13]  #liste définie en extension"
   ]
  },
  {
   "cell_type": "code",
   "execution_count": null,
   "metadata": {},
   "outputs": [],
   "source": [
    "#liste définie par ajouts successifs\n",
    "liste4= []\n",
    "for k in range(10):\n",
    "    liste4.append(k**2)"
   ]
  },
  {
   "cell_type": "code",
   "execution_count": null,
   "metadata": {},
   "outputs": [],
   "source": [
    "liste5= [k**3 for k in range(10)]  #liste définie en compréhension"
   ]
  },
  {
   "cell_type": "markdown",
   "metadata": {},
   "source": [
    "## Modifier une liste\n",
    "On dispose aussi de quelques méthodes permettant de modifier une liste\n",
    "\n",
    "* `liste.extend(sequence)` permet de concaténer des listes\n",
    "* on peut aussi concaténer des listes avec `+`\n",
    "* `liste.insert(indice,valeur)` permet d'insérer un élément à une position\n",
    "* `liste.remove(élément)` supprime la première occurence de l'élément dans la liste\n",
    "* `liste.pop()` supprime et renvoit le dernier élément"
   ]
  },
  {
   "cell_type": "markdown",
   "metadata": {},
   "source": [
    "**Q3** Ci-dessous on définit une liste puis on effectue des opérations sur cette liste.\n",
    "\n",
    "Ecrire les affichages de cette séquence d'instructions."
   ]
  },
  {
   "cell_type": "code",
   "execution_count": 1,
   "metadata": {},
   "outputs": [
    {
     "name": "stdout",
     "output_type": "stream",
     "text": [
      "[1, 2, 3, 4, 5, 6]\n",
      "[100, 1, 2, 3, 4, 5, 6]\n",
      "[100, 1, 2, 200, 3, 4, 5, 6]\n",
      "[100, 1, 2, 200, 3, 4, 5, 500, 6]\n",
      "[100, 1, 2, 200, 3, 4, 5, 500, 6, 1000]\n",
      "1000\n",
      "[100, 1, 2, 200, 3, 4, 5, 500, 6]\n",
      "[100, 1, 2, 200, 3, 4, 500, 6]\n",
      "[10000, 1, 2, 200, 3, 4, 500, 6]\n",
      "[4, 5, 6, 10000, 1, 2, 200, 3, 4, 500, 6, 4, 5, 6]\n"
     ]
    }
   ],
   "source": [
    "l=[1,2,3]\n",
    "l2=[4,5,6]\n",
    "l.extend(l2)\n",
    "print(l)\n",
    "l.insert(0,100)\n",
    "print(l)\n",
    "l.insert(3,200)\n",
    "print(l)\n",
    "l.insert(-1,500)\n",
    "print(l)\n",
    "l.append(1000)\n",
    "print(l)\n",
    "print(l.pop())\n",
    "print(l)\n",
    "l.remove(5)\n",
    "print(l)\n",
    "l[0]=10000\n",
    "print(l)\n",
    "print(l2+l+l2)"
   ]
  },
  {
   "cell_type": "markdown",
   "metadata": {},
   "source": [
    "**Q4** On décrit ici des opérations sur une liste.\n",
    "\n",
    "Ecrire les instructions Python correspondantes et donner la valeur finale de la liste.\n",
    "\n",
    "* on part de la liste `l=['a', 'b', 'c']`\n",
    "* on insère `'z'` en position zéro\n",
    "* on ajoute l'élément `'e'` en fin de liste\n",
    "* on étend la liste `l` par la liste `['x','y','z','t']`\n",
    "* on supprime `'c'` avec la fonction `remove`\n",
    "* on pope le dernier élément (on anglicise beaucoup en CS)\n",
    "* on insère `t` en position 3\n",
    "* on utiliser `remove` pour enlever `'b'`"
   ]
  },
  {
   "cell_type": "markdown",
   "metadata": {},
   "source": [
    "## Les listes sont mutables (contrairement aux tuples)"
   ]
  },
  {
   "cell_type": "markdown",
   "metadata": {},
   "source": [
    "Aux questions 3 et 4 on a modifié une liste.\n",
    "\n",
    "On dit qu'une liste est mutable, ce qui signifie qu'on peut la modifier, contrairement à un tuple, qui essentiellement est une liste avec des parenthèses au lieu de crochets."
   ]
  },
  {
   "cell_type": "markdown",
   "metadata": {},
   "source": [
    "**Q5** Parmi les instructions suivantes, recopier celle(s) qui provoque(nt) une erreur dans la console Python, ainsi que le message d'erreur."
   ]
  },
  {
   "cell_type": "code",
   "execution_count": null,
   "metadata": {},
   "outputs": [],
   "source": [
    "l=[1,2,3]  #une liste\n",
    "t=1,2,3  #un tuple\n",
    "print(l)\n",
    "print(t)\n",
    "print(l[0],t[2])\n",
    "l[0]=10\n",
    "t[1]=20"
   ]
  },
  {
   "cell_type": "markdown",
   "metadata": {},
   "source": [
    "## Les listes ne sont pas recopiées\n",
    "Pour cette partie, il est recommandé d'utiliser PythonTutor afin de visualiser la représentation interne des listes.\n",
    "\n",
    "**Q6**  Quelle est la valeur de la liste1 à la fin de cette séquence d'affectations ?"
   ]
  },
  {
   "cell_type": "code",
   "execution_count": null,
   "metadata": {},
   "outputs": [],
   "source": [
    "liste1=[5,10,15,20]\n",
    "liste2=liste1\n",
    "liste2.append(25)\n",
    "liste2.remove(15)\n",
    "liste2[1]=100"
   ]
  },
  {
   "cell_type": "markdown",
   "metadata": {},
   "source": [
    "**Attention : l'affectation `liste2=liste1` ne crée pas une nouvelle liste**"
   ]
  },
  {
   "cell_type": "markdown",
   "metadata": {},
   "source": [
    "Si on passe une liste en paramètre à une fonction, cette fonction peut modifier la liste,\n",
    "alors que pour les paramètres ayant un type de base la fonction travaille sur une copie de la variable."
   ]
  },
  {
   "cell_type": "markdown",
   "metadata": {},
   "source": [
    "**Q7** Qu'affiche la séquence d'instructions ci-dessous ?\n",
    "\n",
    "*Pour une meilleure compréhension des mécanismes en jeu, il est indispensable d'utiliser PythonTutor ici*."
   ]
  },
  {
   "cell_type": "code",
   "execution_count": null,
   "metadata": {},
   "outputs": [],
   "source": [
    "a=10\n",
    "liste=['a','b','c']"
   ]
  },
  {
   "cell_type": "code",
   "execution_count": null,
   "metadata": {},
   "outputs": [],
   "source": [
    "#cette fonction attend un entier comme premier paramètre et une liste en deuxième paramètre\n",
    "def fonction(u,v):\n",
    "    u=u+len(v)\n",
    "    v.append(u)\n",
    "    return u,v"
   ]
  },
  {
   "cell_type": "code",
   "execution_count": null,
   "metadata": {},
   "outputs": [],
   "source": [
    "print(a,liste)\n",
    "print(fonction(a,liste))\n",
    "print(a,liste)"
   ]
  },
  {
   "cell_type": "markdown",
   "metadata": {},
   "source": [
    "## Recopier une liste\n",
    "Si on veut créer une nouvelle liste à partir d'une ancienne, on peut utiliser diverses techniques, en particulier utiliser la bibliothèque `copy`\n",
    "\n",
    "**Q8** Décrire les différences entre les méthodes proposées ici.\n",
    "\n",
    "*Penser à utiliser PythonTutor*"
   ]
  },
  {
   "cell_type": "code",
   "execution_count": null,
   "metadata": {},
   "outputs": [],
   "source": [
    "l1=[1,2,3,[4,5,6]]\n",
    "l2=l1[:]    #on utilise ici une slice (tranche), voir plus bas\n",
    "l3=[]\n",
    "for k in l1:\n",
    "    l3.append(k)\n",
    "import copy\n",
    "l4=copy.deepcopy(l1)"
   ]
  },
  {
   "cell_type": "code",
   "execution_count": null,
   "metadata": {},
   "outputs": [],
   "source": [
    "l1[0]=10\n",
    "print(l1)\n",
    "print(l2)\n",
    "print(l3)\n",
    "print(l4)"
   ]
  },
  {
   "cell_type": "code",
   "execution_count": null,
   "metadata": {},
   "outputs": [],
   "source": [
    "l1[3][0]=40\n",
    "print(l1)\n",
    "print(l2)\n",
    "print(l3)\n",
    "print(l4)"
   ]
  },
  {
   "cell_type": "markdown",
   "metadata": {},
   "source": [
    "## Les slices (tranches)\n",
    "L'opérateur d'indexation `[]` peut aussi servir à sélectionner une partie d'une liste.\n",
    "\n",
    "* `liste[a:b]` est la liste des éléments de `liste` de l'indice `a` __inclus__ à l'indice `b` __exclus__\n",
    "* `liste[a:b:c]` ne sélectionne qu'un élément sur `c`\n",
    "* les indices peuvent être négatifs, cela signifie qu'on se repère à partir de la fin de la liste\n",
    "* si `a` est omis, il vaut 0 (début de la liste) ; si `b` est omis, il vaut -1 (fin de la liste) ou de façon équivalente il vaut `len(liste)-1`"
   ]
  },
  {
   "cell_type": "markdown",
   "metadata": {},
   "source": [
    "**Q9** En utilisant la console Python, donner les affichages fournis par l'interpréteur."
   ]
  },
  {
   "cell_type": "code",
   "execution_count": null,
   "metadata": {},
   "outputs": [],
   "source": [
    "liste1=[2*k for k in range(30)]\n",
    "liste2='34E6-4FD0-CA3E-3F54-EDA1-345E-2A'.split('-')"
   ]
  },
  {
   "cell_type": "code",
   "execution_count": null,
   "metadata": {},
   "outputs": [],
   "source": [
    "liste1[2:]"
   ]
  },
  {
   "cell_type": "code",
   "execution_count": null,
   "metadata": {},
   "outputs": [],
   "source": [
    "liste2[3:6]"
   ]
  },
  {
   "cell_type": "code",
   "execution_count": null,
   "metadata": {},
   "outputs": [],
   "source": [
    "len(liste2[3:6])"
   ]
  },
  {
   "cell_type": "code",
   "execution_count": null,
   "metadata": {},
   "outputs": [],
   "source": [
    "liste1[::3]"
   ]
  },
  {
   "cell_type": "code",
   "execution_count": null,
   "metadata": {},
   "outputs": [],
   "source": [
    "liste1[::-7]"
   ]
  },
  {
   "cell_type": "code",
   "execution_count": null,
   "metadata": {},
   "outputs": [],
   "source": [
    "liste2[::-1]  #très utile !"
   ]
  },
  {
   "cell_type": "markdown",
   "metadata": {},
   "source": [
    "**Q10** Avez-vous utilisé PythonTutor pour les questions Q7 et Q8 ?"
   ]
  },
  {
   "cell_type": "markdown",
   "metadata": {},
   "source": [
    "## Parcourir une liste\n",
    "L'instruction `for` sert à parcourir les éléments d'une liste un par un.\n",
    "L'opérateur `in` a deux significations distinctes :\n",
    "\n",
    "* utilisé seul, il correspond à $\\in$ et permet de tester l'appartenance d'un élément à une liste, en renvoyant un booléen\n",
    "* utilisé avec `for` il fait partie de la construction permettant de parcourir les éléments d'une liste"
   ]
  },
  {
   "cell_type": "markdown",
   "metadata": {},
   "source": [
    "**Q11** Recopier les réponses de l'interpréteur Python aux instructions de la séquence ci-dessous."
   ]
  },
  {
   "cell_type": "code",
   "execution_count": null,
   "metadata": {},
   "outputs": [],
   "source": [
    "liste = [1,2,3,[4,5,6]]\n",
    "len(l)"
   ]
  },
  {
   "cell_type": "code",
   "execution_count": null,
   "metadata": {},
   "outputs": [],
   "source": [
    "3 in l"
   ]
  },
  {
   "cell_type": "code",
   "execution_count": null,
   "metadata": {},
   "outputs": [],
   "source": [
    "4 in l"
   ]
  },
  {
   "cell_type": "code",
   "execution_count": null,
   "metadata": {},
   "outputs": [],
   "source": [
    "4 in l[3]"
   ]
  },
  {
   "cell_type": "code",
   "execution_count": null,
   "metadata": {},
   "outputs": [],
   "source": [
    "for elt in liste:\n",
    "    print(elt)"
   ]
  },
  {
   "cell_type": "code",
   "execution_count": null,
   "metadata": {},
   "outputs": [],
   "source": [
    "for indice in range(len(l)):\n",
    "    print(indice)"
   ]
  },
  {
   "cell_type": "code",
   "execution_count": null,
   "metadata": {},
   "outputs": [],
   "source": [
    "for indice in range(len(l)):\n",
    "    print(indice,'--->',l[indice])"
   ]
  },
  {
   "cell_type": "code",
   "execution_count": null,
   "metadata": {},
   "outputs": [],
   "source": [
    "for indice,elt in enumerate(l):\n",
    "    print(indice,'--->',elt)"
   ]
  },
  {
   "cell_type": "markdown",
   "metadata": {},
   "source": [
    "## Algorithmes de parcours de liste : accumulation, filtrage"
   ]
  },
  {
   "cell_type": "markdown",
   "metadata": {},
   "source": [
    "**Q12** Que fait la fonction `mystere` définie ci-dessous ?"
   ]
  },
  {
   "cell_type": "code",
   "execution_count": null,
   "metadata": {},
   "outputs": [],
   "source": [
    "def mystere(liste):\n",
    "    s=0\n",
    "    for k in liste:\n",
    "        s=s+k\n",
    "    return(s)"
   ]
  },
  {
   "cell_type": "code",
   "execution_count": null,
   "metadata": {},
   "outputs": [],
   "source": [
    "l=[5,12,13]\n",
    "print(mystere(l))"
   ]
  },
  {
   "cell_type": "code",
   "execution_count": null,
   "metadata": {},
   "outputs": [],
   "source": [
    "l2=list(range(100)) #la fonction list transforme son argument (un range) en liste\n",
    "print(mystere(l2)"
   ]
  },
  {
   "cell_type": "markdown",
   "metadata": {},
   "source": [
    "**Q13** Ecrire une fonction `produit` qui renvoit le produit des éléments d'une liste.\n",
    "\n",
    "On supposera que ces éléments sont des entiers ou des flottants."
   ]
  },
  {
   "cell_type": "markdown",
   "metadata": {},
   "source": [
    "**Q14** En vous inspirant de la fonction `minimum` proposée ci-dessous, écrire une fonction maximum qui renvoit le `maximum` des éléments d'une liste."
   ]
  },
  {
   "cell_type": "code",
   "execution_count": null,
   "metadata": {},
   "outputs": [],
   "source": [
    "def maximum(liste):\n",
    "    m=liste[0]\n",
    "    for elt in liste[1:]:\n",
    "        if elt>m:\n",
    "            m=elt\n",
    "    return m"
   ]
  },
  {
   "cell_type": "markdown",
   "metadata": {},
   "source": [
    "## Accumulation \n",
    "Les fonctions des questions Q12, Q13 et Q14 utilisent des algorithmes d'accumulation, dans lesquels on parcourt la liste des données une fois en mettant à jour le contenu d'un accumulateur, qui peut être la somme, le produit, le minimum, le maximum.\n",
    "\n",
    "Pour les fonctions `minimum` et `maximum`, on ne parcourt la liste que à partir du deuxième élément, car le premier élément sert à initialiser l'accumulateur."
   ]
  },
  {
   "cell_type": "markdown",
   "metadata": {},
   "source": [
    "**Q15** Réécrire la fonction `mystere` sous le nom `somme` en initialisant la variable `s` par le premier élément de la liste.\n",
    "\n",
    "Si on voulait réécrire la fonction `minimum` en bouclant sur tous les éléments de la liste, par quelle valeur faudrait-il initialiser la variable `m` ?"
   ]
  },
  {
   "cell_type": "markdown",
   "metadata": {},
   "source": [
    "## Filtrage\n",
    "Le filtrage d'une liste consiste à ne garder que certains éléments d'une liste. On peut éventuellement associer ce filtarge à une accumulation.\n",
    "\n",
    "**Q16** Décrire ce que fait la fonction filtre ci-dessous."
   ]
  },
  {
   "cell_type": "code",
   "execution_count": null,
   "metadata": {},
   "outputs": [],
   "source": [
    "def filtre(liste):\n",
    "    l=[]\n",
    "    for k in liste:\n",
    "        if k>0:\n",
    "            l.append(k)\n",
    "    return l"
   ]
  },
  {
   "cell_type": "code",
   "execution_count": null,
   "metadata": {},
   "outputs": [],
   "source": [
    "l1=[k**2-6*k+5 for k in range(10)]\n",
    "print(l1)\n",
    "print(filtre(l1))"
   ]
  },
  {
   "cell_type": "markdown",
   "metadata": {},
   "source": [
    "**Q17** Ecrire une fonction `sommeplus` qui ajoute tous les éléments positifs d'une liste de nombres."
   ]
  },
  {
   "cell_type": "markdown",
   "metadata": {},
   "source": [
    "## L'instruction `assert`\n",
    "\n",
    "L'instruction `assert` doit être suivie d'une condition, et éventuellement d'une chaîne de caractères.\n",
    "\n",
    "Cette instruction arrête le programme si la condition est fausse, elle est donc utile pour vérifier que le programme se comporte correctement.\n",
    "\n",
    "**Q18** Vérifier le bon fonctionnement de la fonction `sommeplus` avec les quelques lignes ci-dessous. Quelles sont les assertions qui lèvent une exception ?"
   ]
  },
  {
   "cell_type": "code",
   "execution_count": null,
   "metadata": {},
   "outputs": [],
   "source": [
    "assert sommeplus(l1)==75, \"la fonction sommeplus ne fonctionne pas sur la liste l1\""
   ]
  },
  {
   "cell_type": "code",
   "execution_count": null,
   "metadata": {},
   "outputs": [],
   "source": [
    "from random import randint\n",
    "for i in range(10):\n",
    "    l=[randint(-10,10) for k in range(20)]\n",
    "    assert sommeplus(l)==sum(x for x in l if x>0), \"sommeplus mise en défaut par \"+str(l)"
   ]
  },
  {
   "cell_type": "markdown",
   "metadata": {},
   "source": [
    "## Recherche dans une liste\n",
    "La fonction `recherche` proposée ci-dessous renvoie le premier indice auquel on trouve l'élément `elt` dans la liste `l`, et renvoie -1 si on ne trouve pas `elt` dans `l`\n",
    "\n",
    "**Q19** Simplifier la fonction `recherche` en une fonction `cherche` qui renvoie `True` ou `False` suivant que `elt` est dans `l` ou pas. On n'utilisera bien sûr pas `in`."
   ]
  },
  {
   "cell_type": "code",
   "execution_count": null,
   "metadata": {},
   "outputs": [],
   "source": [
    "def recherche(elt,l):\n",
    "    for i,e in enumerate(l):\n",
    "        if elt==e:\n",
    "            return i\n",
    "    return(-1)"
   ]
  },
  {
   "cell_type": "code",
   "execution_count": null,
   "metadata": {},
   "outputs": [],
   "source": [
    "listeTest=[12,35,49,50,56]\n",
    "assert recherche(12,listeTest)==0\n",
    "assert recherche(49,listeTest)==2\n",
    "assert recherche(80,listeTest)==-1\n",
    "assert recherche(12,[])==-1"
   ]
  },
  {
   "cell_type": "markdown",
   "metadata": {},
   "source": [
    "**Q20** Ecrire une fonction `occurence(elt,l)` qui renvoie le nombre d'apparitions de `elt` dans `l`. On pourra rconnaître un algorithme d'accumulation avec filtration."
   ]
  },
  {
   "cell_type": "markdown",
   "metadata": {},
   "source": [
    "### Une version récursive\n",
    "\n",
    "Une fonction récursive est une fonction qui s'appelle elle-même.\n",
    "\n",
    "La fonction `chercherec` implémente cet algorithme :\n",
    "\n",
    "* si la liste est vide, renvoyer faux\n",
    "* sinon,\n",
    "    * si l'élément est la tête de la liste, renvoyer vrai\n",
    "    * sinon renvoyer le résultat de l'appel de la fonction sur la queue de la liste "
   ]
  },
  {
   "cell_type": "markdown",
   "metadata": {},
   "source": [
    "def chercherec(elt,l):\n",
    "    if l==[]:\n",
    "        return False\n",
    "    elif elt==l[0]:\n",
    "        return True\n",
    "    else:\n",
    "        return chercherec(elt,l[1:])"
   ]
  },
  {
   "cell_type": "markdown",
   "metadata": {},
   "source": [
    "Ce type de programmation est caractéristique de la programmation fonctionnelle, comme p.ex en Lisp/Scheme, en OCaML."
   ]
  },
  {
   "cell_type": "markdown",
   "metadata": {},
   "source": [
    "**Q21** Comment peut-on être certain que cette fonction terminera ?"
   ]
  },
  {
   "cell_type": "markdown",
   "metadata": {},
   "source": [
    "## Recherche dichotomique dans une liste triée"
   ]
  },
  {
   "cell_type": "code",
   "execution_count": null,
   "metadata": {},
   "outputs": [],
   "source": [
    "l=[195, 164, 197, 77, 175, 102, 200, 8, 184, 125, 116, 69, 48, 141, 13, \n",
    "   1, 162, 151, 39, 70, 43, 132, 33, 112, 159, 5, 72]\n",
    "\n",
    "print(sorted(l))\n",
    "print(l)"
   ]
  },
  {
   "cell_type": "code",
   "execution_count": null,
   "metadata": {},
   "outputs": [],
   "source": [
    "l.sort()\n",
    "print(l)"
   ]
  },
  {
   "cell_type": "markdown",
   "metadata": {},
   "source": [
    "**Q22** Que font les fonctions `sorted` et `sort` ?\n",
    "\n",
    "Expliquer la différence entre les deux."
   ]
  },
  {
   "cell_type": "markdown",
   "metadata": {},
   "source": [
    "L'idée de la recherche dichotomique est de comparer l'élément cherché `elt` avec l'élément `l[m]` situé au milieu `m` de la liste. On a quatre cas possibles :\n",
    "\n",
    "* la liste est vide\n",
    "* `elt==l[m]` alors on a trouvé\n",
    "* `elt<l[m]` alors on doit chercher dans la moitié gauche de la liste\n",
    "* `elt>l[m]` alors on continue la recherche dans la partie droite de la liste\n",
    "\n",
    "Voici une version récursive de l'algorithme."
   ]
  },
  {
   "cell_type": "code",
   "execution_count": null,
   "metadata": {},
   "outputs": [],
   "source": [
    "def rechercheDicho(elt,l):\n",
    "    if l==[]:\n",
    "        return False\n",
    "    m=len(l)//2\n",
    "    if elt==l[m]:\n",
    "        return True\n",
    "    elif elt<l[m]:\n",
    "        return rechercheDicho(elt,l[:i])\n",
    "    else:\n",
    "        return rechercheDicho(elt,l[i:])"
   ]
  },
  {
   "cell_type": "markdown",
   "metadata": {},
   "source": [
    "**Q23** Copier ou recopier cette fonction dans PythonTutor. Combien d'étapes sont nécessaires pour exécuter l'appel `print(rechercheDicho(33,[1, 5, 8, 13, 33, 39, 43, 48, 69, 70, 72, 77, 102, 112, 116, 125, 132, 141, 151, 159, 162, 164, 175, 184, 195, 197, 200])` ?\n",
    "\n",
    "Combien d'étapes sont nécessaires pour exécuter l'appel `print(rechercheDicho(35,[1, 5, 8, 13, 33, 39, 43, 48, 69, 70, 72, 77, 102, 112, 116, 125, 132, 141, 151, 159, 162, 164, 175, 184, 195, 197, 200])`?"
   ]
  },
  {
   "cell_type": "markdown",
   "metadata": {},
   "source": [
    "### Une version itérative"
   ]
  },
  {
   "cell_type": "code",
   "execution_count": null,
   "metadata": {},
   "outputs": [],
   "source": [
    "def rechercheDichoIter(elt,l):\n",
    "    a,b=0,len(l)\n",
    "    while b>a+1:\n",
    "        m=(a+b)//2\n",
    "        if elt==l[m]:\n",
    "            return True\n",
    "        elif elt<l[m]:\n",
    "            b=m\n",
    "        else:\n",
    "            a=m\n",
    "    return elt==l[a]"
   ]
  },
  {
   "cell_type": "markdown",
   "metadata": {},
   "source": [
    "**Q24** Executer cette fonction à la main, en cherchant l'élément `l=2` dans la liste `[1,2,3,4,5,6]`. On utilisera un tableau de la forme:\n",
    "\n",
    "|   a    |   b   |    m    |\n",
    "|:------:|:-----:|:-------:|\n",
    "|   0    |   6   |         |\n",
    "|\n",
    "|\n"
   ]
  },
  {
   "cell_type": "markdown",
   "metadata": {},
   "source": [
    "**Q26** Modifier la fonction `rechercheDichoIter` pour qu'elle renvoie l'indice de l'occurence trouvée, ou bien -1 si `elt` n'apparaît pas dans `l`."
   ]
  },
  {
   "cell_type": "markdown",
   "metadata": {},
   "source": [
    "## Un algorithme de Knuth"
   ]
  },
  {
   "cell_type": "code",
   "execution_count": 2,
   "metadata": {},
   "outputs": [
    {
     "name": "stdout",
     "output_type": "stream",
     "text": [
      "[1, 2, 3, 4, 5, 6, 7, 8, 9, 10, 11, 12, 13, 14, 15, 16, 17, 18, 19, 20]\n",
      "[20, 1, 16, 19, 3, 14, 15, 17, 2, 11, 7, 13, 10, 8, 18, 5, 4, 9, 6, 12]\n",
      "[5, 13, 18, 14, 15, 3, 19, 20, 2, 17, 6, 11, 9, 7, 1, 12, 10, 4, 16, 8]\n"
     ]
    }
   ],
   "source": [
    "from random import randint\n",
    "#randint(a,b) renvoit un entier entre a et b inclus\n",
    "\n",
    "def knuth(l):\n",
    "    n=len(l)\n",
    "    for i in range(n-1):\n",
    "        j=randint(i,n-1)\n",
    "        l[i],l[j]=l[j],l[i]\n",
    "\n",
    "liste=list(range(1,21))\n",
    "print(liste)\n",
    "knuth(liste)\n",
    "print(liste)\n",
    "knuth(liste)\n",
    "print(liste)"
   ]
  },
  {
   "cell_type": "markdown",
   "metadata": {},
   "source": [
    "**Q27** Que fait la fonction `knuth` ? Décrire son principe de fonctionnement."
   ]
  },
  {
   "cell_type": "code",
   "execution_count": null,
   "metadata": {},
   "outputs": [],
   "source": []
  },
  {
   "cell_type": "code",
   "execution_count": null,
   "metadata": {},
   "outputs": [],
   "source": []
  },
  {
   "cell_type": "code",
   "execution_count": null,
   "metadata": {},
   "outputs": [],
   "source": []
  }
 ],
 "metadata": {
  "kernelspec": {
   "display_name": "Python 3",
   "language": "python",
   "name": "python3"
  },
  "language_info": {
   "codemirror_mode": {
    "name": "ipython",
    "version": 3
   },
   "file_extension": ".py",
   "mimetype": "text/x-python",
   "name": "python",
   "nbconvert_exporter": "python",
   "pygments_lexer": "ipython3",
   "version": "3.7.1"
  }
 },
 "nbformat": 4,
 "nbformat_minor": 2
}
