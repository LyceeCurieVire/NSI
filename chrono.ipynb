{
 "cells": [
  {
   "cell_type": "markdown",
   "metadata": {},
   "source": [
    "# Chronométrer une fonction : notion de complexité"
   ]
  },
  {
   "cell_type": "markdown",
   "metadata": {},
   "source": [
    "Lorsqu'on écrit un algorithme puis qu'on le programme, on se pose plusieurs questions :\n",
    "    * la terminaison, est-ce que le programme a s'arrêter ?\n",
    "    * la correction, le programme donnera-t-il le résultat attendu ?\n",
    "    * la complexité en temps et en espace : de combien de temps, de combien de mémoire le programme a-t-il besoin pour terminer ?"
   ]
  },
  {
   "cell_type": "markdown",
   "metadata": {},
   "source": [
    "L'objectif de ce notebook est d'observer le temps d'exécution des algorithmes au programme de la classe de première, et surtout de voir comment elle évolue en fonction de la taille de l'entrée."
   ]
  },
  {
   "cell_type": "code",
   "execution_count": 69,
   "metadata": {},
   "outputs": [],
   "source": [
    "# la fonction randint(a,b) renvoie un nombre entier au hasard entre a inclus et b inclus\n",
    "from random import randint\n",
    "\n",
    "# on construit une liste de dix nombres, choisis entre 1 et 1000000\n",
    "liste=[randint(1,1000000) for k in range(10)]"
   ]
  },
  {
   "cell_type": "code",
   "execution_count": 70,
   "metadata": {},
   "outputs": [],
   "source": [
    "def recherchesequentielle(x,l):\n",
    "    for elt in l:\n",
    "        if elt==x:\n",
    "            return True\n",
    "    return False"
   ]
  },
  {
   "cell_type": "code",
   "execution_count": 71,
   "metadata": {},
   "outputs": [
    {
     "name": "stdout",
     "output_type": "stream",
     "text": [
      "The slowest run took 9.19 times longer than the fastest. This could mean that an intermediate result is being cached.\n",
      "100000 loops, best of 5: 3.62 µs per loop\n"
     ]
    }
   ],
   "source": [
    "%%timeit\n",
    "# on cherche chacun des éléments de la liste, afin de faire une moyenne sur la position\n",
    "# de l'élément cherché, qui sera trouvé plus rapidement en début de liste qu'en fin de liste\n",
    "for k in liste:\n",
    "    recherchesequentielle(k,liste)"
   ]
  },
  {
   "cell_type": "markdown",
   "metadata": {},
   "source": [
    "L'instruction jupyter magique `%%timeit` va exécuter plusieurs fois le contenu de la cellule et calculer le temps moyen d'exécution."
   ]
  },
  {
   "cell_type": "code",
   "execution_count": 72,
   "metadata": {},
   "outputs": [
    {
     "name": "stdout",
     "output_type": "stream",
     "text": [
      "The slowest run took 6.89 times longer than the fastest. This could mean that an intermediate result is being cached.\n",
      "1000000 loops, best of 5: 481 ns per loop\n"
     ]
    }
   ],
   "source": [
    "%%timeit\n",
    "recherchesequentielle(0,liste)"
   ]
  },
  {
   "cell_type": "markdown",
   "metadata": {},
   "source": [
    "Attention, dans ce exemple on travaille avec une liste de $n=10$ éléments, le premier temps correspond donc à 10 recherches, alors que le deuxième temps ne correspons qu'à une seule recherche, il faut en tenir compte lorsqu'on  complète le tableau ci-dessous.\n",
    "\n",
    "Rappelons aussi que $1\\mu s=10^{-6}s = 1000 ns$, $1ns=10^{-9}s$. Les temps sont donnés en $ns$."
   ]
  },
  {
   "cell_type": "markdown",
   "metadata": {},
   "source": [
    "| n | 10 |20|50|100|200|500|1000|\n",
    "|---|---|---|---|---|---|---|---|\n",
    "|Trouvé|362|491|1018|1870|3675|9180|17400|\n",
    "|Pas trouvé|481|810|1760|3400|6680|17700|33900|"
   ]
  },
  {
   "cell_type": "markdown",
   "metadata": {},
   "source": [
    "Nous allons utiliser la librairie `matplotlib.pyplot` pour visualiser la façon dont le temps de calcul augmente avec la taille de la liste dans laquelle on recherche un élément."
   ]
  },
  {
   "cell_type": "code",
   "execution_count": 73,
   "metadata": {},
   "outputs": [],
   "source": [
    "import matplotlib.pyplot as plt"
   ]
  },
  {
   "cell_type": "code",
   "execution_count": 74,
   "metadata": {},
   "outputs": [],
   "source": [
    "n=[10,20,50,100,200,500,1000]\n",
    "et=[362,491,1018,1870,3675,9180,17400]\n",
    "pt=[481,810,1760,3400,6680,17700,33900]"
   ]
  },
  {
   "cell_type": "code",
   "execution_count": 75,
   "metadata": {},
   "outputs": [
    {
     "data": {
      "image/png": "[encoded data removed]",
      "text/plain": [
       "<Figure size 432x288 with 1 Axes>"
      ]
     },
     "metadata": {
      "needs_background": "light"
     },
     "output_type": "display_data"
    }
   ],
   "source": [
    "plt.plot(n,et,'g*',label='élément trouvé')\n",
    "plt.plot(n,pt,'r*',label='élément pas trouvé')\n",
    "plt.title('Recherche séquentielle')\n",
    "plt.xlabel('Taille $n$ de la liste')\n",
    "plt.ylabel('Temps en nanosecondes')\n",
    "plt.legend()\n",
    "plt.show()"
   ]
  },
  {
   "cell_type": "markdown",
   "metadata": {},
   "source": [
    "**Question** Comment qualifier la complexité en temps de cet algorithme ?\n",
    "\n",
    "*Indice* piocher dans le vocabulaire suivant : linéaire, quadratique, logarithmique, exponentiel, quasi-linéaire."
   ]
  },
  {
   "cell_type": "markdown",
   "metadata": {},
   "source": [
    "**Question** Comment caractériser le lien entre les temps pour les deux cas examinés, élément dans la liste vs élément pas dans la liste ?"
   ]
  },
  {
   "cell_type": "code",
   "execution_count": null,
   "metadata": {},
   "outputs": [],
   "source": []
  },
  {
   "cell_type": "markdown",
   "metadata": {},
   "source": [
    "**Ex1** Refaire les manipulations, remplir le tableau, refaire le graphique."
   ]
  },
  {
   "cell_type": "code",
   "execution_count": null,
   "metadata": {},
   "outputs": [],
   "source": []
  },
  {
   "cell_type": "code",
   "execution_count": null,
   "metadata": {},
   "outputs": [],
   "source": []
  },
  {
   "cell_type": "code",
   "execution_count": null,
   "metadata": {},
   "outputs": [],
   "source": []
  },
  {
   "cell_type": "code",
   "execution_count": null,
   "metadata": {},
   "outputs": [],
   "source": []
  },
  {
   "cell_type": "code",
   "execution_count": null,
   "metadata": {},
   "outputs": [],
   "source": []
  },
  {
   "cell_type": "markdown",
   "metadata": {},
   "source": [
    "## Utilisation de la bibliothèque `time`"
   ]
  },
  {
   "cell_type": "markdown",
   "metadata": {},
   "source": [
    "Un problème avec l'utilisation de `%%timeit`, instruction liée à Jupyter, est que les manipulations pour modifier la taille $n$ de l'entrés sont fastidieuses alors qu'on voudrait les automatiser.\n",
    "\n",
    "La fonction `time` de la librairie du même nom va nous servir à chronométrer des instructions."
   ]
  },
  {
   "cell_type": "code",
   "execution_count": 80,
   "metadata": {},
   "outputs": [],
   "source": [
    "import time"
   ]
  },
  {
   "cell_type": "code",
   "execution_count": 81,
   "metadata": {},
   "outputs": [
    {
     "data": {
      "text/plain": [
       "1589147946.5354512"
      ]
     },
     "execution_count": 81,
     "metadata": {},
     "output_type": "execute_result"
    }
   ],
   "source": [
    "time.time()"
   ]
  },
  {
   "cell_type": "code",
   "execution_count": 82,
   "metadata": {},
   "outputs": [
    {
     "data": {
      "text/plain": [
       "1589147953.3629844"
      ]
     },
     "execution_count": 82,
     "metadata": {},
     "output_type": "execute_result"
    }
   ],
   "source": [
    "time.time()"
   ]
  },
  {
   "cell_type": "code",
   "execution_count": 83,
   "metadata": {},
   "outputs": [],
   "source": [
    "t0=time.time()"
   ]
  },
  {
   "cell_type": "code",
   "execution_count": 87,
   "metadata": {},
   "outputs": [
    {
     "data": {
      "text/plain": [
       "5.630523681640625"
      ]
     },
     "execution_count": 87,
     "metadata": {},
     "output_type": "execute_result"
    }
   ],
   "source": [
    "time.time()-t0 # à exécuter plusieurs fois"
   ]
  },
  {
   "cell_type": "code",
   "execution_count": 89,
   "metadata": {},
   "outputs": [
    {
     "name": "stdout",
     "output_type": "stream",
     "text": [
      "La liste de taille 10000 a été triée en 0.0021970272064208984 secondes.\n"
     ]
    }
   ],
   "source": [
    "liste=[randint(1,10000000) for k in range(10000)]\n",
    "t0=time.time()\n",
    "liste.sort()\n",
    "t1=time.time()\n",
    "print(f\"La liste de taille {len(liste)} a été triée en {t1-t0} secondes.\")"
   ]
  },
  {
   "cell_type": "code",
   "execution_count": null,
   "metadata": {},
   "outputs": [],
   "source": []
  },
  {
   "cell_type": "code",
   "execution_count": null,
   "metadata": {},
   "outputs": [],
   "source": []
  },
  {
   "cell_type": "markdown",
   "metadata": {},
   "source": [
    "## A vous de jouer"
   ]
  },
  {
   "cell_type": "markdown",
   "metadata": {},
   "source": [
    "On attend le même type de travail pour chacun des algortihmes proposés ci-dessous ; on a précisé la façon dont on définissait la taille $n$ d'une instance du problème."
   ]
  },
  {
   "cell_type": "code",
   "execution_count": null,
   "metadata": {},
   "outputs": [],
   "source": []
  },
  {
   "cell_type": "code",
   "execution_count": null,
   "metadata": {},
   "outputs": [],
   "source": []
  },
  {
   "cell_type": "code",
   "execution_count": null,
   "metadata": {},
   "outputs": [],
   "source": []
  },
  {
   "cell_type": "markdown",
   "metadata": {},
   "source": [
    "## Recherche dichotomique\n",
    "La taille $n$ de l'instance est la taille du tableau trié dans lequel on recherche un élément ;\n",
    "comme pour la recherche séquentielle, on traitera les deux cas, élément présent dans la liste, et élément absent."
   ]
  },
  {
   "cell_type": "code",
   "execution_count": null,
   "metadata": {},
   "outputs": [],
   "source": []
  },
  {
   "cell_type": "code",
   "execution_count": null,
   "metadata": {},
   "outputs": [],
   "source": []
  },
  {
   "cell_type": "code",
   "execution_count": null,
   "metadata": {},
   "outputs": [],
   "source": []
  },
  {
   "cell_type": "code",
   "execution_count": null,
   "metadata": {},
   "outputs": [],
   "source": []
  },
  {
   "cell_type": "markdown",
   "metadata": {},
   "source": [
    "## Tri par insertion\n",
    "La taille $n$ de l'instance est la taille de la liste à trier"
   ]
  },
  {
   "cell_type": "code",
   "execution_count": null,
   "metadata": {},
   "outputs": [],
   "source": []
  },
  {
   "cell_type": "code",
   "execution_count": null,
   "metadata": {},
   "outputs": [],
   "source": []
  },
  {
   "cell_type": "code",
   "execution_count": null,
   "metadata": {},
   "outputs": [],
   "source": []
  },
  {
   "cell_type": "markdown",
   "metadata": {},
   "source": [
    "# Somme des éléments d'une liste\n",
    "La taille $n$ est le nombre d'éléments de la liste ; on construira des listes d'entiers pris au hasard entre 1 et 1000, si on autorisait des nombres plus grands cela aurait une influence sur la durée d'exécution. "
   ]
  },
  {
   "cell_type": "code",
   "execution_count": null,
   "metadata": {},
   "outputs": [],
   "source": []
  },
  {
   "cell_type": "code",
   "execution_count": null,
   "metadata": {},
   "outputs": [],
   "source": []
  },
  {
   "cell_type": "code",
   "execution_count": null,
   "metadata": {},
   "outputs": [],
   "source": []
  },
  {
   "cell_type": "markdown",
   "metadata": {},
   "source": [
    "## Tri par sélection\n",
    "La taille $n$ de l'instance est la taille de la liste à trier"
   ]
  },
  {
   "cell_type": "code",
   "execution_count": null,
   "metadata": {},
   "outputs": [],
   "source": []
  },
  {
   "cell_type": "code",
   "execution_count": null,
   "metadata": {},
   "outputs": [],
   "source": []
  },
  {
   "cell_type": "code",
   "execution_count": null,
   "metadata": {},
   "outputs": [],
   "source": []
  },
  {
   "cell_type": "code",
   "execution_count": null,
   "metadata": {},
   "outputs": [],
   "source": [
    "## Un algorithme glouton\n"
   ]
  },
  {
   "cell_type": "code",
   "execution_count": null,
   "metadata": {},
   "outputs": [],
   "source": []
  },
  {
   "cell_type": "code",
   "execution_count": null,
   "metadata": {},
   "outputs": [],
   "source": []
  },
  {
   "cell_type": "code",
   "execution_count": null,
   "metadata": {},
   "outputs": [],
   "source": []
  },
  {
   "cell_type": "markdown",
   "metadata": {},
   "source": [
    "## Plus longue sous-suite croissante\n",
    "La taille $n$ de l'instance est la longueur de la suite dans laquelle on cherche la plus longue sous-suite croissante."
   ]
  },
  {
   "cell_type": "code",
   "execution_count": null,
   "metadata": {},
   "outputs": [],
   "source": [
    "def plssc(l):\n",
    "    if len(l)<2:\n",
    "        return(l)\n",
    "    else:\n",
    "        avec=[l[0]]+plssc([k for k in l[1:] if k>=l[0]])\n",
    "        sans=plssc(l[1:])\n",
    "    if len(avec)>=len(sans):\n",
    "        return avec\n",
    "    else:\n",
    "        return sans"
   ]
  },
  {
   "cell_type": "code",
   "execution_count": null,
   "metadata": {},
   "outputs": [],
   "source": [
    "plscc([12,8,10,17,11,13,15])"
   ]
  },
  {
   "cell_type": "code",
   "execution_count": null,
   "metadata": {},
   "outputs": [],
   "source": []
  }
 ],
 "metadata": {
  "kernelspec": {
   "display_name": "Python 3",
   "language": "python",
   "name": "python3"
  },
  "language_info": {
   "codemirror_mode": {
    "name": "ipython",
    "version": 3
   },
   "file_extension": ".py",
   "mimetype": "text/x-python",
   "name": "python",
   "nbconvert_exporter": "python",
   "pygments_lexer": "ipython3",
   "version": "3.7.5"
  }
 },
 "nbformat": 4,
 "nbformat_minor": 2
}
