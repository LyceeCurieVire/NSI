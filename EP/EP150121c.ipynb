{
 "cells": [
  {
   "cell_type": "markdown",
   "metadata": {},
   "source": [
    "# Epreuve pratique du vendredi 15 janvier 2021\n",
    "Cette épreuve est composée de deux exercices, notés chacun sur 4 points."
   ]
  },
  {
   "cell_type": "markdown",
   "metadata": {},
   "source": [
    "Prénom NOM : Ronan Charpentier"
   ]
  },
  {
   "cell_type": "markdown",
   "metadata": {},
   "source": [
    "**Exercice 1**\n",
    "Restitution d'un algorithme connu."
   ]
  },
  {
   "cell_type": "markdown",
   "metadata": {},
   "source": [
    "**Q1** Compléter la fonction `compte` qui compte le nombre d'occurence d'un élément dans une liste."
   ]
  },
  {
   "cell_type": "code",
   "execution_count": 3,
   "metadata": {},
   "outputs": [],
   "source": [
    "def compte(element,liste):\n",
    "    \"\"\"\n",
    "    compte le nombre de fois où element apparaît dans liste,\n",
    "    renvoie un nombre entier\n",
    "    >>> compte(10,[5,10,15,10,30,10,4])\n",
    "    3\n",
    "    >>> compte(10,[])\n",
    "    0\n",
    "    \"\"\"\n",
    "    nombre=0\n",
    "    for elt in liste:\n",
    "        if elt==element:\n",
    "            nombre=nombre+1\n",
    "    return nombre"
   ]
  },
  {
   "cell_type": "code",
   "execution_count": 4,
   "metadata": {},
   "outputs": [
    {
     "data": {
      "text/plain": [
       "3"
      ]
     },
     "execution_count": 4,
     "metadata": {},
     "output_type": "execute_result"
    }
   ],
   "source": [
    "compte(10,[5,10,15,10,30,10,4])"
   ]
  },
  {
   "cell_type": "code",
   "execution_count": 5,
   "metadata": {},
   "outputs": [
    {
     "data": {
      "text/plain": [
       "0"
      ]
     },
     "execution_count": 5,
     "metadata": {},
     "output_type": "execute_result"
    }
   ],
   "source": [
    "compte(10,[])"
   ]
  },
  {
   "cell_type": "markdown",
   "metadata": {},
   "source": [
    "**Q2** On note $n$ la longueur de la liste. Quel est le nombre de comparaisons effectuées par la fonction `compte` ? Comment appelle-t-on cette complexité ?"
   ]
  },
  {
   "cell_type": "markdown",
   "metadata": {},
   "source": [
    "La fonction compte compare `element` à chacun des $n$ éléments de `liste`, ce qui donne $n$ comparaisons ; cette complexité est dite **linéaire**."
   ]
  },
  {
   "cell_type": "markdown",
   "metadata": {},
   "source": [
    "**Q3** Que se passe-t-il si on effectue l'appel ci-dessous ? "
   ]
  },
  {
   "cell_type": "code",
   "execution_count": 6,
   "metadata": {},
   "outputs": [
    {
     "data": {
      "text/plain": [
       "5"
      ]
     },
     "execution_count": 6,
     "metadata": {},
     "output_type": "execute_result"
    }
   ],
   "source": [
    "compte('a','abracadabra')"
   ]
  },
  {
   "cell_type": "markdown",
   "metadata": {},
   "source": [
    "Manifestement la fonction `compte` permet de compter aussi des lettres dans une chaîne de caractères."
   ]
  },
  {
   "cell_type": "markdown",
   "metadata": {},
   "source": [
    "**Q4** Comment pourrait-on compter le nombre de `1` dans une grille comme celle donnée ci-dessous ? \n",
    "On demande une idée, pas de la mettre en oeuvre."
   ]
  },
  {
   "cell_type": "code",
   "execution_count": null,
   "metadata": {},
   "outputs": [],
   "source": [
    "grille=[[0, 0, 0, 1, 0, 0, 0, 1, 0, 0],\n",
    "        [0, 0, 0, 1, 0, 0, 1, 1, 0, 0],\n",
    "        [1, 1, 1, 0, 0, 0, 1, 0, 1, 0],\n",
    "        [0, 1, 1, 1, 0, 1, 1, 0, 0, 0],\n",
    "        [0, 0, 0, 0, 1, 0, 0, 1, 0, 1],\n",
    "        [1, 1, 0, 1, 0, 1, 1, 0, 0, 0],\n",
    "        [1, 1, 1, 1, 1, 0, 0, 1, 1, 1],\n",
    "        [1, 0, 1, 1, 0, 0, 1, 0, 0, 1],\n",
    "        [0, 0, 1, 0, 1, 1, 1, 1, 1, 1],\n",
    "        [0, 1, 1, 0, 0, 1, 1, 0, 0, 0]]"
   ]
  },
  {
   "cell_type": "markdown",
   "metadata": {},
   "source": [
    "On pourrait appeler la fonction `compte` pour chacune des lignes de la matrice, ou bien écrire une fonction avec des boucles imbriquées."
   ]
  },
  {
   "cell_type": "code",
   "execution_count": null,
   "metadata": {},
   "outputs": [],
   "source": []
  },
  {
   "cell_type": "markdown",
   "metadata": {},
   "source": [
    "**Exercice 2** Compléter, documenter, tester un programme fourni."
   ]
  },
  {
   "cell_type": "markdown",
   "metadata": {},
   "source": [
    "On fournit le programme suivant."
   ]
  },
  {
   "cell_type": "code",
   "execution_count": 7,
   "metadata": {},
   "outputs": [],
   "source": [
    "def somme2(somme, liste):\n",
    "    \"\"\"\n",
    "    Cherche dans une liste deux termes de somme donnée.\n",
    "    >>> somme2(2020,[350,2000,1800,650,420,500,20])\n",
    "    True\n",
    "    >>> somme2(31,[2,4,6,8,10,12,14,16,18,20])\n",
    "    False\n",
    "    \"\"\"\n",
    "    n=len(liste)\n",
    "    for i in range(n-1):\n",
    "        for j in range(i+1,n):\n",
    "            if liste[i]+liste[j]==somme:\n",
    "                return True\n",
    "    return False"
   ]
  },
  {
   "cell_type": "markdown",
   "metadata": {},
   "source": [
    "**Q1** Compléter la définition de fonction ci-dessus par une doc-string, en utilisant les cas d'usage proposés ci-dessous."
   ]
  },
  {
   "cell_type": "code",
   "execution_count": 8,
   "metadata": {},
   "outputs": [
    {
     "data": {
      "text/plain": [
       "True"
      ]
     },
     "execution_count": 8,
     "metadata": {},
     "output_type": "execute_result"
    }
   ],
   "source": [
    "somme2(2020,[350,2000,1800,650,420,500,20])"
   ]
  },
  {
   "cell_type": "code",
   "execution_count": 9,
   "metadata": {},
   "outputs": [
    {
     "data": {
      "text/plain": [
       "False"
      ]
     },
     "execution_count": 9,
     "metadata": {},
     "output_type": "execute_result"
    }
   ],
   "source": [
    "somme2(31,[2,4,6,8,10,12,14,16,18,20])"
   ]
  },
  {
   "cell_type": "markdown",
   "metadata": {},
   "source": [
    "**Q2** Qu'est ce qui permet d'être certain de la terminaison de cette fonction ?"
   ]
  },
  {
   "cell_type": "markdown",
   "metadata": {},
   "source": [
    "Une boucle `for` termine si le corps de la boucle termine ; les boucles `for` imbriquées de la fonction `somme2` terminent puisque le corps est un `if` qui termine."
   ]
  },
  {
   "cell_type": "markdown",
   "metadata": {},
   "source": [
    "**Q3** Pourquoi dit-on que la fonction est à valeurs booléennes ?"
   ]
  },
  {
   "cell_type": "markdown",
   "metadata": {},
   "source": [
    "La fonction renvoit un booléen, `True` ou `False`, ce qui est précisément la définition d'une fonction booléenne / d'une fonction à valeurs booléennes."
   ]
  },
  {
   "cell_type": "markdown",
   "metadata": {},
   "source": [
    "**Q4** Combien de fois le test `if` est-il exécuté si on appelle la fonction avec une liste de longueur $n$,\n",
    "* dans le cas où la fonction renvoie `False`,\n",
    "* dans le cas où la fonction renvoie `True` ?"
   ]
  },
  {
   "cell_type": "markdown",
   "metadata": {},
   "source": [
    "Si la fonction renvoie `False`, cela signifie qu'elle n'a pas trouvé deux termes dont la somme est égale à la somme cherchée et que les deux boucles sont entièrement exécutées ; par conséquent, pour le premier tour de boucle extérieure la boucle intérieure tourne $n-1$ fois, au deuxième tour $n-2$ fois, etc, et au dernier tour $1$ fois, soit en tout $(n-1)+(n-2)+\\cdots+3+2+1=\\dfrac{n(n-1)}2$. (C'est une complexité **quadratique**). \n",
    "\n",
    "Si la fonction renvoie `True`, tout ce qu'on peut dire est que le nombre de comparaisons effectuées est compris entre 1 (cas où `liste[0]+liste[1]==somme`) et $\\dfrac{n(n-1)}2$ (cas où `liste[-2]+liste[-1]==somme` et où la `somme` n'est pas trouvée avant). "
   ]
  },
  {
   "cell_type": "markdown",
   "metadata": {},
   "source": [
    "**Bonus** Ecrire une fonction `somme3`, évaluer sa complexité."
   ]
  },
  {
   "cell_type": "code",
   "execution_count": 11,
   "metadata": {},
   "outputs": [],
   "source": [
    "def somme3(somme,liste):\n",
    "    \"\"\"\n",
    "    Cette fonction renvoie un booléen indiquant si le paramètre somme est égal à la somme de trois\n",
    "    élements distincts du paramètre liste.\n",
    "    >>> somme3(20,[3,5,7,11,11,13,17])\n",
    "    False\n",
    "    >>> somme3(35,[3,5,7,11,13,17])\n",
    "    True\n",
    "    \"\"\"\n",
    "    n=len(liste)\n",
    "    for i in range(n-2):\n",
    "        for j in range(i+1,n-1):\n",
    "            for k in range(j+1,n):\n",
    "                if liste[i]+liste[j]+liste[k]==somme:\n",
    "                    return True\n",
    "    return False"
   ]
  },
  {
   "cell_type": "code",
   "execution_count": 12,
   "metadata": {},
   "outputs": [
    {
     "data": {
      "text/plain": [
       "False"
      ]
     },
     "execution_count": 12,
     "metadata": {},
     "output_type": "execute_result"
    }
   ],
   "source": [
    "somme3(20,[3,5,7,11,11,13,17])"
   ]
  },
  {
   "cell_type": "code",
   "execution_count": 13,
   "metadata": {},
   "outputs": [
    {
     "data": {
      "text/plain": [
       "True"
      ]
     },
     "execution_count": 13,
     "metadata": {},
     "output_type": "execute_result"
    }
   ],
   "source": [
    "somme3(35,[3,5,7,11,13,17])"
   ]
  },
  {
   "cell_type": "markdown",
   "metadata": {},
   "source": [
    "Le corps de la boucle `for` extérieure est de complexité quadratique, et cette boucle est exécutée au plus un nombre de fois de l'ordre de la longueur de `liste` (qui est le critère pertinent pour mesurer la taille du problème), donc la complexité (dans le pire cas) de `somme3` est cubique."
   ]
  },
  {
   "cell_type": "markdown",
   "metadata": {},
   "source": [
    "<a href=\"https://www.bigocheatsheet.com/\">Les complexités classiques</a>"
   ]
  },
  {
   "cell_type": "code",
   "execution_count": null,
   "metadata": {},
   "outputs": [],
   "source": []
  }
 ],
 "metadata": {
  "kernelspec": {
   "display_name": "Python 3",
   "language": "python",
   "name": "python3"
  },
  "language_info": {
   "codemirror_mode": {
    "name": "ipython",
    "version": 3
   },
   "file_extension": ".py",
   "mimetype": "text/x-python",
   "name": "python",
   "nbconvert_exporter": "python",
   "pygments_lexer": "ipython3",
   "version": "3.8.5"
  }
 },
 "nbformat": 4,
 "nbformat_minor": 4
}
