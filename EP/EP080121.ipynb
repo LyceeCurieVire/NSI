{
 "cells": [
  {
   "cell_type": "markdown",
   "metadata": {},
   "source": [
    "# Epreuve pratique du vendredi 8 janvier 2021\n",
    "Cette épreuve est composée de deux exercices, notés chacun sur 4 points.\n",
    "\n",
    "Le candidat rendra le notebook complété à la fin de l'épreuve (sur pronote)."
   ]
  },
  {
   "cell_type": "markdown",
   "metadata": {},
   "source": [
    "Prénom NOM : ..................................................................................................."
   ]
  },
  {
   "cell_type": "markdown",
   "metadata": {},
   "source": [
    "**Exercice 1**\n",
    "Restitution d'un algorithme connu."
   ]
  },
  {
   "cell_type": "markdown",
   "metadata": {},
   "source": [
    "Parcours de liste, filtrage et accumulation.\n",
    "\n",
    "**Q1** Compléter la fonction sommePlus, qui renvoie la somme des éléments positifs d'un tableau passé en paramètre."
   ]
  },
  {
   "cell_type": "code",
   "execution_count": 1,
   "metadata": {},
   "outputs": [],
   "source": [
    "def sommePlus(tableau):\n",
    "    \"\"\"\n",
    "    Renvoie la somme des éléments positifs du tableau en paramètre.\n",
    "    >>>sommePlus([12,-6,25,4,-20])\n",
    "    41\n",
    "    >>>sommePlus([])\n",
    "    0\n",
    "    >>>sommePlus([-25,-12,-35])\n",
    "    0\n",
    "    \"\"\"\n",
    "    return"
   ]
  },
  {
   "cell_type": "code",
   "execution_count": null,
   "metadata": {},
   "outputs": [],
   "source": []
  },
  {
   "cell_type": "code",
   "execution_count": null,
   "metadata": {},
   "outputs": [],
   "source": [
    "assert sommePlus([1,2,3,4])==10\n",
    "assert sommePlus([])==0\n",
    "assert sommePlus([12,-6,25,4,-20])==41"
   ]
  },
  {
   "cell_type": "markdown",
   "metadata": {},
   "source": [
    "**Q2** Qu'est ce qui permet de prouver la terminaison de cette fonction ?"
   ]
  },
  {
   "cell_type": "code",
   "execution_count": null,
   "metadata": {},
   "outputs": [],
   "source": []
  },
  {
   "cell_type": "markdown",
   "metadata": {},
   "source": [
    "**Q3** Proposer un cas d'usage où l'argument est une liste non vide  et où la valeur renvoyée est zéro."
   ]
  },
  {
   "cell_type": "code",
   "execution_count": null,
   "metadata": {},
   "outputs": [],
   "source": []
  },
  {
   "cell_type": "markdown",
   "metadata": {},
   "source": [
    "**Q4** Proposer un autre algorithme d'accumulation (on demande simplement une description, pas de programmer cet algorithme)."
   ]
  },
  {
   "cell_type": "code",
   "execution_count": null,
   "metadata": {},
   "outputs": [],
   "source": []
  },
  {
   "cell_type": "markdown",
   "metadata": {},
   "source": [
    "**Exercice 2** Compléter, documenter, tester un programme fourni."
   ]
  },
  {
   "cell_type": "markdown",
   "metadata": {},
   "source": [
    "*Logarithme binaire.*\n",
    "\n",
    "**Q5** Compléter la fonction `lb` ci-dessous avec une `docstring` donnant plusieurs cas d'usage."
   ]
  },
  {
   "cell_type": "code",
   "execution_count": null,
   "metadata": {},
   "outputs": [],
   "source": [
    "def lb(n):\n",
    "    if n<=1:\n",
    "        return 0\n",
    "    else:\n",
    "        return 1+lb(n//2)"
   ]
  },
  {
   "cell_type": "markdown",
   "metadata": {},
   "source": [
    "**Q6** Quelle est la valeur renvoyée lors de l'appel `lb(1000)` ?"
   ]
  },
  {
   "cell_type": "code",
   "execution_count": null,
   "metadata": {},
   "outputs": [],
   "source": []
  },
  {
   "cell_type": "markdown",
   "metadata": {},
   "source": [
    "**Q7** Quel est le plus grand nombre qu'on peut passer en argument afin d'avoir comme valeur de retour 16 ?"
   ]
  },
  {
   "cell_type": "code",
   "execution_count": null,
   "metadata": {},
   "outputs": [],
   "source": []
  },
  {
   "cell_type": "markdown",
   "metadata": {},
   "source": [
    "**Q8** Ecrire une fonction non récursive `lbi` qui renvoie les mêmes valeurs que `lb`.\n",
    "\n",
    "On utilisera une boucle `while` et on n'oubliera pas d'initialiser les variables avant d'entrer dans la boucle."
   ]
  },
  {
   "cell_type": "code",
   "execution_count": null,
   "metadata": {},
   "outputs": [],
   "source": []
  }
 ],
 "metadata": {
  "kernelspec": {
   "display_name": "Python 3",
   "language": "python",
   "name": "python3"
  },
  "language_info": {
   "codemirror_mode": {
    "name": "ipython",
    "version": 3
   },
   "file_extension": ".py",
   "mimetype": "text/x-python",
   "name": "python",
   "nbconvert_exporter": "python",
   "pygments_lexer": "ipython3",
   "version": "3.8.5"
  }
 },
 "nbformat": 4,
 "nbformat_minor": 4
}
