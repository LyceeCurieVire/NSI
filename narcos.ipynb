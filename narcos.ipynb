{
 "cells": [
  {
   "cell_type": "markdown",
   "metadata": {},
   "source": [
    "# Benny l'escargot neuroleptique"
   ]
  },
  {
   "cell_type": "markdown",
   "metadata": {},
   "source": [
    "Benny est un escargot <a href=\"\">narcoleptique</a>, il est sujet à des endormissements soudains qui peuvent durer plusieurs minutes.\n",
    "\n",
    "C'est fort contrariant, car Benny essaie de se sortir d'un mauvais pas : il est tombé au fond d'un puits, et a besoin de rester éveillé suffisamment longtemps pour sortir du puits.\n",
    "\n",
    "Entre deux endormissements, Benny remonte de plusieurs cm, par contre à chaque fois qu'il s'endort il redescend d'une hauteur plus ou moins importante en fonction de la durée de son sommeil."
   ]
  },
  {
   "cell_type": "markdown",
   "metadata": {},
   "source": [
    "## Un exemple"
   ]
  },
  {
   "cell_type": "markdown",
   "metadata": {},
   "source": [
    "`l=[3,-1,4,-2,5,-1,2,-3,5,-6,4,-3,1,-4]`\n",
    "\n",
    "L'escargot a commencé par monter de 3 cm avant de s'endormir et de redescendre d'un centimètre, puis il est remonté de 4 cm, etc."
   ]
  },
  {
   "cell_type": "code",
   "execution_count": null,
   "metadata": {},
   "outputs": [],
   "source": []
  },
  {
   "cell_type": "code",
   "execution_count": null,
   "metadata": {},
   "outputs": [],
   "source": []
  },
  {
   "cell_type": "markdown",
   "metadata": {},
   "source": [
    "## Quatre questions"
   ]
  },
  {
   "cell_type": "markdown",
   "metadata": {},
   "source": [
    "**Q1** Quelle est la hauteur à laquelle arrive Benny après les déplacements codés dans la liste de l'exemple ?\n",
    "\n",
    "**Q2** Quelle est la distance totale parcourue par l'escargot ?\n",
    "\n",
    "**Q3** A quelle hauteur maximale est arrivé Benny ?\n",
    "\n",
    "**Q4** Benny est-il sorti du puits, dont la hauteur n'est que de 20 cm, et si oui au bout de combien de mouvements ?"
   ]
  },
  {
   "cell_type": "code",
   "execution_count": null,
   "metadata": {},
   "outputs": [],
   "source": []
  },
  {
   "cell_type": "code",
   "execution_count": null,
   "metadata": {},
   "outputs": [],
   "source": []
  },
  {
   "cell_type": "markdown",
   "metadata": {},
   "source": [
    "## Travail à faire"
   ]
  },
  {
   "cell_type": "markdown",
   "metadata": {},
   "source": [
    "On demande de compléter les quatre fonctions dont le prototype est donné ci-dessous. \n",
    "\n",
    "On a utilisé des `doc strings` entre triple guillemets, avec un exemple d'utilisation."
   ]
  },
  {
   "cell_type": "code",
   "execution_count": null,
   "metadata": {},
   "outputs": [],
   "source": [
    "def position_finale(liste):\n",
    "    \"\"\"\n",
    "    La fonction position_finale renvoie la position de Benny\n",
    "    à la fin des déplacements.\n",
    "    L'argument est une liste de déplacements entiers relatifs.\n",
    "    \n",
    "    >>>position_finale([])\n",
    "    0\n",
    "    >>>position_finale([3,-1,4,-2,5,-1,2,-3,5,-6,4,-3,1,-4])\n",
    "    4\n",
    "    \"\"\"\n",
    "    return"
   ]
  },
  {
   "cell_type": "code",
   "execution_count": null,
   "metadata": {},
   "outputs": [],
   "source": [
    "def hauteur(liste):\n",
    "    \"\"\"\n",
    "    La fonction hauteur renvoie la hauteur maximale à laquelle \n",
    "    Benny l'escargot arrive.\n",
    "    Son argument est une liste de déplacements entiers relatifs.\n",
    "    \n",
    "    >>>hauteur([3,-1,4,-2,5,-1,2,-3,5,-6,4,-3,1,-4])\n",
    "    12\n",
    "    \"\"\"\n",
    "    return"
   ]
  },
  {
   "cell_type": "code",
   "execution_count": null,
   "metadata": {},
   "outputs": [],
   "source": [
    "def temps(liste,profondeur):\n",
    "    \"\"\"\n",
    "    La fonction temps renvoie le temps mis par Benny pour\n",
    "    arriver à la hauteur donnée, ou None si Benny n'y arrive pas.\n",
    "    Son argument liste est une liste de déplacements entiers relatifs,\n",
    "    son argument profondeur est la hauteur à atteindre ou dépasser.\n",
    "    \n",
    "    >>>temps([3,-1,4,-2,5,-1,2,-3,5,-6,4,-3,1,-4],10)\n",
    "    7\n",
    "    >>>temps([3,-1,4,-2,5,-1,2,-3,5,-6,4,-3,1,-4],30)\n",
    "    None\n",
    "    \"\"\"\n",
    "    return"
   ]
  },
  {
   "cell_type": "code",
   "execution_count": null,
   "metadata": {},
   "outputs": [],
   "source": [
    "def distance(liste):\n",
    "    \"\"\"\n",
    "    La fonction distance renvoie la distance totale parcourue\n",
    "    par Benny.\n",
    "    Son argument est une liste de déplacements entiers relatifs.\n",
    "    \n",
    "    >>>distance([])\n",
    "    0\n",
    "    >>>distance([3,-1,4,-2,5,-1,2,-3,5,-6,4,-3,1,-4])\n",
    "    44\n",
    "    \"\"\"\n",
    "    return"
   ]
  },
  {
   "cell_type": "code",
   "execution_count": null,
   "metadata": {},
   "outputs": [],
   "source": []
  },
  {
   "cell_type": "code",
   "execution_count": null,
   "metadata": {},
   "outputs": [],
   "source": []
  },
  {
   "cell_type": "code",
   "execution_count": null,
   "metadata": {},
   "outputs": [],
   "source": []
  },
  {
   "cell_type": "code",
   "execution_count": null,
   "metadata": {},
   "outputs": [],
   "source": []
  },
  {
   "cell_type": "code",
   "execution_count": null,
   "metadata": {},
   "outputs": [],
   "source": []
  },
  {
   "cell_type": "markdown",
   "metadata": {},
   "source": [
    "On exécutera les instructions ci-dessous pour tester les fonctions sur quelques exemples."
   ]
  },
  {
   "cell_type": "code",
   "execution_count": null,
   "metadata": {},
   "outputs": [],
   "source": [
    "assert(position_finale([])==0)\n",
    "assert(position_finale([3,-1,4,-2,5,-1,2,-3,5,-6,4,-3,1,-4])==4)\n",
    "assert(hauteur([3,-1,4,-2,5,-1,2,-3,5,-6,4,-3,1,-4])==12)\n",
    "assert(temps([3,-1,4,-2,5,-1,2,-3,5,-6,4,-3,1,-4],10)==7)\n",
    "assert(temps([3,-1,4,-2,5,-1,2,-3,5,-6,4,-3,1,-4],30)==None)\n",
    "assert(distance([])==0)\n",
    "assert(distance([3,-1,4,-2,5,-1,2,-3,5,-6,4,-3,1,-4])==44)"
   ]
  },
  {
   "cell_type": "code",
   "execution_count": null,
   "metadata": {},
   "outputs": [],
   "source": []
  },
  {
   "cell_type": "markdown",
   "metadata": {},
   "source": [
    "**Le fichier ipynb obtenu est à rendre sur pronote pour jeudi prochain.**"
   ]
  },
  {
   "cell_type": "markdown",
   "metadata": {},
   "source": [
    "## Bibliothèques"
   ]
  },
  {
   "cell_type": "markdown",
   "metadata": {},
   "source": [
    "On pourra utiliser la fonction `abs` de la bibliothèque standard.\n",
    "\n",
    "Dans la bibliothèque `matplotlib.pyplot` on utilise `plot`.\n",
    "\n",
    "Dans la bibliothèque `random` on utilisera la fonction `randint`."
   ]
  },
  {
   "cell_type": "code",
   "execution_count": null,
   "metadata": {},
   "outputs": [],
   "source": [
    "print(abs.__doc__)"
   ]
  },
  {
   "cell_type": "code",
   "execution_count": null,
   "metadata": {},
   "outputs": [],
   "source": [
    "import matplotlib.pyplot as plt\n",
    "print(plt.plot.__doc__)"
   ]
  },
  {
   "cell_type": "code",
   "execution_count": null,
   "metadata": {},
   "outputs": [],
   "source": [
    "from random import randint\n",
    "randint.__doc__"
   ]
  },
  {
   "cell_type": "markdown",
   "metadata": {},
   "source": [
    "## Un escargot stochastique"
   ]
  },
  {
   "cell_type": "code",
   "execution_count": null,
   "metadata": {},
   "outputs": [],
   "source": [
    "profondeur=100\n",
    "nombre_escargots=20\n",
    "temps=[]\n",
    "for k in range(nombre_escargots):\n",
    "    x=0\n",
    "    l=[x]\n",
    "    sens=1\n",
    "    while x<profondeur:\n",
    "        if sens==1:\n",
    "            d=randint(1,10)\n",
    "        else:\n",
    "            d=-randint(1,6)\n",
    "        x=max(0,x+d)\n",
    "        l.append(x)\n",
    "        sens=sens*(-1)\n",
    "    temps.append(len(l))\n",
    "    plt.plot(l)\n",
    "plt.show()\n",
    "print(temps)\n",
    "    "
   ]
  },
  {
   "cell_type": "code",
   "execution_count": null,
   "metadata": {},
   "outputs": [],
   "source": []
  },
  {
   "cell_type": "code",
   "execution_count": null,
   "metadata": {},
   "outputs": [],
   "source": []
  },
  {
   "cell_type": "markdown",
   "metadata": {},
   "source": [
    "Mais que signifie <a href=\"https://fr.wikipedia.org/wiki/Stochastique\">Stochastique</a> ?"
   ]
  },
  {
   "cell_type": "code",
   "execution_count": null,
   "metadata": {},
   "outputs": [],
   "source": []
  },
  {
   "cell_type": "code",
   "execution_count": null,
   "metadata": {},
   "outputs": [],
   "source": []
  }
 ],
 "metadata": {
  "kernelspec": {
   "display_name": "Python 3",
   "language": "python",
   "name": "python3"
  },
  "language_info": {
   "codemirror_mode": {
    "name": "ipython",
    "version": 3
   },
   "file_extension": ".py",
   "mimetype": "text/x-python",
   "name": "python",
   "nbconvert_exporter": "python",
   "pygments_lexer": "ipython3",
   "version": "3.7.5"
  }
 },
 "nbformat": 4,
 "nbformat_minor": 2
}
