{
 "cells": [
  {
   "cell_type": "markdown",
   "metadata": {},
   "source": [
    "# Epreuve pratique du vendredi 8 janvier 2021\n",
    "Cette épreuve est composée de deux exercices, notés chacun sur 4 points.\n",
    "\n",
    "Le candidat rendra le notebook complété à la fin de l'épreuve (sur pronote)."
   ]
  },
  {
   "cell_type": "markdown",
   "metadata": {},
   "source": [
    "Prénom NOM : Ronan Charpentier"
   ]
  },
  {
   "cell_type": "markdown",
   "metadata": {},
   "source": [
    "**Exercice 1**\n",
    "Restitution d'un algorithme connu."
   ]
  },
  {
   "cell_type": "markdown",
   "metadata": {},
   "source": [
    "Parcours de liste, filtrage et accumulation.\n",
    "\n",
    "**Q1** Compléter la fonction sommePlus, qui renvoie la somme des éléments positifs d'un tableau passé en paramètre."
   ]
  },
  {
   "cell_type": "code",
   "execution_count": 1,
   "metadata": {},
   "outputs": [],
   "source": [
    "def sommePlus(tableau):\n",
    "    \"\"\"\n",
    "    Renvoie la somme des éléments positifs du tableau en paramètre.\n",
    "    >>>sommePlus([12,-6,25,4,-20])\n",
    "    41\n",
    "    >>>sommePlus([])\n",
    "    0\n",
    "    >>>sommePlus([-25,-12,-35])\n",
    "    0\n",
    "    \"\"\"\n",
    "    # on initialise la somme à zéro avant de parcourir le tableau\n",
    "    somme=0\n",
    "    # on examine chaque élément du tableau\n",
    "    for elt in tableau:\n",
    "        # on ne traite que les éléments (strictement) positifs\n",
    "        if elt>0:\n",
    "            #qu'on ajoute à la somme\n",
    "            somme+=elt\n",
    "    #après la boucle on renvoie la somme\n",
    "    return somme"
   ]
  },
  {
   "cell_type": "markdown",
   "metadata": {},
   "source": [
    "**A retenir** Tous les parcours (ici un `for`), avec éventuellement une sélection (un `if`), et une accumulation."
   ]
  },
  {
   "cell_type": "code",
   "execution_count": 2,
   "metadata": {},
   "outputs": [],
   "source": [
    "assert sommePlus([1,2,3,4])==10\n",
    "assert sommePlus([])==0\n",
    "assert sommePlus([12,-6,25,4,-20])==41"
   ]
  },
  {
   "cell_type": "markdown",
   "metadata": {},
   "source": [
    "**Q2** Qu'est ce qui permet de prouver la terminaison de cette fonction ?"
   ]
  },
  {
   "cell_type": "markdown",
   "metadata": {},
   "source": [
    "On sait que la boucle `for` termine."
   ]
  },
  {
   "cell_type": "markdown",
   "metadata": {},
   "source": [
    "**A retenir** Les boucles `for` terminent, les boucles `while` terminent si on a un variant de boucle entier positif strictement décroissant."
   ]
  },
  {
   "cell_type": "markdown",
   "metadata": {},
   "source": [
    "**Q3** Proposer un cas d'usage où l'argument est une liste non vide  et où la valeur renvoyée est zéro."
   ]
  },
  {
   "cell_type": "markdown",
   "metadata": {},
   "source": [
    "Puisque seuls les éléments strictement positifs sont ajoutés, il suffit d'appeler la fonction avec comme arguement une liste dont tous les éléments sont négatifs."
   ]
  },
  {
   "cell_type": "code",
   "execution_count": 3,
   "metadata": {},
   "outputs": [
    {
     "data": {
      "text/plain": [
       "0"
      ]
     },
     "execution_count": 3,
     "metadata": {},
     "output_type": "execute_result"
    }
   ],
   "source": [
    "sommePlus([-10,-20,-30])"
   ]
  },
  {
   "cell_type": "markdown",
   "metadata": {},
   "source": [
    "**Q4** Proposer un autre algorithme d'accumulation (on demande simplement une description, pas de programmer cet algorithme)."
   ]
  },
  {
   "cell_type": "markdown",
   "metadata": {},
   "source": [
    "On pourrait par exemple compter le nombre d'éléments négatifs, il suffirait de remplacer `somme+=elt` par `somme+=1`."
   ]
  },
  {
   "cell_type": "markdown",
   "metadata": {},
   "source": [
    "**A retenir** Les algorithmes de parcours avec accumulation (et filtarge éventuellement) : maximum, occurence, somme, moyenne, et les différentes façons de parcourir une liste : par élément, par indice, avec `enumerate` ou un dictionnaire : par clé, par valeur, par item."
   ]
  },
  {
   "cell_type": "markdown",
   "metadata": {},
   "source": [
    "**Exercice 2** Compléter, documenter, tester un programme fourni."
   ]
  },
  {
   "cell_type": "markdown",
   "metadata": {},
   "source": [
    "*Logarithme binaire.*\n",
    "\n",
    "**Q5** Compléter la fonction `lb` ci-dessous avec une `docstring` donnant plusieurs cas d'usage."
   ]
  },
  {
   "cell_type": "code",
   "execution_count": 5,
   "metadata": {},
   "outputs": [],
   "source": [
    "def lb(n):\n",
    "    \"\"\"\n",
    "    lb renvoie le logarithme binaire de n,\n",
    "    c'est-à-dire le nombre de bits utilisés pour écire n en binaire, moins 1\n",
    "    >>> lb(1000)\n",
    "    9\n",
    "    >>> lb(1)\n",
    "    0\n",
    "    >>> lb(32)\n",
    "    5\n",
    "    \"\"\"\n",
    "    if n<=1:\n",
    "        return 0\n",
    "    else:\n",
    "        return 1+lb(n//2)"
   ]
  },
  {
   "cell_type": "markdown",
   "metadata": {},
   "source": [
    "**Q6** Quelle est la valeur renvoyée lors de l'appel `lb(1000)` ?"
   ]
  },
  {
   "cell_type": "code",
   "execution_count": 6,
   "metadata": {},
   "outputs": [
    {
     "data": {
      "text/plain": [
       "9"
      ]
     },
     "execution_count": 6,
     "metadata": {},
     "output_type": "execute_result"
    }
   ],
   "source": [
    "lb(1000)"
   ]
  },
  {
   "cell_type": "markdown",
   "metadata": {},
   "source": [
    "`lb(1000)` renvoie `9`, manifestement"
   ]
  },
  {
   "cell_type": "markdown",
   "metadata": {},
   "source": [
    "**Q7** Quel est le plus grand nombre qu'on peut passer en argument afin d'avoir comme valeur de retour 16 ?"
   ]
  },
  {
   "cell_type": "code",
   "execution_count": 7,
   "metadata": {},
   "outputs": [
    {
     "name": "stdout",
     "output_type": "stream",
     "text": [
      "65536\n",
      "131072\n"
     ]
    }
   ],
   "source": [
    "n=1\n",
    "while lb(n)<16:\n",
    "    n+=1\n",
    "print(n)\n",
    "while lb(n)==16:\n",
    "    n+=1\n",
    "print(n)"
   ]
  },
  {
   "cell_type": "code",
   "execution_count": 8,
   "metadata": {},
   "outputs": [
    {
     "data": {
      "text/plain": [
       "(15, 16, 16, 17)"
      ]
     },
     "execution_count": 8,
     "metadata": {},
     "output_type": "execute_result"
    }
   ],
   "source": [
    "lb(65535), lb(65536), lb(131071),lb(131072)"
   ]
  },
  {
   "cell_type": "code",
   "execution_count": 9,
   "metadata": {},
   "outputs": [
    {
     "data": {
      "text/plain": [
       "(131072, 131071)"
      ]
     },
     "execution_count": 9,
     "metadata": {},
     "output_type": "execute_result"
    }
   ],
   "source": [
    "2**17, 2**17-1"
   ]
  },
  {
   "cell_type": "code",
   "execution_count": 10,
   "metadata": {},
   "outputs": [
    {
     "data": {
      "text/plain": [
       "('0b11111111111111111', 19)"
      ]
     },
     "execution_count": 10,
     "metadata": {},
     "output_type": "execute_result"
    }
   ],
   "source": [
    "bin(2**17-1), len(bin(2**17-1))"
   ]
  },
  {
   "cell_type": "markdown",
   "metadata": {},
   "source": [
    "Le plus grand entier dont le logarithme binaire est `16` est `131071`.\n",
    "\n",
    "Remarquons que $131071=2^{17}-1$ s'écrit $1.1111.1111.1111.1111$ en binaire."
   ]
  },
  {
   "cell_type": "markdown",
   "metadata": {},
   "source": [
    "**A retenir** Tout ce qui concerne la numération binaire (et hexadécimale), et la notion de logarithme binaire (nombre de bits pour écrire un entier en binaire, moins un)."
   ]
  },
  {
   "cell_type": "markdown",
   "metadata": {},
   "source": [
    "**Q8** Ecrire une fonction non récursive `lbi` qui renvoie les mêmes valeurs que `lb`.\n",
    "\n",
    "On utilisera une boucle `while` et on n'oubliera pas d'initialiser les variables avant d'entrer dans la boucle."
   ]
  },
  {
   "cell_type": "code",
   "execution_count": 11,
   "metadata": {},
   "outputs": [],
   "source": [
    "def lbi(n):\n",
    "    l=0\n",
    "    while n>1:\n",
    "        n=n//2\n",
    "        l=l+1\n",
    "    return l"
   ]
  },
  {
   "cell_type": "code",
   "execution_count": 12,
   "metadata": {},
   "outputs": [
    {
     "data": {
      "text/plain": [
       "16"
      ]
     },
     "execution_count": 12,
     "metadata": {},
     "output_type": "execute_result"
    }
   ],
   "source": [
    "lbi(131071)"
   ]
  },
  {
   "cell_type": "code",
   "execution_count": 13,
   "metadata": {},
   "outputs": [
    {
     "data": {
      "text/plain": [
       "17"
      ]
     },
     "execution_count": 13,
     "metadata": {},
     "output_type": "execute_result"
    }
   ],
   "source": [
    "lbi(131072)"
   ]
  },
  {
   "cell_type": "code",
   "execution_count": 14,
   "metadata": {},
   "outputs": [
    {
     "data": {
      "text/plain": [
       "0"
      ]
     },
     "execution_count": 14,
     "metadata": {},
     "output_type": "execute_result"
    }
   ],
   "source": [
    "lbi(1)"
   ]
  },
  {
   "cell_type": "markdown",
   "metadata": {},
   "source": [
    "**A retenir** Transformer une fonction récursive en sa version itérative (penser à la façon dont on prouve la terminaison, d'ailleurs)"
   ]
  },
  {
   "cell_type": "code",
   "execution_count": null,
   "metadata": {},
   "outputs": [],
   "source": []
  },
  {
   "cell_type": "code",
   "execution_count": null,
   "metadata": {},
   "outputs": [],
   "source": []
  }
 ],
 "metadata": {
  "kernelspec": {
   "display_name": "Python 3",
   "language": "python",
   "name": "python3"
  },
  "language_info": {
   "codemirror_mode": {
    "name": "ipython",
    "version": 3
   },
   "file_extension": ".py",
   "mimetype": "text/x-python",
   "name": "python",
   "nbconvert_exporter": "python",
   "pygments_lexer": "ipython3",
   "version": "3.8.5"
  }
 },
 "nbformat": 4,
 "nbformat_minor": 4
}
