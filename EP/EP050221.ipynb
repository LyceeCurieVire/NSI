{
 "cells": [
  {
   "cell_type": "markdown",
   "metadata": {},
   "source": [
    "# Epreuve pratique du vendredi 5 février 2021\n",
    "Cette épreuve est composée de deux exercices, notés chacun sur 4 points."
   ]
  },
  {
   "cell_type": "markdown",
   "metadata": {},
   "source": [
    "Prénom NOM : ..................................................................................................."
   ]
  },
  {
   "cell_type": "markdown",
   "metadata": {},
   "source": [
    "**Exercice 1**\n",
    "Restitution d'un algorithme connu."
   ]
  },
  {
   "cell_type": "code",
   "execution_count": 1,
   "metadata": {},
   "outputs": [],
   "source": [
    "liste=[14,22,29,35,44,50,56,76,80]"
   ]
  },
  {
   "cell_type": "code",
   "execution_count": 2,
   "metadata": {},
   "outputs": [
    {
     "data": {
      "text/plain": [
       "9"
      ]
     },
     "execution_count": 2,
     "metadata": {},
     "output_type": "execute_result"
    }
   ],
   "source": [
    "len(liste)"
   ]
  },
  {
   "cell_type": "code",
   "execution_count": 3,
   "metadata": {},
   "outputs": [
    {
     "data": {
      "text/plain": [
       "4"
      ]
     },
     "execution_count": 3,
     "metadata": {},
     "output_type": "execute_result"
    }
   ],
   "source": [
    "len(liste)//2"
   ]
  },
  {
   "cell_type": "code",
   "execution_count": 5,
   "metadata": {},
   "outputs": [
    {
     "data": {
      "text/plain": [
       "44"
      ]
     },
     "execution_count": 5,
     "metadata": {},
     "output_type": "execute_result"
    }
   ],
   "source": [
    "liste[len(liste)//2]"
   ]
  },
  {
   "cell_type": "code",
   "execution_count": 6,
   "metadata": {},
   "outputs": [
    {
     "data": {
      "text/plain": [
       "[14, 22, 29, 35]"
      ]
     },
     "execution_count": 6,
     "metadata": {},
     "output_type": "execute_result"
    }
   ],
   "source": [
    "liste[:len(liste)//2]"
   ]
  },
  {
   "cell_type": "code",
   "execution_count": 7,
   "metadata": {},
   "outputs": [
    {
     "data": {
      "text/plain": [
       "[50, 56, 76, 80]"
      ]
     },
     "execution_count": 7,
     "metadata": {},
     "output_type": "execute_result"
    }
   ],
   "source": [
    "liste[len(liste)//2+1:]"
   ]
  },
  {
   "cell_type": "markdown",
   "metadata": {},
   "source": [
    "**Q1** Expliquer les trois cellules précédentes."
   ]
  },
  {
   "cell_type": "code",
   "execution_count": null,
   "metadata": {},
   "outputs": [],
   "source": []
  },
  {
   "cell_type": "code",
   "execution_count": 8,
   "metadata": {},
   "outputs": [],
   "source": [
    "def rechercheDicho(element,tableau):\n",
    "    \"\"\"\n",
    "    La fonction renvoie un booléen indiquant si element a été trouvé dans tableau.\n",
    "    Le paramètre tableau est une liste triée.\n",
    "    >>> rechercheDicho(61,[14,22,29,35,44,50,56,76,80])\n",
    "    False\n",
    "    >>> rechercheDicho(56,[14,22,29,35,44,50,56,76,80])\n",
    "    True\n",
    "    >>> rechercheDicho(56,[])\n",
    "    False \n",
    "    \"\"\"\n",
    "    # si la liste est vide renvoyer False\n",
    "    # si l'élément chercher est égal à la valeur médiane de la liste renvoyer True\n",
    "    # chercher récursivement dans la bonne moitié du tableau\n",
    "    "
   ]
  },
  {
   "cell_type": "code",
   "execution_count": null,
   "metadata": {},
   "outputs": [],
   "source": [
    "assert rechercheDicho(61,[14,22,29,35,44,50,56,76,80])==False\n",
    "assert rechercheDicho(56,[14,22,29,35,44,50,56,76,80])\n",
    "assert rechercheDicho(56,[])==False "
   ]
  },
  {
   "cell_type": "markdown",
   "metadata": {},
   "source": [
    "**Q2** Compléter la fonction booléenne `rechercheDicho` ci-dessus. "
   ]
  },
  {
   "cell_type": "markdown",
   "metadata": {},
   "source": [
    "**Q3** Prouver la terminaison de cette fonction. Quelle est sa complexité ?"
   ]
  },
  {
   "cell_type": "code",
   "execution_count": null,
   "metadata": {},
   "outputs": [],
   "source": []
  },
  {
   "cell_type": "markdown",
   "metadata": {},
   "source": [
    "**Q4** Compléter la pile des appels récursifs ci-dessous, correspondant à l'appel `rechercheDicho(56,[14,22,29,35,44,50,56,76,80])` ; en arrivant au cas de base, remonter la pile en écrivant à côté de chaque appel la valeur renvoyée par la fonction."
   ]
  },
  {
   "cell_type": "markdown",
   "metadata": {},
   "source": [
    "rechercheDicho(56,[14,22,29,35,44,50,56,76,80])\n",
    "\n",
    "rechercheDicho(56,[50,56,76,80])\n",
    "\n",
    "rechercheDicho(56,....)\n",
    "\n",
    "rechercheDicho(56,....)"
   ]
  },
  {
   "cell_type": "code",
   "execution_count": null,
   "metadata": {},
   "outputs": [],
   "source": []
  },
  {
   "cell_type": "code",
   "execution_count": null,
   "metadata": {},
   "outputs": [],
   "source": []
  },
  {
   "cell_type": "markdown",
   "metadata": {},
   "source": [
    "**Exercice 2** Compléter, documenter, tester un programme fourni."
   ]
  },
  {
   "cell_type": "code",
   "execution_count": 16,
   "metadata": {},
   "outputs": [],
   "source": [
    "def poulidor(liste):\n",
    "    if len(liste)<2:\n",
    "        return\n",
    "    maxi=liste[0]\n",
    "    poupou=liste[1]\n",
    "    if poupou>maxi:\n",
    "        poupou,maxi=maxi,poupou\n",
    "    for k in range(2,len(liste)):\n",
    "        if liste[k]>maxi:\n",
    "            maxi,poupou=liste[k],maxi\n",
    "        elif liste[k]>poupou:\n",
    "            poupou=liste[k]\n",
    "    return poupou"
   ]
  },
  {
   "cell_type": "code",
   "execution_count": 17,
   "metadata": {},
   "outputs": [
    {
     "data": {
      "text/plain": [
       "76"
      ]
     },
     "execution_count": 17,
     "metadata": {},
     "output_type": "execute_result"
    }
   ],
   "source": [
    "poulidor([80,76,14,50,35,22,29,56,44])"
   ]
  },
  {
   "cell_type": "code",
   "execution_count": 18,
   "metadata": {},
   "outputs": [
    {
     "data": {
      "text/plain": [
       "'loup'"
      ]
     },
     "execution_count": 18,
     "metadata": {},
     "output_type": "execute_result"
    }
   ],
   "source": [
    "poulidor(['loup','renard','belette'])"
   ]
  },
  {
   "cell_type": "markdown",
   "metadata": {},
   "source": [
    "**Q5** Compléter la fonction `poulidor` avec une docstring."
   ]
  },
  {
   "cell_type": "code",
   "execution_count": null,
   "metadata": {},
   "outputs": [],
   "source": []
  },
  {
   "cell_type": "markdown",
   "metadata": {},
   "source": [
    "**Q6** Expliciter un invariant de boucle, en fonction de `k`, prouvant la correction de la fonction `poulidor`."
   ]
  },
  {
   "cell_type": "code",
   "execution_count": null,
   "metadata": {},
   "outputs": [],
   "source": []
  },
  {
   "cell_type": "markdown",
   "metadata": {},
   "source": [
    "**Q7** Modifier la fonction `poulidor` de façon a obtenir le deuxième plius petit élément de la liste."
   ]
  },
  {
   "cell_type": "code",
   "execution_count": null,
   "metadata": {},
   "outputs": [],
   "source": [
    "def Poulidor(liste):\n",
    "    if len(liste)<2:\n",
    "        return\n",
    "    maxi=liste[0]\n",
    "    poupou=liste[1]\n",
    "    if poupou>maxi:\n",
    "        poupou,maxi=maxi,poupou\n",
    "    for k in range(2,len(liste)):\n",
    "        if liste[k]>maxi:\n",
    "            maxi,poupou=liste[k],maxi\n",
    "        elif liste[k]>poupou:\n",
    "            poupou=liste[k]\n",
    "    return poupou"
   ]
  },
  {
   "cell_type": "code",
   "execution_count": null,
   "metadata": {},
   "outputs": [],
   "source": [
    "poulidor([80,76,14,50,35,22,29,56,44])"
   ]
  },
  {
   "cell_type": "code",
   "execution_count": null,
   "metadata": {},
   "outputs": [],
   "source": []
  },
  {
   "cell_type": "markdown",
   "metadata": {},
   "source": [
    "**Q8** Ecrire une fonction qui renvoie le troisième plus petit élément d'une liste."
   ]
  },
  {
   "cell_type": "code",
   "execution_count": null,
   "metadata": {},
   "outputs": [],
   "source": []
  },
  {
   "cell_type": "code",
   "execution_count": null,
   "metadata": {},
   "outputs": [],
   "source": []
  }
 ],
 "metadata": {
  "kernelspec": {
   "display_name": "Python 3",
   "language": "python",
   "name": "python3"
  },
  "language_info": {
   "codemirror_mode": {
    "name": "ipython",
    "version": 3
   },
   "file_extension": ".py",
   "mimetype": "text/x-python",
   "name": "python",
   "nbconvert_exporter": "python",
   "pygments_lexer": "ipython3",
   "version": "3.8.5"
  }
 },
 "nbformat": 4,
 "nbformat_minor": 4
}
