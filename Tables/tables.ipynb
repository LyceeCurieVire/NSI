{
 "cells": [
  {
   "cell_type": "markdown",
   "metadata": {},
   "source": [
    "Données en tables\n",
    "===============\n",
    "\n",
    "On propose d'abord une correction interactive des trois QCM de novembre, du moins des questions portant sur les données organisées en tables.\n",
    "\n",
    "On va ensuite répondre à un certain nombre de questions portant sur des données lues dans un fichier csv ; cette deuxième partie est à compléter, et le notebook est à rendre pour le vendredi 12 mars, via pronote."
   ]
  },
  {
   "cell_type": "code",
   "execution_count": null,
   "metadata": {},
   "outputs": [],
   "source": []
  },
  {
   "cell_type": "markdown",
   "metadata": {},
   "source": [
    "## Retour sur les QCM"
   ]
  },
  {
   "cell_type": "markdown",
   "metadata": {},
   "source": [
    "### QCM du 13 novembre"
   ]
  },
  {
   "cell_type": "markdown",
   "metadata": {},
   "source": [
    "**Q9**. On définit :\n",
    "```T = [ {'fruit': 'banane', 'nombre': 25}, {'fruit': 'orange', 'nombre': 124},{'fruit': 'pomme', 'nombre': 75}, {'fruit': 'kiwi', 'nombre': 51} ] ```\n",
    "  \n",
    "  Quelle expression a-t-elle pour valeur le nombre de pommes ?\n",
    "\n",
    "A\t```T[2]['nombre']```\n",
    "\n",
    "B\t```T[2,'nombre']```\n",
    "\n",
    "C\t```T[3]['nombre']```\n",
    "\n",
    "D\t```T[3,'nombre']```"
   ]
  },
  {
   "cell_type": "code",
   "execution_count": null,
   "metadata": {},
   "outputs": [],
   "source": [
    "T = [ {'fruit': 'banane', 'nombre': 25}, {'fruit': 'orange', 'nombre': 124},{'fruit': 'pomme', 'nombre': 75}, {'fruit': 'kiwi', 'nombre': 51} ] "
   ]
  },
  {
   "cell_type": "code",
   "execution_count": null,
   "metadata": {},
   "outputs": [],
   "source": [
    "T[2]['nombre']"
   ]
  },
  {
   "cell_type": "code",
   "execution_count": null,
   "metadata": {},
   "outputs": [],
   "source": [
    "T[2,'nombre']"
   ]
  },
  {
   "cell_type": "code",
   "execution_count": null,
   "metadata": {},
   "outputs": [],
   "source": [
    "T[3]['nombre']"
   ]
  },
  {
   "cell_type": "code",
   "execution_count": null,
   "metadata": {},
   "outputs": [],
   "source": [
    "T[3,'nombre']"
   ]
  },
  {
   "cell_type": "markdown",
   "metadata": {},
   "source": [
    "**Q10**. Que réalise l'instruction suivante :\n",
    "\n",
    "```mon_fichier = open(\"exemple.txt\", \"r\")```\n",
    "\n",
    "A\tElle permet d’ouvrir le fichier \"exemple.txt\" en mode lecture si le fichier est dans le même dossier que le fichier du programme Python comportant cette instruction.\n",
    "\n",
    "B\tElle permet d’ouvrir le fichier \"exemple.txt\" en mode lecture même si le fichier n’est pas dans le même dossier que le fichier du programme Python comportant cette instruction.\n",
    "\n",
    "C\tElle permet d’ouvrir le fichier \"exemple.txt\" en mode écriture si le fichier est dans le même dossier que le fichier du programme Python comportant cette instruction.\n",
    "\n",
    "D\tElle permet d’ouvrir le fichier \"exemple.txt\" en mode écriture même si le fichier n’est pas dans le même dossier que le fichier du programme Python comportant cette instruction.\n"
   ]
  },
  {
   "cell_type": "code",
   "execution_count": null,
   "metadata": {},
   "outputs": [],
   "source": [
    "help(open)"
   ]
  },
  {
   "cell_type": "markdown",
   "metadata": {},
   "source": [
    "**Q11**. Laquelle de ces affirmations est vraie ?\n",
    "\n",
    "A\ton ne peut accéder au contenu d'un fichier CSV que par l'intermédiaire d'un programme Python\n",
    "\n",
    "B\tCSV est un format de chiffrement des données\n",
    "\n",
    "C\tle format CSV a été conçu pour assurer la confidentialité d'une partie du code d'un programme\n",
    "\n",
    "D\tles fichiers CSV sont composés de données séparées par des caractères comme des virgules"
   ]
  },
  {
   "cell_type": "markdown",
   "metadata": {},
   "source": [
    "**Q12**. On considère la table suivante : \n",
    "\n",
    "    ```t = [ {'type': 'marteau', 'prix': 17,'quantité': 32}, {'type': 'scie', 'prix': 24, 'quantité': 3},\t{'type': 'tournevis', 'prix': 8, 'quantité': 45} ]```\n",
    "\n",
    "Quelle expression permet d'obtenir la quantié de scies ?\n",
    "\n",
    "A\t```t[2]['quantité']```\n",
    "\n",
    "B\t```t[1]['quantité']```\n",
    "\n",
    "C\t```t['quantité'][1]```\n",
    "\n",
    "D\t```t['scies']['quantité']```\n"
   ]
  },
  {
   "cell_type": "code",
   "execution_count": null,
   "metadata": {},
   "outputs": [],
   "source": [
    "t = [ {'type': 'marteau', 'prix': 17,'quantité': 32}, {'type': 'scie', 'prix': 24, 'quantité': 3},    {'type': 'tournevis', 'prix': 8, 'quantité': 45} ]"
   ]
  },
  {
   "cell_type": "code",
   "execution_count": null,
   "metadata": {},
   "outputs": [],
   "source": [
    "t[2]['quantité']"
   ]
  },
  {
   "cell_type": "code",
   "execution_count": null,
   "metadata": {},
   "outputs": [],
   "source": [
    "t[1]['quantité']"
   ]
  },
  {
   "cell_type": "code",
   "execution_count": null,
   "metadata": {},
   "outputs": [],
   "source": [
    "t['quantité'][1]"
   ]
  },
  {
   "cell_type": "code",
   "execution_count": null,
   "metadata": {},
   "outputs": [],
   "source": [
    "t['scies']['quantité']"
   ]
  },
  {
   "cell_type": "markdown",
   "metadata": {},
   "source": [
    "**Q13**. Quelle est la valeur de la variable table à la fin de l'exécution du script suivant :\n",
    "\n",
    "```python\n",
    "table = [[1, 2, 3], [1, 2, 3], [1, 2, 3], [1, 2, 3]]\n",
    "table [1][2] = 5\n",
    "```\n",
    "\n",
    "A\t```[[1, 5, 3], [1, 2, 3], [1, 2, 3], [1, 2, 3]]```\n",
    "\n",
    "B\t```[[1, 2, 3], [5, 2, 3], [1, 2, 3], [1, 2, 3]]```\n",
    "\n",
    "C\t```[[1, 2, 3], [1, 2, 5], [1, 2, 3], [1, 2, 3]]```\n",
    "\n",
    "D\t```[[1, 2, 3], [1, 2, 3], [1, 2, 3], [1, 5, 3]]```\n"
   ]
  },
  {
   "cell_type": "code",
   "execution_count": null,
   "metadata": {},
   "outputs": [],
   "source": [
    "table = [[1, 2, 3], [1, 2, 3], [1, 2, 3], [1, 2, 3]]\n",
    "table [1][2] = 5"
   ]
  },
  {
   "cell_type": "code",
   "execution_count": null,
   "metadata": {},
   "outputs": [],
   "source": []
  },
  {
   "cell_type": "markdown",
   "metadata": {},
   "source": [
    "### QCM du 20 novembre"
   ]
  },
  {
   "cell_type": "markdown",
   "metadata": {},
   "source": [
    "**Q5**. On exécute le script suivant :\n",
    "\n",
    "```python\n",
    "inventaire = {'pommes': 430, 'bananes': 312,\n",
    "              'oranges' : 274, 'poires' : 137}\n",
    "\n",
    "stock = 0\n",
    "for fruit in inventaire.keys():\n",
    "    if fruit != 'bananes':\n",
    "        stock = stock + inventaire[fruit]\n",
    "```\n",
    "\n",
    "Que contient la variable stock à la fin de cette exécution ?\n",
    "\n",
    "\n",
    "**A**\t```{430, 274, 137}```\n",
    "\n",
    "**B**\t```312```\n",
    "\n",
    "**C**\t```841```\n",
    "\n",
    "**D**\t```{ 'pommes', 'oranges', 'poires' }```"
   ]
  },
  {
   "cell_type": "code",
   "execution_count": null,
   "metadata": {},
   "outputs": [],
   "source": [
    "inventaire = {'pommes': 430, 'bananes': 312,\n",
    "              'oranges' : 274, 'poires' : 137}\n",
    "\n",
    "stock = 0\n",
    "for fruit in inventaire.keys():\n",
    "    if fruit != 'bananes':\n",
    "        stock = stock + inventaire[fruit]"
   ]
  },
  {
   "cell_type": "code",
   "execution_count": null,
   "metadata": {},
   "outputs": [],
   "source": []
  },
  {
   "cell_type": "markdown",
   "metadata": {},
   "source": [
    "**Q6**. Quel est le résultat de l'évaluation de l'expression Python suivante ?\n",
    "\n",
    "```[ n * n for n in range(10) ]```\n",
    "\n",
    "**A**\t```[0, 1, 4, 9, 16, 25, 36, 49, 64, 81]```\n",
    "\n",
    "**B**\t```[0, 1, 4, 9, 16, 25, 36, 49, 64, 81, 100]```\n",
    "\n",
    "**C**\t```[0, 2, 4, 8, 16, 32, 64, 128, 256, 512]```\n",
    "\n",
    "**D**\t```[0, 2, 4, 8, 16, 32, 64, 128, 256, 512, 1024]```"
   ]
  },
  {
   "cell_type": "code",
   "execution_count": null,
   "metadata": {},
   "outputs": [],
   "source": [
    "[ n * n for n in range(10) ]"
   ]
  },
  {
   "cell_type": "code",
   "execution_count": null,
   "metadata": {},
   "outputs": [],
   "source": []
  },
  {
   "cell_type": "markdown",
   "metadata": {},
   "source": [
    "**Q7**. On a défini\n",
    "\n",
    "```python\n",
    "repertoire = [{'nom': 'Francette', 'poste': 412}, \n",
    "              {'nom': 'Jeanne', 'poste': 222}, \n",
    "              {'nom': 'Éric', 'poste': 231}]\n",
    "```\n",
    "\n",
    "Quelle expression permet d'accéder au poste d'Éric ?\n",
    "\n",
    "**A** ```repertoire[2]['poste']```\n",
    "\n",
    "**B**\t```repertoire['poste'][2]```\n",
    "\n",
    "**C** \t```repertoire['Éric']['poste']```\n",
    "\n",
    "**D**\t```repertoire['Éric']```\n"
   ]
  },
  {
   "cell_type": "code",
   "execution_count": null,
   "metadata": {},
   "outputs": [],
   "source": [
    "repertoire = [{'nom': 'Francette', 'poste': 412}, \n",
    "{'nom': 'Jeanne', 'poste': 222}, \n",
    "{'nom': 'Éric', 'poste': 231}]"
   ]
  },
  {
   "cell_type": "code",
   "execution_count": null,
   "metadata": {},
   "outputs": [],
   "source": [
    "repertoire[2]['poste']"
   ]
  },
  {
   "cell_type": "code",
   "execution_count": null,
   "metadata": {},
   "outputs": [],
   "source": [
    "repertoire['poste'][2]"
   ]
  },
  {
   "cell_type": "code",
   "execution_count": null,
   "metadata": {},
   "outputs": [],
   "source": [
    "repertoire['Éric']['poste']"
   ]
  },
  {
   "cell_type": "code",
   "execution_count": null,
   "metadata": {},
   "outputs": [],
   "source": [
    "repertoire['Éric']"
   ]
  },
  {
   "cell_type": "code",
   "execution_count": null,
   "metadata": {},
   "outputs": [],
   "source": []
  },
  {
   "cell_type": "markdown",
   "metadata": {},
   "source": [
    "**Q8**. Si on tape dans la console d'éxécution la commande :\n",
    "\n",
    "```[1,4,3] + [2,4,5]```\n",
    "\n",
    "qu'obtient-on ?\n",
    "\n",
    "**A**\t`[3, 8, 8]`\n",
    "\n",
    "**B**\t`[19]`\n",
    "\n",
    "**C**\t`[1, 4, 3, 2, 4, 5]` \n",
    "\n",
    "**D**\tun message d'erreur car l'addition n'est pas compatible avec les listes"
   ]
  },
  {
   "cell_type": "code",
   "execution_count": null,
   "metadata": {},
   "outputs": [],
   "source": [
    "[1,4,3] + [2,4,5]"
   ]
  },
  {
   "cell_type": "markdown",
   "metadata": {},
   "source": [
    "**Q9**. Qu'est-ce que le CSV ?\n",
    "\n",
    "\n",
    "**A**\tUn langage de programmation\n",
    "\n",
    "**B**\tUn format de fichier permettant de stocker de l’information\n",
    "\n",
    "**C** \tUn algorithme permettant de rechercher une information dans un fichier\n",
    "\n",
    "**D**\tUn format de fichier permettant de définir le style d’une page web"
   ]
  },
  {
   "cell_type": "markdown",
   "metadata": {},
   "source": [
    "**Q10**. On considère l’extraction suivante d'une base de données des départements français. Cette extraction a ensuite été sauvegardée dans un fichier texte.\n",
    "\n",
    "\"1\",\"01\",\"Ain\",\"AIN\",\"ain\",\"A500\"\n",
    "\n",
    "\"2\",\"02\",\"Aisne\",\"AISNE\",\"aisne\",\"A250\"\n",
    "\n",
    "\"3\",\"03\",\"Allier\",\"ALLIER\",\"allier\",\"A460\"\n",
    "\n",
    "\"4\",\"04\",\"Alpes-de-Haute-Provence\",\"ALPES-DE-HAUTE-PROVENCE\",\"alpes-de-haute-provence\",\"A412316152\"\n",
    "\n",
    "\"5\",\"05\",\"Hautes-Alpes\",\"HAUTES-ALPES\",\"hautes-alpes\",\"H32412\"\n",
    "\n",
    "Quel est le format de ce fichier ?\n",
    "\n",
    "**A**\tYML\n",
    "\n",
    "**B**\tXML\n",
    "\n",
    "**C**\tCSV\n",
    "\n",
    "**D**\tJSON\n"
   ]
  },
  {
   "cell_type": "markdown",
   "metadata": {},
   "source": [
    "**Q11**. On exécute le script suivant :\n",
    "\n",
    "```python\n",
    "asso = []\n",
    "L =  [\t['marc','marie'], ['marie','jean'], ['paul','marie'],  ['marie','marie'], ['marc','anne']   ]\n",
    "for c in L :\n",
    "     if c[1]==’marie’:\n",
    "           asso.append(c[0])\n",
    "```\n",
    "\n",
    "Que vaut asso à la fin de l'exécution ?\n",
    "\n",
    "**A**\t`['marc', 'jean', 'paul']`\n",
    "\n",
    "**B**\t`[['marc','marie'], ['paul','marie'], ['marie','marie']]`\n",
    "\n",
    "**C**\t`['marc', 'paul', 'marie']`\n",
    "\n",
    "**D**\t`['marie', 'anne']`\n"
   ]
  },
  {
   "cell_type": "code",
   "execution_count": null,
   "metadata": {},
   "outputs": [],
   "source": []
  },
  {
   "cell_type": "markdown",
   "metadata": {},
   "source": [
    "### QCM du 27 novembre"
   ]
  },
  {
   "cell_type": "markdown",
   "metadata": {},
   "source": [
    "**Q8**. On considère le dictionnaire\n",
    "\n",
    "```D = {1: 3, 2: 4, 3: 5, 4: 2, 5: 1}```\n",
    "\n",
    "Quelle est la valeur de ```D[D[D[2]]``` ?\n",
    "\n",
    "**A**\t2\n",
    "\n",
    "**B**\t3\n",
    "\n",
    "**C**\t4\n",
    "\n",
    "**D**\t5"
   ]
  },
  {
   "cell_type": "code",
   "execution_count": null,
   "metadata": {},
   "outputs": [],
   "source": [
    "D = {1: 3, 2: 4, 3: 5, 4: 2, 5: 1}"
   ]
  },
  {
   "cell_type": "code",
   "execution_count": null,
   "metadata": {},
   "outputs": [],
   "source": []
  },
  {
   "cell_type": "markdown",
   "metadata": {},
   "source": [
    "**Q9**. On considère la liste de listes suivante : \n",
    "\n",
    "```python\n",
    "tictactoe =[['X','O','O'],['O','O','O'],['O','O','X']]\n",
    "```\n",
    "\n",
    "Quelle instruction permet d'obtenir une diagonale de 'X' ?\n",
    "\n",
    "**A**\t```tictactoe[3] = 'X'```\n",
    "\n",
    "**B**\t```tictactoe[4] = 'X'```\n",
    "\n",
    "**C** \t```tictactoe[1][1] = 'X'```\n",
    "\n",
    "**D**\t```tictactoe[2][2] = 'X'```"
   ]
  },
  {
   "cell_type": "code",
   "execution_count": null,
   "metadata": {},
   "outputs": [],
   "source": [
    "tictactoe =[['X','O','O'],['O','O','O'],['O','O','X']]\n",
    "tictactoe[3] = 'X'"
   ]
  },
  {
   "cell_type": "code",
   "execution_count": null,
   "metadata": {},
   "outputs": [],
   "source": [
    "tictactoe =[['X','O','O'],['O','O','O'],['O','O','X']]\n",
    "tictactoe[4] = 'X'"
   ]
  },
  {
   "cell_type": "code",
   "execution_count": null,
   "metadata": {},
   "outputs": [],
   "source": [
    "tictactoe =[['X','O','O'],['O','O','O'],['O','O','X']]\n",
    "tictactoe[1][1] = 'X'"
   ]
  },
  {
   "cell_type": "code",
   "execution_count": null,
   "metadata": {},
   "outputs": [],
   "source": [
    "tictactoe =[['X','O','O'],['O','O','O'],['O','O','X']]\n",
    "tictactoe[2][2] = 'X'"
   ]
  },
  {
   "cell_type": "code",
   "execution_count": null,
   "metadata": {},
   "outputs": [],
   "source": []
  },
  {
   "cell_type": "markdown",
   "metadata": {},
   "source": [
    "**Q10**. Quelle est la valeur de l'expression ```[ 2*k + 1 for k in range(4) ]``` ?\n",
    "\n",
    "**A**\t```[1,3,5,7]```\n",
    "\n",
    "**B**\t```[0,1,2,3]```\n",
    "\n",
    "**C** \t```[3,5,7,9]```\n",
    "\n",
    "**D**\t```[1,2,3,4]```"
   ]
  },
  {
   "cell_type": "code",
   "execution_count": null,
   "metadata": {},
   "outputs": [],
   "source": [
    "[ 2*k + 1 for k in range(4) ]"
   ]
  },
  {
   "cell_type": "code",
   "execution_count": null,
   "metadata": {},
   "outputs": [],
   "source": []
  },
  {
   "cell_type": "markdown",
   "metadata": {},
   "source": [
    "**Q12**. On a extrait les deux premières lignes de différents fichiers. \n",
    "\n",
    "Déterminer celui qui est un authentique fichier CSV :\n",
    "\n",
    "**A**\t  Nom,Pays,Temps\n",
    "\n",
    "Camille Muffat,France,241.45\n",
    "    \n",
    "**B**\t  Nom Pays Temps\n",
    "\n",
    "Camille Muffat France 241.45\n",
    "    \n",
    "**C**\t  [\n",
    "\n",
    "\t{ \"Nom\": \"Camille Muffat\", \"Pays\": \"France\", \"Temps\": 241.45},\n",
    "    \n",
    "**D**\t  [\n",
    "\n",
    "\t{ Nom: \"Camille Muffat\", Pays: \"France\", Temps: 241.45},\n"
   ]
  },
  {
   "cell_type": "markdown",
   "metadata": {},
   "source": [
    "**Q13**. Quelle expression Python permet d’accéder au numéro de téléphone de Tournesol, sachant que le répertoire a été défini par l’affectation suivante :\n",
    "\n",
    "```python\n",
    "repertoire = [{'nom':'Dupont', 'tel':'5234'},{'nom':'Tournesol', 'tel':'5248'},{'nom':'Dupond', 'tel':'3452'}]\n",
    "```\n",
    "\n",
    "**A**\t```repertoire['Tournesol']```\n",
    "\n",
    "**B**\t```repertoire['tel'][1]```\n",
    "\n",
    "**C**\t```repertoire[1]['tel']```\n",
    "\n",
    "**D**\t```repertoire['Tournesol'][tel]```"
   ]
  },
  {
   "cell_type": "code",
   "execution_count": null,
   "metadata": {},
   "outputs": [],
   "source": [
    "repertoire = [{'nom':'Dupont', 'tel':'5234'},{'nom':'Tournesol', 'tel':'5248'},{'nom':'Dupond', 'tel':'3452'}]"
   ]
  },
  {
   "cell_type": "code",
   "execution_count": null,
   "metadata": {},
   "outputs": [],
   "source": [
    "repertoire['Tournesol']"
   ]
  },
  {
   "cell_type": "code",
   "execution_count": null,
   "metadata": {},
   "outputs": [],
   "source": [
    "repertoire['tel'][1]"
   ]
  },
  {
   "cell_type": "code",
   "execution_count": null,
   "metadata": {},
   "outputs": [],
   "source": [
    "repertoire[1]['tel']"
   ]
  },
  {
   "cell_type": "code",
   "execution_count": null,
   "metadata": {},
   "outputs": [],
   "source": [
    "repertoire['Tournesol'][tel]"
   ]
  },
  {
   "cell_type": "markdown",
   "metadata": {},
   "source": [
    "**Q23**. On définit :\n",
    "\n",
    "```python\n",
    "T = [{'fruit': 'banane', 'nombre': 25}, {'fruit': 'orange', 'nombre': 124},{'fruit': 'pomme', 'nombre': 75}, {'fruit': 'kiwi', 'nombre': 51}]\n",
    "``` \n",
    "\n",
    "Quelle expression a-t-elle pour valeur le nombre de pommes ?\n",
    "\n",
    "**A**\t```T[2]['nombre']```\n",
    "\n",
    "**B**\t```T[2,'nombre']```\n",
    "\n",
    "**C**\t```T[3]['nombre']```\n",
    "\n",
    "**D**\t```T[3,'nombre']```"
   ]
  },
  {
   "cell_type": "code",
   "execution_count": null,
   "metadata": {},
   "outputs": [],
   "source": [
    "T = [{'fruit': 'banane', 'nombre': 25}, {'fruit': 'orange', 'nombre': 124},{'fruit': 'pomme', 'nombre': 75}, {'fruit': 'kiwi', 'nombre': 51}]"
   ]
  },
  {
   "cell_type": "code",
   "execution_count": null,
   "metadata": {},
   "outputs": [],
   "source": [
    "T[2]['nombre']"
   ]
  },
  {
   "cell_type": "code",
   "execution_count": null,
   "metadata": {},
   "outputs": [],
   "source": [
    "T[2,'nombre']"
   ]
  },
  {
   "cell_type": "code",
   "execution_count": null,
   "metadata": {},
   "outputs": [],
   "source": [
    "T[3]['nombre']"
   ]
  },
  {
   "cell_type": "code",
   "execution_count": null,
   "metadata": {},
   "outputs": [],
   "source": [
    "T[3,'nombre']"
   ]
  },
  {
   "cell_type": "code",
   "execution_count": null,
   "metadata": {},
   "outputs": [],
   "source": []
  },
  {
   "cell_type": "markdown",
   "metadata": {},
   "source": [
    "## Travail sur une table en csv"
   ]
  },
  {
   "cell_type": "code",
   "execution_count": 1,
   "metadata": {},
   "outputs": [],
   "source": [
    "import csv\n",
    "with open('boxo.csv','r') as boxo:\n",
    "    table=[]\n",
    "    lecteur=csv.DictReader(boxo,delimiter=';')\n",
    "    for film in lecteur:\n",
    "        table.append(film)"
   ]
  },
  {
   "cell_type": "code",
   "execution_count": 2,
   "metadata": {},
   "outputs": [
    {
     "data": {
      "text/plain": [
       "[{'rang': '1',\n",
       "  'titre': 'Titanic',\n",
       "  'réalisateur': 'James Cameron',\n",
       "  'année': '1997',\n",
       "  'entrées': '20634793',\n",
       "  'pays': 'États-Unis'},\n",
       " {'rang': '2',\n",
       "  'titre': \"Bienvenue chez les Ch'tis\",\n",
       "  'réalisateur': 'Dany Boon',\n",
       "  'année': '2008',\n",
       "  'entrées': '20413165',\n",
       "  'pays': 'France'},\n",
       " {'rang': '3',\n",
       "  'titre': 'Intouchables',\n",
       "  'réalisateur': 'E. Toledano / O. Nakache',\n",
       "  'année': '2011',\n",
       "  'entrées': '19385300',\n",
       "  'pays': 'France'},\n",
       " {'rang': '4',\n",
       "  'titre': 'Blanche-Neige et les Sept Nains',\n",
       "  'réalisateur': 'David Hand',\n",
       "  'année': '1938',\n",
       "  'entrées': '18319651',\n",
       "  'pays': 'États-Unis'},\n",
       " {'rang': '5',\n",
       "  'titre': 'La Grande Vadrouille',\n",
       "  'réalisateur': 'Gérard Oury',\n",
       "  'année': '1966',\n",
       "  'entrées': '17273065',\n",
       "  'pays': 'France, Royaume-Uni'}]"
      ]
     },
     "execution_count": 2,
     "metadata": {},
     "output_type": "execute_result"
    }
   ],
   "source": [
    "table[:5]"
   ]
  },
  {
   "cell_type": "markdown",
   "metadata": {},
   "source": [
    "Nous allons reprendre quelques manipulations élémentaires sur la table que nous venons de lire, en utilisant les constructions :\n",
    "    \n",
    "* parcours de table,\n",
    "* filtrage de certaines lignes qui nous intéressent,\n",
    "* accumulation de données (somme, moyenne, maximum...)"
   ]
  },
  {
   "cell_type": "markdown",
   "metadata": {},
   "source": [
    "#### Nombre de films dans la base"
   ]
  },
  {
   "cell_type": "code",
   "execution_count": 3,
   "metadata": {},
   "outputs": [
    {
     "data": {
      "text/plain": [
       "100"
      ]
     },
     "execution_count": 3,
     "metadata": {},
     "output_type": "execute_result"
    }
   ],
   "source": [
    "nombre=0\n",
    "for film in table:\n",
    "    nombre=nombre+1\n",
    "nombre"
   ]
  },
  {
   "cell_type": "markdown",
   "metadata": {},
   "source": [
    "#### Minimum d'entrées des films français"
   ]
  },
  {
   "cell_type": "code",
   "execution_count": 4,
   "metadata": {},
   "outputs": [
    {
     "data": {
      "text/plain": [
       "6645177"
      ]
     },
     "execution_count": 4,
     "metadata": {},
     "output_type": "execute_result"
    }
   ],
   "source": [
    "minimum=999999999999\n",
    "for film in table:\n",
    "    if 'France' in film['pays']:\n",
    "        minimum=min(minimum,int(film['entrées']))\n",
    "minimum"
   ]
  },
  {
   "cell_type": "markdown",
   "metadata": {},
   "source": [
    "#### Moyenne des entrées des films américains"
   ]
  },
  {
   "cell_type": "code",
   "execution_count": 7,
   "metadata": {},
   "outputs": [
    {
     "data": {
      "text/plain": [
       "10080843.025"
      ]
     },
     "execution_count": 7,
     "metadata": {},
     "output_type": "execute_result"
    }
   ],
   "source": [
    "nombre=0\n",
    "somme=0\n",
    "for film in table:\n",
    "    if 'États-Unis'==film['pays']:\n",
    "        nombre=nombre+1\n",
    "        somme=somme+int(film['entrées'])\n",
    "somme/nombre"
   ]
  },
  {
   "cell_type": "markdown",
   "metadata": {},
   "source": [
    "#### Nombre de films qui ont fait plus de 10000000 entrées on bien sont en coproduction"
   ]
  },
  {
   "cell_type": "code",
   "execution_count": 9,
   "metadata": {},
   "outputs": [
    {
     "data": {
      "text/plain": [
       "54"
      ]
     },
     "execution_count": 9,
     "metadata": {},
     "output_type": "execute_result"
    }
   ],
   "source": [
    "nombre=0\n",
    "for film in table:\n",
    "    if int(film['entrées'])>=10000000 or ',' in film['pays']:\n",
    "        nombre=nombre+1\n",
    "nombre"
   ]
  },
  {
   "cell_type": "markdown",
   "metadata": {},
   "source": [
    "#### Liste des titres des films français ou en partie français"
   ]
  },
  {
   "cell_type": "code",
   "execution_count": 10,
   "metadata": {},
   "outputs": [
    {
     "data": {
      "text/plain": [
       "[\"Bienvenue chez les Ch'tis\",\n",
       " 'Intouchables',\n",
       " 'La Grande Vadrouille',\n",
       " 'Astérix et Obélix : Mission Cléopâtre',\n",
       " 'Les Visiteurs',\n",
       " 'Le Petit Monde de don Camillo',\n",
       " \"Qu'est-ce qu'on a fait au Bon Dieu ?\",\n",
       " 'Le Corniaud',\n",
       " 'Les Bronzés 3 : Amis pour la vie',\n",
       " 'Trois hommes et un couffin',\n",
       " 'Taxi 2',\n",
       " 'La Guerre des boutons',\n",
       " 'Les Misérables',\n",
       " 'Le Dîner de cons',\n",
       " 'Le Grand Bleu',\n",
       " \"L'Ours\",\n",
       " 'Emmanuelle',\n",
       " 'La Vache et le Prisonnier',\n",
       " 'Astérix et Obélix contre César',\n",
       " 'Le Bataillon du ciel',\n",
       " \"Le Fabuleux Destin d'Amélie Poulain\",\n",
       " 'Les Choristes',\n",
       " 'Rien à déclarer',\n",
       " 'Les Couloirs du temps : Les Visiteurs 2',\n",
       " 'Un Indien dans la ville',\n",
       " 'Le Gendarme de Saint-Tropez',\n",
       " 'Le Cinquième Élément',\n",
       " 'Les Bidasses en folie',\n",
       " 'La Famille Bélier',\n",
       " 'Le Retour de don Camillo',\n",
       " 'La Vérité si je mens ! 2',\n",
       " 'Les Aventures de Rabbi Jacob',\n",
       " 'Jean de Florette',\n",
       " 'Jour de fête',\n",
       " 'Monsieur Vincent',\n",
       " \"Si Versailles m'était conté...\",\n",
       " 'Les Grandes Vacances',\n",
       " 'Le gendarme se marie',\n",
       " 'Astérix aux Jeux olympiques',\n",
       " 'Mission spéciale',\n",
       " 'Fanfan la Tulipe',\n",
       " \"Qu'est-ce qu'on a encore fait au Bon Dieu ?\",\n",
       " 'Les Trois Frères',\n",
       " 'Nous irons à Paris',\n",
       " 'Manon des sources']"
      ]
     },
     "execution_count": 10,
     "metadata": {},
     "output_type": "execute_result"
    }
   ],
   "source": [
    "liste=[]\n",
    "for film in table:\n",
    "    if 'France' in film['pays']:\n",
    "        liste.append(film['titre'])\n",
    "liste"
   ]
  },
  {
   "cell_type": "code",
   "execution_count": null,
   "metadata": {},
   "outputs": [],
   "source": []
  },
  {
   "cell_type": "code",
   "execution_count": null,
   "metadata": {},
   "outputs": [],
   "source": []
  },
  {
   "cell_type": "markdown",
   "metadata": {},
   "source": [
    "## Au travail"
   ]
  },
  {
   "cell_type": "markdown",
   "metadata": {},
   "source": [
    "Il s'agit maintenant de travailler sur le fichier `boxoPrenomN.csv` qu'on trouvera sur github.com/LyceeCurieVire/NSI dans le répértoire Tables. \n",
    "\n",
    "Bien entendu, chacun travaillera sur son propre fichier."
   ]
  },
  {
   "cell_type": "markdown",
   "metadata": {},
   "source": [
    "Pour chaque question, on attend bien entendu la réponse mais surtout le code qui a permis d'obtenir cette réponse.\n",
    "\n",
    "On pourra bien sûr s'inspirer des exemples proposés ci-dessus."
   ]
  },
  {
   "cell_type": "markdown",
   "metadata": {},
   "source": [
    "**Q1** Combien trouve-t-on de films français dans la table ?"
   ]
  },
  {
   "cell_type": "code",
   "execution_count": null,
   "metadata": {},
   "outputs": [],
   "source": []
  },
  {
   "cell_type": "code",
   "execution_count": null,
   "metadata": {},
   "outputs": [],
   "source": []
  },
  {
   "cell_type": "markdown",
   "metadata": {},
   "source": [
    "**Q2** Quel est le nombre moyen d'entrées pour les films anglais ?"
   ]
  },
  {
   "cell_type": "code",
   "execution_count": null,
   "metadata": {},
   "outputs": [],
   "source": []
  },
  {
   "cell_type": "code",
   "execution_count": null,
   "metadata": {},
   "outputs": [],
   "source": []
  },
  {
   "cell_type": "markdown",
   "metadata": {},
   "source": [
    "**Q3** Quel est le nombre moyen d'entrées pour les films états-uniens (ou en coproduction avec les Etats-Unis) sortis entre 1980 compris et 2000 compris ?"
   ]
  },
  {
   "cell_type": "code",
   "execution_count": null,
   "metadata": {},
   "outputs": [],
   "source": []
  },
  {
   "cell_type": "code",
   "execution_count": null,
   "metadata": {},
   "outputs": [],
   "source": []
  },
  {
   "cell_type": "markdown",
   "metadata": {},
   "source": [
    "**Q4** Quel est le nombre maximum d'entrées pour un film ni français ni états-unien ?"
   ]
  },
  {
   "cell_type": "code",
   "execution_count": null,
   "metadata": {},
   "outputs": [],
   "source": []
  },
  {
   "cell_type": "code",
   "execution_count": null,
   "metadata": {},
   "outputs": [],
   "source": []
  },
  {
   "cell_type": "markdown",
   "metadata": {},
   "source": [
    "**Q5** Lister tous les films italiens ou allemands."
   ]
  },
  {
   "cell_type": "code",
   "execution_count": null,
   "metadata": {},
   "outputs": [],
   "source": []
  },
  {
   "cell_type": "code",
   "execution_count": null,
   "metadata": {},
   "outputs": [],
   "source": []
  },
  {
   "cell_type": "markdown",
   "metadata": {},
   "source": [
    "**Q6** Donner la liste des films en coproduction avant 2010 ou qui ont fait plus de dix millions d'entrées."
   ]
  },
  {
   "cell_type": "code",
   "execution_count": null,
   "metadata": {},
   "outputs": [],
   "source": []
  },
  {
   "cell_type": "code",
   "execution_count": null,
   "metadata": {},
   "outputs": [],
   "source": []
  },
  {
   "cell_type": "markdown",
   "metadata": {},
   "source": [
    "**Q7** Quelle est la proportion des films français qui sont en coproduction avec un autre pays ? "
   ]
  },
  {
   "cell_type": "code",
   "execution_count": null,
   "metadata": {},
   "outputs": [],
   "source": []
  },
  {
   "cell_type": "code",
   "execution_count": null,
   "metadata": {},
   "outputs": [],
   "source": []
  },
  {
   "cell_type": "markdown",
   "metadata": {},
   "source": [
    "**Q8** Combien de films ont un/le réalisateur qui s'appelle Jackson ?"
   ]
  },
  {
   "cell_type": "code",
   "execution_count": null,
   "metadata": {},
   "outputs": [],
   "source": []
  },
  {
   "cell_type": "code",
   "execution_count": null,
   "metadata": {},
   "outputs": [],
   "source": []
  },
  {
   "cell_type": "markdown",
   "metadata": {},
   "source": [
    "**Q9** Donner les dates des films dont le nom contient \"Harry\"."
   ]
  },
  {
   "cell_type": "code",
   "execution_count": null,
   "metadata": {},
   "outputs": [],
   "source": []
  },
  {
   "cell_type": "code",
   "execution_count": null,
   "metadata": {},
   "outputs": [],
   "source": []
  },
  {
   "cell_type": "markdown",
   "metadata": {},
   "source": [
    "**Q10** Quel est le film qui a fait le moins d'netrés parmi les films qui sont soit états-uniens avant 2000 (inclus) soit d'un autre pays depuis 2001 ?"
   ]
  },
  {
   "cell_type": "code",
   "execution_count": null,
   "metadata": {},
   "outputs": [],
   "source": []
  },
  {
   "cell_type": "code",
   "execution_count": null,
   "metadata": {},
   "outputs": [],
   "source": []
  },
  {
   "cell_type": "code",
   "execution_count": null,
   "metadata": {},
   "outputs": [],
   "source": []
  },
  {
   "cell_type": "code",
   "execution_count": null,
   "metadata": {},
   "outputs": [],
   "source": []
  }
 ],
 "metadata": {
  "kernelspec": {
   "display_name": "Python 3",
   "language": "python",
   "name": "python3"
  },
  "language_info": {
   "codemirror_mode": {
    "name": "ipython",
    "version": 3
   },
   "file_extension": ".py",
   "mimetype": "text/x-python",
   "name": "python",
   "nbconvert_exporter": "python",
   "pygments_lexer": "ipython3",
   "version": "3.8.5"
  }
 },
 "nbformat": 4,
 "nbformat_minor": 4
}
