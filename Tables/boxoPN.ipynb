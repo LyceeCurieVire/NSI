{
 "cells": [
  {
   "cell_type": "code",
   "execution_count": 1,
   "metadata": {},
   "outputs": [],
   "source": [
    "liste=['GildasB','LeonB','FabianBYB','AlexandreD','KelyanD','IlanG','CarlaL','MelvinL','ThibaultL','EliottL',\n",
    "      'AxelM','MarionM','EmmaNV','JosephN','EstebaneP','RomainP','SimonRL','LilianR']"
   ]
  },
  {
   "cell_type": "code",
   "execution_count": 2,
   "metadata": {},
   "outputs": [],
   "source": [
    "from random import random"
   ]
  },
  {
   "cell_type": "code",
   "execution_count": 3,
   "metadata": {},
   "outputs": [],
   "source": [
    "def creeFichier(eleve):\n",
    "    nomFichier='boxo'+eleve+'.csv'\n",
    "    sortie=open(nomFichier,'w')\n",
    "    entree=open('boxo.csv','r')\n",
    "    lignes=entree.readlines()\n",
    "    sortie.write(lignes[0])\n",
    "    for numero in range(1,len(lignes)):\n",
    "        if random()<0.8:\n",
    "            sortie.write(lignes[numero])\n",
    "    sortie.close()\n",
    "    entree.close()"
   ]
  },
  {
   "cell_type": "code",
   "execution_count": 4,
   "metadata": {},
   "outputs": [],
   "source": [
    "for n in liste: \n",
    "    creeFichier(n)"
   ]
  },
  {
   "cell_type": "code",
   "execution_count": null,
   "metadata": {},
   "outputs": [],
   "source": []
  }
 ],
 "metadata": {
  "kernelspec": {
   "display_name": "Python 3",
   "language": "python",
   "name": "python3"
  },
  "language_info": {
   "codemirror_mode": {
    "name": "ipython",
    "version": 3
   },
   "file_extension": ".py",
   "mimetype": "text/x-python",
   "name": "python",
   "nbconvert_exporter": "python",
   "pygments_lexer": "ipython3",
   "version": "3.8.10"
  }
 },
 "nbformat": 4,
 "nbformat_minor": 4
}
